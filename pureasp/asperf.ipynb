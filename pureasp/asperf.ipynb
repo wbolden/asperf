{
 "cells": [
  {
   "cell_type": "markdown",
   "metadata": {},
   "source": [
    "# Circuit Generation\n",
    "\n",
    "The python script below creates 3 unary multipliers, i.e. circuits that multiply a single input integer by a fixed prime intenger. In this case we have circuits that multiply input by 13, 7, and 5. The script writes verilog, then uses yosys to convert from an abstract design to a circuit level one, then convert the circuit level design into ANSprolog facts."
   ]
  },
  {
   "cell_type": "code",
   "execution_count": 1012,
   "metadata": {},
   "outputs": [
    {
     "name": "stdout",
     "output_type": "stream",
     "text": [
      "Overwriting circuit-gen.py\n"
     ]
    }
   ],
   "source": [
    "%%file circuit-gen.py\n",
    "import sys, subprocess, json, os\n",
    "try:\n",
    "    width = int(sys.argv[1])\n",
    "except:\n",
    "    print 'usage: python circuit-gen.py port-width'\n",
    "    exit()\n",
    "    \n",
    "\"\"\"\n",
    "module mul13(mul13in, mul13out);\n",
    "    parameter WIDTH = {0};\n",
    "    input [WIDTH-1:0] mul13in;\n",
    "    output [WIDTH-1:0] mul13out;\n",
    "    \n",
    "    assign mul13out = mul13in * 13;\n",
    "endmodule\n",
    "\n",
    "module mul7(mul7in, mul7out);\n",
    "    parameter WIDTH = {0};\n",
    "    input [WIDTH-1:0] mul7in;\n",
    "    output [WIDTH-1:0] mul7out;\n",
    "    \n",
    "    assign mul7out = mul7in * 7;\n",
    "endmodule\n",
    "\n",
    "module mul5(mul5in, mul5out);\n",
    "    parameter WIDTH = {0};\n",
    "    input [WIDTH-1:0] mul5in;\n",
    "    output [WIDTH-1:0] mul5out;\n",
    "    \n",
    "    assign mul5out = mul5in * 5;\n",
    "endmodule\n",
    "\"\"\"\n",
    "verilog_src = \\\n",
    "\"\"\"\n",
    "module shr4(shr4in, shr4out);\n",
    "    parameter WIDTH = {0};\n",
    "    input [WIDTH-1:0] shr4in;\n",
    "    output [WIDTH-1:0] shr4out;\n",
    "    \n",
    "    assign shr4out = shr4in >> 4;\n",
    "endmodule\n",
    "\n",
    "\n",
    "module mod53(modin1,modout);\n",
    "    parameter WIDTH = {0};\n",
    "    input [WIDTH-1:0] modin1;\n",
    "    output [WIDTH-1:0] modout;\n",
    "    assign modout = modin1 % 53;\n",
    "endmodule\n",
    "\n",
    "/*\n",
    "module mod(modin1,modin2,modout);\n",
    "    parameter WIDTH = {0};\n",
    "    input [WIDTH-1:0] modin1;\n",
    "    input [WIDTH-1:0] modin2;\n",
    "    output [WIDTH-1:0] modout;\n",
    "    assign modout = modin1 % modin2;\n",
    "endmodule\n",
    "\n",
    "module shr(shrin1,shrin2,shrout);\n",
    "    parameter WIDTH = {0};\n",
    "    input [WIDTH-1:0] shrin1;\n",
    "    input [WIDTH-1:0] shrin2;\n",
    "    output [WIDTH-1:0] shrout;\n",
    "    assign shrout = shrin1 >> shrin2;\n",
    "endmodule\n",
    "\n",
    "module mul(mulin1,mulin2,mulout);\n",
    "    parameter WIDTH = {0};\n",
    "    input [WIDTH-1:0] mulin1;\n",
    "    input [WIDTH-1:0] mulin2;\n",
    "    output [WIDTH-1:0] mulout;\n",
    "    assign mulout = mulin1 % mulin2;\n",
    "endmodule\n",
    "\n",
    "module sub(subin1,subin2,subout);\n",
    "    parameter WIDTH = {0};\n",
    "    input [WIDTH-1:0] subin1;\n",
    "    input [WIDTH-1:0] subin2;\n",
    "    output [WIDTH-1:0] subout;\n",
    "    assign subout = subin1 % subin2;\n",
    "endmodule\n",
    "*/\n",
    "\n",
    "\"\"\".format(width)\n",
    "\n",
    "yosys_cmd = \\\n",
    "\"\"\"\n",
    "yosys \\\n",
    "-p \"synth; abc -liberty mycells.lib; clean; write_json tmp.json\" \\\n",
    "-QT -f verilog tmp.v\n",
    "\"\"\"\n",
    "\n",
    "outfile = open('tmp.v','w')\n",
    "outfile.write(verilog_src)\n",
    "outfile.close()\n",
    "\n",
    "\n",
    "\n",
    "FNULL = open(os.devnull, 'w')\n",
    "subprocess.call(yosys_cmd,shell=True,stdout=FNULL)\n",
    "\n",
    "modules = json.load(open('tmp.json'))['modules']\n",
    "outfile = open('circuit_lib.lp','w')\n",
    "for m in modules:\n",
    "    outfile.write('device({}).\\n'.format(m))\n",
    "    dev = modules[m]\n",
    "    count = 0\n",
    "    for p in dev['ports']:\n",
    "        port = dev['ports'][p]\n",
    "        outfile.write('device_port_direction({},{},{},{}).\\n'.format(m,p,port['direction'],count))\n",
    "        count += 1\n",
    "        outfile.write('device_port_width({},{},{}).\\n'.format(m,p,len(port['bits'])))\n",
    "        for i,b in enumerate(port['bits']):\n",
    "            \n",
    "            if(type(b) != int):\n",
    "                outfile.write('device_port_bit_literal({},{},{},{}).\\n'.format(m,p,i,b))\n",
    "            else:\n",
    "                outfile.write('device_port_bit_wire({},{},{},{}).\\n'.format(m,p,i,b))\n",
    "    for c in dev['cells'].values():\n",
    "        con = c['connections']\n",
    "        if c['type'] == 'AND':\n",
    "            outfile.write('device_gate({},and_gate,({}, {}, {})).\\n'.format(m,con['A'][0],con['B'][0],con['Y'][0]))\n",
    "        if c['type'] == 'OR':\n",
    "            outfile.write('device_gate({},or_gate,({}, {}, {})).\\n'.format(m,con['A'][0],con['B'][0],con['Y'][0]))\n",
    "        if c['type'] == 'NOT':\n",
    "            outfile.write('device_gate({},not_gate,({}, {})).\\n'.format(m,con['A'][0],con['Y'][0])) \n",
    "outfile.close()\n",
    "#%os.remove('tmp.v')\n",
    "#os.remove('tmp.json')"
   ]
  },
  {
   "cell_type": "markdown",
   "metadata": {},
   "source": [
    "Here is an example of the circuit specification rules. These facts use the same predicates as were used in the Grid Embedding assignment."
   ]
  },
  {
   "cell_type": "code",
   "execution_count": 1013,
   "metadata": {},
   "outputs": [
    {
     "name": "stdout",
     "output_type": "stream",
     "text": [
      "device(shr4).\r\n",
      "device_port_direction(shr4,shr4out,output,0).\r\n",
      "device_port_width(shr4,shr4out,30).\r\n",
      "device_port_bit_wire(shr4,shr4out,0,6).\r\n",
      "device_port_bit_wire(shr4,shr4out,1,7).\r\n",
      "device_port_bit_wire(shr4,shr4out,2,8).\r\n",
      "device_port_bit_wire(shr4,shr4out,3,9).\r\n",
      "device_port_bit_wire(shr4,shr4out,4,10).\r\n",
      "device_port_bit_wire(shr4,shr4out,5,11).\r\n",
      "device_port_bit_wire(shr4,shr4out,6,12).\r\n"
     ]
    }
   ],
   "source": [
    "!python2 circuit-gen.py 30\n",
    "!head circuit_lib.lp"
   ]
  },
  {
   "cell_type": "markdown",
   "metadata": {},
   "source": [
    "The rules below, taken from P2, have been modified so that each signal-state, i.e. the presecence or absence of signal on each wire, is associated with a node and key being hashed. So now instead of having two circuits, we create a separate circuit for each combination of node i.d., hash key, and device type."
   ]
  },
  {
   "cell_type": "code",
   "execution_count": 902,
   "metadata": {},
   "outputs": [
    {
     "name": "stdout",
     "output_type": "stream",
     "text": [
      "Overwriting circuit_int.lp\n"
     ]
    }
   ],
   "source": [
    "%%file circuit_int.lp\n",
    "input_port(Port) :- device_port_direction(Device,Port,input,C).\n",
    "\n",
    "output_port(Port) :- device_port_direction(Device,Port,output,C).\n",
    "\n",
    "port_width(Port,Size) :-\n",
    "    device_port_width(Device,Port,Size).\n",
    "\n",
    "% Define all the gate rules\n",
    "signal(I,K,Device,Out,1-(1-V1)*(1-V2)) :-\n",
    "    op(I,Device),\n",
    "    device_gate(Device,or_gate,(In1,In2,Out)),\n",
    "    signal(I,K,Device,In1,V1); signal(I,K,Device,In2,V2).\n",
    "\n",
    "signal(I,K,Device,Out,V1*V2) :-\n",
    "    op(I,Device),\n",
    "    device_gate(Device,and_gate,(In1,In2,Out)),\n",
    "    signal(I,K,Device,In1,V1), signal(I,K,Device,In2,V2).\n",
    "\n",
    "signal(I,K,Device,Out,1-V1) :-\n",
    "    op(I,Device),\n",
    "    device_gate(Device,not_gate,(In,Out)),\n",
    "    signal(I,K,Device,In,V1).\n",
    "\n",
    "% get input signal\n",
    "signal(I,K,Device,Wire,Value) :-\n",
    "    op(I,Device),\n",
    "    input_signal(I,K,Port,Bit,Value),\n",
    "    device_port_bit_wire(Device,Port,Bit,Wire).\n",
    "%*\n",
    "signal(I,K,Device,Wire,Value) :-\n",
    "    op(I,Device),\n",
    "    node(I),\n",
    "    key(K),\n",
    "    device_port_bit_literal(Device,Port,Bit,Value).\n",
    "    \n",
    "    *%\n",
    "\n",
    "% get output signal\n",
    "output_signal(I,K,Bit,Value) :-\n",
    "    signal(I,K,Device,Wire,Value),\n",
    "    output_port(Port),\n",
    "    device_port_bit_wire(Device,Port,Bit,Wire).\n",
    "\n",
    "output_signal(I,K,Bit,Value) :-\n",
    "    op(I,Device),\n",
    "    node(I),\n",
    "    key(K),\n",
    "    output_port(Port),\n",
    "    device_port_bit_literal(Device,Port,Bit,Value).   \n",
    "    "
   ]
  },
  {
   "cell_type": "code",
   "execution_count": 805,
   "metadata": {},
   "outputs": [
    {
     "name": "stdout",
     "output_type": "stream",
     "text": [
      "Writing generate.lp\n"
     ]
    }
   ],
   "source": [
    "%%file generate.lp\n",
    "\n",
    "%%% Each node has 0-2 children and is connected to the root\n",
    "%%% Childen have greater ids than their parents\n",
    "0 {edge(A,B):id(B),B>A} 2 :- rooted(A).\n",
    "    \n",
    "%%%Choose one operation for each node\n",
    "\n",
    "1{op(I, T):bin_op(T)}1 :- binary(I).\n",
    "1{op(I, T):un_op(T)}1 :- unary(I).\n",
    "1{op(I, T):null_op(T)}1 :- leaf(I).\n",
    "    \n",
    "\n",
    "%%%Create constants\n",
    "1 {const_bit(I,B,0..1)} 1 :- op(I,const),bit_index(B).\n",
    "\n",
    "%%% Children cant have multiple parents\n",
    "%%% It might actually be useful to allow this, so not really an AST anymore\n",
    "%%% :- id(I), not 0 #sum{1,P:edge(P,I)} 1.\n",
    "          \n",
    "%%% TODO:\n",
    "% All subdags contain at least one key item if the head of the tree is an operation\n",
    "% This is just an optimization and shouldnt affect the final answer (assuming we tell it to find optimal)\n",
    "%%%\n",
    "\n"
   ]
  },
  {
   "cell_type": "code",
   "execution_count": 1014,
   "metadata": {},
   "outputs": [
    {
     "name": "stdout",
     "output_type": "stream",
     "text": [
      "Overwriting verify.lp\n"
     ]
    }
   ],
   "source": [
    "%%file verify.lp\n",
    "\n",
    "binary(I) :- node(I), 2{edge(I,C)}2.\n",
    "unary(I) :- node(I), 1{edge(I,C)}1.\n",
    "leaf(I) :- node(I), 0{edge(I,C)}0.\n",
    "      \n",
    "        \n",
    "%bin_op(xor;and;mod;mul;sub).\n",
    "%bin_op(xor;and;mod;mul;sub).\n",
    "bin_op(xor;and).\n",
    "%un_op(mul13;mul7;mul5;neg).\n",
    "un_op(neg;shr4). %shr4\n",
    "null_op(const;key).\n",
    "\n",
    "type(T) :- bin_op(T).\n",
    "type(T) :- un_op(T).\n",
    "type(T) :- null_op(T).\n",
    "    \n",
    "\n",
    "\n",
    "%%%Evaluate the dag, (Key, Id, Bit, Value)\n",
    "\n",
    "%%% Basic operations (and,xor,neg,const,key)\n",
    "\n",
    "val_bit(K,I,B,V1&V2) :- \n",
    "    op(I,and),\n",
    "    edge(I,I1),\n",
    "    edge(I,I2),\n",
    "    I1 < I2, \n",
    "    val_bit(K,I1,B,V1), \n",
    "    val_bit(K,I2,B,V2).\n",
    "    \n",
    "val_bit(K,I,B,V1^V2) :- \n",
    "    op(I,xor),\n",
    "    edge(I,I1),\n",
    "    edge(I,I2),\n",
    "    I1 < I2, \n",
    "    val_bit(K,I1,B,V1), \n",
    "    val_bit(K,I2,B,V2).\n",
    "    \n",
    "val_bit(K,I,B,1-V1) :- \n",
    "    op(I,neg),\n",
    "    edge(I,I1),\n",
    "    val_bit(K,I1,B,V1).\n",
    "    \n",
    "val_bit(K,I,B,V) :- \n",
    "    key(K), \n",
    "    op(I,const), \n",
    "    const_bit(I,B,V).\n",
    "    \n",
    "val_bit(K,I,B,V) :- \n",
    "    key_bit(K,B,V), \n",
    "    op(I,key).\n",
    "    \n",
    "%%% Advanced operations (mul,shl,shr,mod,div,add,sub), need yosys circuits\n",
    "    \n",
    "% if there is a node multiplying by 13, set the appropriate bit as input\n",
    "input_signal(I,K,P,B,V1) :- \n",
    "    op(I,D),\n",
    "    edge(I,I1),\n",
    "    val_bit(K,I1,B,V1),\n",
    "    device_port_direction(D,P,input,C).\n",
    "\n",
    "left_edge(I,I1) :- edge(I,I1), edge(I,I2), I1 < I2.\n",
    "    \n",
    "right_edge(I,I2) :- edge(I,I1), edge(I,I2), I1 < I2.\n",
    "    \n",
    "left_port(D,P1) :-\n",
    "    device_port_direction(D,P1,input,C1),\n",
    "    device_port_direction(D,P2,input,C2),\n",
    "    C1 < C2.\n",
    "\n",
    "right_port(D,P2) :-\n",
    "    device_port_direction(D,P1,input,C1),\n",
    "    device_port_direction(D,P2,input,C2),\n",
    "    C1 < C2.\n",
    "    \n",
    "input_signal(I,K,P,B,V) :-\n",
    "    op(I,D),\n",
    "    left_edge(I,I1),\n",
    "    left_port(D,P),\n",
    "    val_bit(K,I1,B,V).\n",
    "\n",
    "input_signal(I,K,P,B,V) :-\n",
    "    op(I,D),\n",
    "    right_edge(I,I2),\n",
    "    right_port(D,P),\n",
    "    val_bit(K,I2,B,V).\n",
    "    \n",
    "    \n",
    "val_bit(K,I,B,V) :- output_signal(I,K,B,V).\n",
    "\n",
    "% get hash bit from node 0\n",
    "hash_bit(K,B,V) :- val_bit(K,0,B,V).\n",
    "\n",
    "% add up the hash bits for each key\n",
    "%hash_val(K,H) :- key(K), H = #sum{V*2**B:hash_bit(K,B,V)}.\n",
    "    \n",
    "%%:- hash_val(K,H), H > max_index.\n",
    "    \n",
    "%occupied(B,V) :- hash(K,B,V).\n",
    "%collision :- occupied(V), 2 {hash(K,V)}.\n",
    "    \n",
    "%%%collision :- key(K1), key(K2), K1!=K2, hash(K1,V), hash(K2,V).\n",
    "\n",
    "hash_bit_agree(K1,K2,B) :- K1 < K2, hash_bit(K1,B,V), hash_bit(K2,B,V).\n",
    "    \n",
    "%%% Maybe we can use a custom theory progagator to ignore quagratic cost here\n",
    "collision(K1,K2) :- \n",
    "    key(K1);\n",
    "    key(K2); \n",
    "    hash_bit_agree(K1,K2,B):B=0..bits-1.\n",
    "    %K1 < K2;\n",
    "    %0 = #sum {V*2**B,v1:hash_bit(K1,B,V); -V*2**B,v2:hash_bit(K2,B,V)}.\n",
    "    \n",
    ":- collision(K1,K2).\n",
    "    \n",
    "%\n",
    "    \n",
    "%%% Visualization rules\n",
    "\n",
    "%#show children(I,N) : node(I), N = #count{C:edge(I,C)}.\n",
    "%#show op_count(I, X) : node(I), X = #count{T:op(I,T),type(T)}.\n",
    "    \n",
    "%#show hash_bit/3.\n",
    "%#show key/1.\n",
    "#show edge/2.\n",
    "#show op/2.\n",
    "%#show hash_val/2.\n",
    "\n",
    "%:- key(K), 114 #sum{ V*2**B:hash_bit(K,B,V)}.\n",
    "\n",
    "    \n",
    "1 { worst_key(K):key(K)} 1.\n",
    ":- worst_key(K1), key(K2), 1 #sum{ -V*2**B,k1:hash_bit(K1,B,V);  V*2**B,k2:hash_bit(K2,B,V)}.\n",
    "   \n",
    "% ... there is some other K2 with a hash that is higher than this one.\n",
    "\n",
    "    \n",
    "#minimize{ V*2**B@2,K:hash_bit(K,B,V),worst_key(K)}.\n",
    "\n",
    "\n",
    "%#minimize{ V*2**B@2,K:hash_bit(K,B,V)}.\n",
    "\n",
    "#minimize{1@1,V:node(V)}.\n",
    "\n",
    "#script (python)\n",
    "def main(prg):\n",
    "    prg.ground([(\"base\",[])])\n",
    "    prg.solve(on_model=on_model)\n",
    "    \n",
    "import re\n",
    "from collections import defaultdict\n",
    "\n",
    "def on_model(model):\n",
    "    hashes = defaultdict(int)\n",
    "    for s in model.symbols(atoms=True):\n",
    "        if s.name == \"hash_bit\":\n",
    "            hashes[s.arguments[0].number] += s.arguments[2].number*2**s.arguments[1].number\n",
    "            \n",
    "\n",
    "    for pair in hashes.items():\n",
    "        print(\"hash(%d) = %d\" % pair)\n",
    "#end.\n"
   ]
  },
  {
   "cell_type": "code",
   "execution_count": 997,
   "metadata": {},
   "outputs": [
    {
     "name": "stdout",
     "output_type": "stream",
     "text": [
      "Overwriting globals.lp\n"
     ]
    }
   ],
   "source": [
    "%%file globals.lp\n",
    "\n",
    "bit(0;1).\n",
    "\n",
    "#const bits=30.\n",
    "#const max_index = 30.\n",
    "\n",
    "bit_index(0..bits-1).\n",
    "\n",
    "id(0..15).\n",
    "\n",
    "rooted(0).\n",
    "rooted(B) :- rooted(A), edge(A,B).\n",
    "node(I) :- rooted(I)."
   ]
  },
  {
   "cell_type": "code",
   "execution_count": 1000,
   "metadata": {},
   "outputs": [
    {
     "name": "stdout",
     "output_type": "stream",
     "text": [
      "Overwriting keys.lp\n"
     ]
    }
   ],
   "source": [
    "%%file keys.lp\n",
    "\n",
    "key(0..1).\n",
    "%key(56).\n",
    "%key(342).\n",
    "%key(33).\n",
    "%key(124).\n",
    "%key(209..251).\n",
    "\n",
    "key(65906).\n",
    "key(85162).\n",
    "key(43530).\n",
    "key(77141).\n",
    "key(15426).\n",
    "key(57633).\n",
    "key(97824).\n",
    "key(7369).\n",
    "key(93849).\n",
    "key(48831).\n",
    "key(52260).\n",
    "\n",
    "\n",
    "#script (python)\n",
    "def bit_values(k,n):\n",
    "    k = k.number\n",
    "    n = n.number\n",
    "    results = []\n",
    "    for i in range(n):\n",
    "        b = i\n",
    "        v = 1 if (1<<i)&k else 0\n",
    "        results.append((b,v))\n",
    "    return results\n",
    "#end.\n",
    "key_bit(I,B,V) :- key(I), (B,V)=@bit_values(I,bits)."
   ]
  },
  {
   "cell_type": "code",
   "execution_count": 1015,
   "metadata": {
    "scrolled": true
   },
   "outputs": [
    {
     "name": "stdout",
     "output_type": "stream",
     "text": [
      "clingo version 5.2.0\n",
      "Reading from keys.lp ...\n",
      "Solving...\n",
      "hash(65906) = 65906\n",
      "hash(85162) = 85162\n",
      "hash(43530) = 43530\n",
      "hash(15426) = 15426\n",
      "hash(97824) = 97824\n",
      "hash(52260) = 52260\n",
      "hash(0) = 0\n",
      "hash(77141) = 77141\n",
      "hash(57633) = 57633\n",
      "hash(7369) = 7369\n",
      "hash(93849) = 93849\n",
      "hash(48831) = 48831\n",
      "hash(1) = 1\n",
      "Answer: 1\n",
      "op(0,key)\n",
      "Optimization: 97824 1\n",
      "hash(77141) = 0\n",
      "hash(57633) = 66564\n",
      "hash(7369) = 73732\n",
      "hash(93849) = 4\n",
      "hash(48831) = 65536\n",
      "hash(1) = 74756\n",
      "hash(65906) = 9221\n",
      "hash(85162) = 8197\n",
      "hash(43530) = 66565\n",
      "hash(15426) = 65541\n",
      "hash(97824) = 5\n",
      "hash(52260) = 73729\n",
      "hash(0) = 74757\n",
      "Answer: 2\n",
      "edge(0,3) edge(0,1) edge(1,8) edge(1,2) edge(2,13) edge(2,4) edge(3,12) edge(3,4) edge(4,8) edge(4,5) edge(5,11) edge(5,6) edge(6,12) edge(6,7) edge(7,14) edge(7,13) edge(8,13) edge(8,10) edge(10,12) edge(10,11) edge(13,15) op(15,const) op(14,const) op(11,const) op(12,key) op(13,shr4) op(3,xor) op(5,xor) op(7,xor) op(10,xor) op(0,and) op(1,and) op(2,and) op(4,and) op(6,and) op(8,and)\n",
      "Optimization: 74757 15\n",
      "hash(65906) = 24\n",
      "hash(77141) = 28\n",
      "hash(57633) = 72\n",
      "hash(7369) = 4096\n",
      "hash(93849) = 256\n",
      "hash(48831) = 4128\n",
      "hash(1) = 328\n",
      "hash(85162) = 257\n",
      "hash(43530) = 321\n",
      "hash(15426) = 4105\n",
      "hash(97824) = 41\n",
      "hash(52260) = 265\n",
      "hash(0) = 329\n",
      "Answer: 3\n",
      "edge(0,5) edge(0,1) edge(1,4) edge(1,2) edge(2,11) edge(2,3) edge(3,14) edge(3,10) edge(4,8) edge(4,6) edge(5,9) edge(5,7) edge(6,14) edge(6,11) edge(7,13) edge(8,13) edge(8,10) edge(9,11) edge(10,15) edge(10,12) edge(11,15) edge(11,12) edge(13,14) op(15,const) op(14,const) op(12,key) op(13,shr4) op(9,shr4) op(7,neg) op(2,xor) op(3,xor) op(5,xor) op(6,xor) op(8,xor) op(10,xor) op(11,xor) op(0,and) op(1,and) op(4,and)\n",
      "Optimization: 4128 16\n",
      "hash(65906) = 16\n",
      "hash(77141) = 148\n",
      "hash(57633) = 64\n",
      "hash(7369) = 8\n",
      "hash(93849) = 264\n",
      "hash(48831) = 40\n",
      "hash(1) = 320\n",
      "hash(85162) = 265\n",
      "hash(43530) = 449\n",
      "hash(15426) = 129\n",
      "hash(97824) = 161\n",
      "hash(52260) = 385\n",
      "hash(0) = 321\n",
      "Answer: 4\n",
      "edge(0,5) edge(0,1) edge(1,4) edge(1,2) edge(2,11) edge(2,3) edge(3,14) edge(3,10) edge(4,8) edge(4,6) edge(5,9) edge(5,7) edge(6,14) edge(6,11) edge(7,13) edge(8,13) edge(8,10) edge(9,11) edge(10,15) edge(10,12) edge(11,15) edge(11,12) edge(13,14) op(15,const) op(14,const) op(12,key) op(13,shr4) op(9,shr4) op(7,neg) op(2,xor) op(3,xor) op(5,xor) op(6,xor) op(8,xor) op(10,xor) op(11,xor) op(0,and) op(1,and) op(4,and)\n",
      "Optimization: 449 16\n",
      "hash(65906) = 16\n",
      "hash(77141) = 20\n",
      "hash(57633) = 64\n",
      "hash(7369) = 8\n",
      "hash(93849) = 264\n",
      "hash(48831) = 40\n",
      "hash(1) = 320\n",
      "hash(85162) = 265\n",
      "hash(43530) = 323\n",
      "hash(15426) = 3\n",
      "hash(97824) = 33\n",
      "hash(52260) = 257\n",
      "hash(0) = 321\n",
      "Answer: 5\n",
      "edge(0,5) edge(0,1) edge(1,4) edge(1,2) edge(2,11) edge(2,3) edge(3,14) edge(3,10) edge(4,8) edge(4,6) edge(5,9) edge(5,7) edge(6,14) edge(6,11) edge(7,13) edge(8,13) edge(8,10) edge(9,11) edge(10,15) edge(10,12) edge(11,15) edge(11,12) edge(13,14) op(15,const) op(14,const) op(12,key) op(13,shr4) op(9,shr4) op(7,neg) op(2,xor) op(3,xor) op(5,xor) op(6,xor) op(8,xor) op(10,xor) op(11,xor) op(0,and) op(1,and) op(4,and)\n",
      "Optimization: 323 16\n",
      "hash(65906) = 80\n",
      "hash(77141) = 48\n",
      "hash(57633) = 0\n",
      "hash(7369) = 40\n",
      "hash(93849) = 264\n",
      "hash(48831) = 12\n",
      "hash(1) = 288\n",
      "hash(85162) = 265\n",
      "hash(43530) = 257\n",
      "hash(15426) = 33\n",
      "hash(97824) = 1\n",
      "hash(52260) = 261\n",
      "hash(0) = 289\n",
      "Answer: 6\n",
      "edge(0,5) edge(0,1) edge(1,4) edge(1,2) edge(2,11) edge(2,3) edge(3,14) edge(3,10) edge(4,8) edge(4,6) edge(5,9) edge(5,7) edge(6,14) edge(6,11) edge(7,13) edge(8,13) edge(8,10) edge(9,11) edge(10,15) edge(10,12) edge(11,15) edge(11,12) edge(13,14) op(15,const) op(14,const) op(12,key) op(13,shr4) op(9,shr4) op(7,neg) op(2,xor) op(3,xor) op(5,xor) op(6,xor) op(8,xor) op(10,xor) op(11,xor) op(0,and) op(1,and) op(4,and)\n",
      "Optimization: 289 16\n",
      "hash(65906) = 80\n",
      "hash(77141) = 18\n",
      "hash(57633) = 0\n",
      "hash(7369) = 10\n",
      "hash(93849) = 266\n",
      "hash(48831) = 44\n",
      "hash(1) = 258\n",
      "hash(85162) = 265\n",
      "hash(43530) = 257\n",
      "hash(15426) = 1\n",
      "hash(97824) = 33\n",
      "hash(52260) = 261\n",
      "hash(0) = 259\n",
      "Answer: 7\n",
      "edge(0,5) edge(0,1) edge(1,4) edge(1,2) edge(2,11) edge(2,3) edge(3,14) edge(3,10) edge(4,8) edge(4,6) edge(5,9) edge(5,7) edge(6,14) edge(6,11) edge(7,13) edge(8,13) edge(8,10) edge(9,11) edge(10,15) edge(10,12) edge(11,15) edge(11,12) edge(13,14) op(15,const) op(14,const) op(12,key) op(13,shr4) op(9,shr4) op(7,neg) op(2,xor) op(3,xor) op(5,xor) op(6,xor) op(8,xor) op(10,xor) op(11,xor) op(0,and) op(1,and) op(4,and)\n",
      "Optimization: 266 16\n",
      "hash(65906) = 80\n",
      "hash(77141) = 16\n",
      "hash(57633) = 0\n",
      "hash(7369) = 8\n",
      "hash(93849) = 264\n",
      "hash(48831) = 44\n",
      "hash(1) = 256\n",
      "hash(85162) = 265\n",
      "hash(43530) = 259\n",
      "hash(15426) = 3\n",
      "hash(97824) = 33\n",
      "hash(52260) = 261\n",
      "hash(0) = 257\n",
      "Answer: 8\n",
      "edge(0,5) edge(0,1) edge(1,4) edge(1,2) edge(2,11) edge(2,3) edge(3,14) edge(3,10) edge(4,8) edge(4,6) edge(5,9) edge(5,7) edge(6,14) edge(6,11) edge(7,13) edge(8,13) edge(8,10) edge(9,11) edge(10,15) edge(10,12) edge(11,15) edge(11,12) edge(13,14) op(15,const) op(14,const) op(12,key) op(13,shr4) op(9,shr4) op(7,neg) op(2,xor) op(3,xor) op(5,xor) op(6,xor) op(8,xor) op(10,xor) op(11,xor) op(0,and) op(1,and) op(4,and)\n",
      "Optimization: 265 16\n",
      "hash(65906) = 144\n",
      "hash(77141) = 82\n",
      "hash(57633) = 132\n",
      "hash(7369) = 74\n",
      "hash(93849) = 14\n",
      "hash(48831) = 40\n",
      "hash(1) = 134\n",
      "hash(85162) = 13\n",
      "hash(43530) = 5\n",
      "hash(15426) = 65\n",
      "hash(97824) = 37\n",
      "hash(52260) = 1\n",
      "hash(0) = 135\n",
      "Answer: 9\n",
      "edge(0,5) edge(0,1) edge(1,4) edge(1,2) edge(2,11) edge(2,3) edge(3,14) edge(3,10) edge(4,8) edge(4,6) edge(5,9) edge(5,7) edge(6,14) edge(6,11) edge(7,13) edge(8,13) edge(8,10) edge(9,11) edge(10,15) edge(10,12) edge(11,15) edge(11,12) edge(13,14) op(15,const) op(14,const) op(12,key) op(13,shr4) op(9,shr4) op(7,neg) op(2,xor) op(3,xor) op(5,xor) op(6,xor) op(8,xor) op(10,xor) op(11,xor) op(0,and) op(1,and) op(4,and)\n",
      "Optimization: 144 16\n",
      "hash(65906) = 132\n",
      "hash(77141) = 2\n",
      "hash(57633) = 128\n",
      "hash(7369) = 14\n",
      "hash(93849) = 74\n",
      "hash(48831) = 104\n",
      "hash(1) = 130\n",
      "hash(85162) = 73\n",
      "hash(43530) = 1\n",
      "hash(15426) = 5\n",
      "hash(97824) = 97\n",
      "hash(52260) = 65\n",
      "hash(0) = 131\n",
      "Answer: 10\n",
      "edge(0,5) edge(0,1) edge(1,4) edge(1,2) edge(2,11) edge(2,3) edge(3,14) edge(3,10) edge(4,8) edge(4,6) edge(5,9) edge(5,7) edge(6,14) edge(6,11) edge(7,13) edge(8,13) edge(8,10) edge(9,11) edge(10,15) edge(10,12) edge(11,15) edge(11,12) edge(13,14) op(15,const) op(14,const) op(12,key) op(13,shr4) op(9,shr4) op(7,neg) op(2,xor) op(3,xor) op(5,xor) op(6,xor) op(8,xor) op(10,xor) op(11,xor) op(0,and) op(1,and) op(4,and)\n",
      "Optimization: 132 16\n",
      "hash(65906) = 20\n",
      "hash(77141) = 18\n",
      "hash(57633) = 0\n",
      "hash(7369) = 14\n",
      "hash(93849) = 74\n",
      "hash(48831) = 104\n",
      "hash(1) = 2\n",
      "hash(85162) = 73\n",
      "hash(43530) = 1\n",
      "hash(15426) = 5\n",
      "hash(97824) = 97\n",
      "hash(52260) = 65\n",
      "hash(0) = 3\n",
      "Answer: 11\n",
      "edge(0,5) edge(0,1) edge(1,4) edge(1,2) edge(2,11) edge(2,3) edge(3,14) edge(3,10) edge(4,8) edge(4,6) edge(5,9) edge(5,7) edge(6,14) edge(6,11) edge(7,13) edge(8,13) edge(8,10) edge(9,11) edge(10,15) edge(10,12) edge(11,15) edge(11,12) edge(13,14) op(15,const) op(14,const) op(12,key) op(13,shr4) op(9,shr4) op(7,neg) op(2,xor) op(3,xor) op(5,xor) op(6,xor) op(8,xor) op(10,xor) op(11,xor) op(0,and) op(1,and) op(4,and)\n",
      "Optimization: 104 16\n",
      "hash(65906) = 4\n",
      "hash(77141) = 2\n",
      "hash(57633) = 64\n",
      "hash(7369) = 14\n",
      "hash(93849) = 10\n",
      "hash(48831) = 40\n",
      "hash(1) = 66\n",
      "hash(85162) = 9\n",
      "hash(43530) = 65\n",
      "hash(15426) = 5\n",
      "hash(97824) = 33\n",
      "hash(52260) = 1\n",
      "hash(0) = 67\n",
      "Answer: 12\n",
      "edge(0,5) edge(0,1) edge(1,4) edge(1,2) edge(2,11) edge(2,3) edge(3,14) edge(3,10) edge(4,8) edge(4,6) edge(5,9) edge(5,7) edge(6,14) edge(6,11) edge(7,13) edge(8,13) edge(8,10) edge(9,11) edge(10,15) edge(10,12) edge(11,15) edge(11,12) edge(13,14) op(15,const) op(14,const) op(12,key) op(13,shr4) op(9,shr4) op(7,neg) op(2,xor) op(3,xor) op(5,xor) op(6,xor) op(8,xor) op(10,xor) op(11,xor) op(0,and) op(1,and) op(4,and)\n",
      "Optimization: 67 16\n",
      "hash(65906) = 60\n",
      "hash(77141) = 26\n",
      "hash(57633) = 40\n",
      "hash(7369) = 6\n",
      "hash(93849) = 2\n",
      "hash(48831) = 0\n",
      "hash(1) = 10\n",
      "hash(85162) = 33\n",
      "hash(43530) = 1\n",
      "hash(15426) = 13\n",
      "hash(97824) = 9\n",
      "hash(52260) = 41\n",
      "hash(0) = 11\n",
      "Answer: 13\n",
      "edge(0,5) edge(0,1) edge(1,4) edge(1,2) edge(2,11) edge(2,3) edge(3,14) edge(3,10) edge(4,8) edge(4,6) edge(5,9) edge(5,7) edge(6,14) edge(6,11) edge(7,13) edge(8,13) edge(8,10) edge(9,11) edge(10,15) edge(10,12) edge(11,15) edge(11,12) edge(13,14) op(15,const) op(14,const) op(12,key) op(13,shr4) op(9,shr4) op(7,neg) op(2,xor) op(3,xor) op(5,xor) op(6,xor) op(8,xor) op(10,xor) op(11,xor) op(0,and) op(1,and) op(4,and)\n",
      "Optimization: 60 16\n"
     ]
    },
    {
     "name": "stdout",
     "output_type": "stream",
     "text": [
      "hash(65906) = 0\n",
      "hash(77141) = 32\n",
      "hash(57633) = 6\n",
      "hash(7369) = 40\n",
      "hash(93849) = 12\n",
      "hash(48831) = 8\n",
      "hash(1) = 36\n",
      "hash(85162) = 13\n",
      "hash(43530) = 5\n",
      "hash(15426) = 33\n",
      "hash(97824) = 7\n",
      "hash(52260) = 3\n",
      "hash(0) = 37\n",
      "Answer: 14\n",
      "edge(0,5) edge(0,1) edge(1,4) edge(1,2) edge(2,11) edge(2,3) edge(3,14) edge(3,10) edge(4,8) edge(4,6) edge(5,9) edge(5,7) edge(6,14) edge(6,11) edge(7,13) edge(8,13) edge(8,10) edge(9,11) edge(10,15) edge(10,12) edge(11,15) edge(11,12) edge(13,14) op(15,const) op(14,const) op(12,key) op(13,shr4) op(9,shr4) op(7,neg) op(2,xor) op(3,xor) op(5,xor) op(6,xor) op(8,xor) op(10,xor) op(11,xor) op(0,and) op(1,and) op(4,and)\n",
      "Optimization: 40 16\n",
      "hash(65906) = 8\n",
      "hash(77141) = 10\n",
      "hash(57633) = 12\n",
      "hash(7369) = 18\n",
      "hash(93849) = 22\n",
      "hash(48831) = 16\n",
      "hash(1) = 30\n",
      "hash(85162) = 21\n",
      "hash(43530) = 23\n",
      "hash(15426) = 27\n",
      "hash(97824) = 29\n",
      "hash(52260) = 25\n",
      "hash(0) = 31\n",
      "Answer: 15\n",
      "edge(0,4) edge(0,1) edge(1,3) edge(1,2) edge(2,13) edge(2,8) edge(3,11) edge(3,7) edge(4,6) edge(4,5) edge(5,8) edge(5,6) edge(6,11) edge(6,9) edge(7,13) edge(7,8) edge(8,12) edge(8,10) edge(9,15) edge(9,13) edge(10,15) edge(10,12) edge(11,12) edge(12,14) edge(12,13) edge(13,15) edge(13,14) op(14,const) op(15,key) op(11,shr4) op(0,xor) op(1,xor) op(2,xor) op(3,xor) op(7,xor) op(8,xor) op(9,xor) op(10,xor) op(12,xor) op(4,and) op(5,and) op(6,and) op(13,and)\n",
      "Optimization: 31 16\n",
      "hash(65906) = 8\n",
      "hash(77141) = 10\n",
      "hash(57633) = 12\n",
      "hash(7369) = 2\n",
      "hash(93849) = 6\n",
      "hash(48831) = 0\n",
      "hash(1) = 14\n",
      "hash(85162) = 5\n",
      "hash(43530) = 7\n",
      "hash(15426) = 11\n",
      "hash(97824) = 13\n",
      "hash(52260) = 9\n",
      "hash(0) = 15\n",
      "Answer: 16\n",
      "edge(0,4) edge(0,1) edge(1,3) edge(1,2) edge(2,13) edge(2,8) edge(3,11) edge(3,7) edge(4,6) edge(4,5) edge(5,8) edge(5,6) edge(6,11) edge(6,9) edge(7,13) edge(7,8) edge(8,12) edge(8,10) edge(9,15) edge(9,13) edge(10,15) edge(10,12) edge(11,12) edge(12,14) edge(12,13) edge(13,15) edge(13,14) op(14,const) op(15,key) op(11,shr4) op(0,xor) op(1,xor) op(2,xor) op(3,xor) op(7,xor) op(8,xor) op(9,xor) op(10,xor) op(12,xor) op(4,and) op(5,and) op(6,and) op(13,and)\n",
      "Optimization: 15 16\n",
      "^C\n",
      "*** Info : (clingo): Sending shutdown signal...\n",
      "*** ERROR: (clingo): <python>: error: error calling main function:\n",
      "  Traceback (most recent call last):\n",
      "    File \"<verify.lp:146:1-163:6>\", line 4, in main\n",
      "  RuntimeError: solving stopped by signal\n",
      "\n",
      "*** Info : (clingo): Shutdown completed in 0.030 seconds\n",
      "SATISFIABLE\n",
      "\n",
      "INTERRUPTED  : 1\n",
      "Models       : 16+\n",
      "  Optimum    : unknown\n",
      "Optimization : 15 16\n",
      "Calls        : 1\n",
      "Time         : 74499.931s (Solving: 74494.41s 1st Model: 0.20s Unsat: 0.00s)\n",
      "CPU Time     : 74490.156s\n"
     ]
    },
    {
     "ename": "KeyboardInterrupt",
     "evalue": "",
     "output_type": "error",
     "traceback": [
      "\u001b[0;31m---------------------------------------------------------------------------\u001b[0m",
      "\u001b[0;31mKeyboardInterrupt\u001b[0m                         Traceback (most recent call last)",
      "\u001b[0;32m<ipython-input-1015-8340abac2c4f>\u001b[0m in \u001b[0;36m<module>\u001b[0;34m()\u001b[0m\n\u001b[0;32m----> 1\u001b[0;31m \u001b[0mget_ipython\u001b[0m\u001b[0;34m(\u001b[0m\u001b[0;34m)\u001b[0m\u001b[0;34m.\u001b[0m\u001b[0msystem\u001b[0m\u001b[0;34m(\u001b[0m\u001b[0;34mu'clingo keys.lp generate.lp verify.lp globals.lp circuit_int.lp circuit_lib.lp'\u001b[0m\u001b[0;34m)\u001b[0m\u001b[0;34m\u001b[0m\u001b[0m\n\u001b[0m",
      "\u001b[0;32m/usr/lib/python2.7/site-packages/IPython/core/interactiveshell.pyc\u001b[0m in \u001b[0;36msystem_piped\u001b[0;34m(self, cmd)\u001b[0m\n\u001b[1;32m   2207\u001b[0m         \u001b[0;31m# a non-None value would trigger :func:`sys.displayhook` calls.\u001b[0m\u001b[0;34m\u001b[0m\u001b[0;34m\u001b[0m\u001b[0m\n\u001b[1;32m   2208\u001b[0m         \u001b[0;31m# Instead, we store the exit_code in user_ns.\u001b[0m\u001b[0;34m\u001b[0m\u001b[0;34m\u001b[0m\u001b[0m\n\u001b[0;32m-> 2209\u001b[0;31m         \u001b[0mself\u001b[0m\u001b[0;34m.\u001b[0m\u001b[0muser_ns\u001b[0m\u001b[0;34m[\u001b[0m\u001b[0;34m'_exit_code'\u001b[0m\u001b[0;34m]\u001b[0m \u001b[0;34m=\u001b[0m \u001b[0msystem\u001b[0m\u001b[0;34m(\u001b[0m\u001b[0mself\u001b[0m\u001b[0;34m.\u001b[0m\u001b[0mvar_expand\u001b[0m\u001b[0;34m(\u001b[0m\u001b[0mcmd\u001b[0m\u001b[0;34m,\u001b[0m \u001b[0mdepth\u001b[0m\u001b[0;34m=\u001b[0m\u001b[0;36m1\u001b[0m\u001b[0;34m)\u001b[0m\u001b[0;34m)\u001b[0m\u001b[0;34m\u001b[0m\u001b[0m\n\u001b[0m\u001b[1;32m   2210\u001b[0m \u001b[0;34m\u001b[0m\u001b[0m\n\u001b[1;32m   2211\u001b[0m     \u001b[0;32mdef\u001b[0m \u001b[0msystem_raw\u001b[0m\u001b[0;34m(\u001b[0m\u001b[0mself\u001b[0m\u001b[0;34m,\u001b[0m \u001b[0mcmd\u001b[0m\u001b[0;34m)\u001b[0m\u001b[0;34m:\u001b[0m\u001b[0;34m\u001b[0m\u001b[0m\n",
      "\u001b[0;32m/usr/lib/python2.7/site-packages/IPython/utils/_process_posix.pyc\u001b[0m in \u001b[0;36msystem\u001b[0;34m(self, cmd)\u001b[0m\n\u001b[1;32m    184\u001b[0m             \u001b[0;32mfinally\u001b[0m\u001b[0;34m:\u001b[0m\u001b[0;34m\u001b[0m\u001b[0m\n\u001b[1;32m    185\u001b[0m                 \u001b[0;31m# Ensure the subprocess really is terminated\u001b[0m\u001b[0;34m\u001b[0m\u001b[0;34m\u001b[0m\u001b[0m\n\u001b[0;32m--> 186\u001b[0;31m                 \u001b[0mchild\u001b[0m\u001b[0;34m.\u001b[0m\u001b[0mterminate\u001b[0m\u001b[0;34m(\u001b[0m\u001b[0mforce\u001b[0m\u001b[0;34m=\u001b[0m\u001b[0mTrue\u001b[0m\u001b[0;34m)\u001b[0m\u001b[0;34m\u001b[0m\u001b[0m\n\u001b[0m\u001b[1;32m    187\u001b[0m         \u001b[0;31m# add isalive check, to ensure exitstatus is set:\u001b[0m\u001b[0;34m\u001b[0m\u001b[0;34m\u001b[0m\u001b[0m\n\u001b[1;32m    188\u001b[0m         \u001b[0mchild\u001b[0m\u001b[0;34m.\u001b[0m\u001b[0misalive\u001b[0m\u001b[0;34m(\u001b[0m\u001b[0;34m)\u001b[0m\u001b[0;34m\u001b[0m\u001b[0m\n",
      "\u001b[0;32m/usr/lib/python2.7/site-packages/pexpect/pty_spawn.pyc\u001b[0m in \u001b[0;36mterminate\u001b[0;34m(self, force)\u001b[0m\n\u001b[1;32m    601\u001b[0m                 \u001b[0;32mreturn\u001b[0m \u001b[0mTrue\u001b[0m\u001b[0;34m\u001b[0m\u001b[0m\n\u001b[1;32m    602\u001b[0m             \u001b[0mself\u001b[0m\u001b[0;34m.\u001b[0m\u001b[0mkill\u001b[0m\u001b[0;34m(\u001b[0m\u001b[0msignal\u001b[0m\u001b[0;34m.\u001b[0m\u001b[0mSIGCONT\u001b[0m\u001b[0;34m)\u001b[0m\u001b[0;34m\u001b[0m\u001b[0m\n\u001b[0;32m--> 603\u001b[0;31m             \u001b[0mtime\u001b[0m\u001b[0;34m.\u001b[0m\u001b[0msleep\u001b[0m\u001b[0;34m(\u001b[0m\u001b[0mself\u001b[0m\u001b[0;34m.\u001b[0m\u001b[0mdelayafterterminate\u001b[0m\u001b[0;34m)\u001b[0m\u001b[0;34m\u001b[0m\u001b[0m\n\u001b[0m\u001b[1;32m    604\u001b[0m             \u001b[0;32mif\u001b[0m \u001b[0;32mnot\u001b[0m \u001b[0mself\u001b[0m\u001b[0;34m.\u001b[0m\u001b[0misalive\u001b[0m\u001b[0;34m(\u001b[0m\u001b[0;34m)\u001b[0m\u001b[0;34m:\u001b[0m\u001b[0;34m\u001b[0m\u001b[0m\n\u001b[1;32m    605\u001b[0m                 \u001b[0;32mreturn\u001b[0m \u001b[0mTrue\u001b[0m\u001b[0;34m\u001b[0m\u001b[0m\n",
      "\u001b[0;31mKeyboardInterrupt\u001b[0m: "
     ]
    }
   ],
   "source": [
    "!clingo keys.lp generate.lp verify.lp globals.lp circuit_int.lp circuit_lib.lp"
   ]
  },
  {
   "cell_type": "code",
   "execution_count": 860,
   "metadata": {},
   "outputs": [
    {
     "name": "stdout",
     "output_type": "stream",
     "text": [
      "Overwriting simpletest.lp\n"
     ]
    }
   ],
   "source": [
    "%%file simpletest.lp\n",
    "\n",
    "\n",
    "op(0,shr4).\n",
    "edge(0,1).\n",
    "op(1,key).\n",
    "\n",
    "%*\n",
    "\n",
    "edge(0,1).\n",
    "op(0,shr4).\n",
    "\n",
    "edge(1,4).\n",
    "op(1,shr4).\n",
    "\n",
    "op(4,key).\n",
    "*%"
   ]
  },
  {
   "cell_type": "code",
   "execution_count": 855,
   "metadata": {
    "scrolled": true
   },
   "outputs": [
    {
     "name": "stdout",
     "output_type": "stream",
     "text": [
      "clingo version 5.2.0\r\n",
      "Reading from keys.lp ...\r\n",
      "verify.lp:48:5-21: info: atom does not occur in any rule head:\r\n",
      "  const_bit(I,B,V)\r\n",
      "\r\n",
      "Solving...\r\n",
      "Answer: 1\r\n",
      "edge(0,1) edge(1,4) op(0,shr4) op(1,shr4) op(4,key)\r\n",
      "SATISFIABLE\r\n",
      "\r\n",
      "Models       : 1+\r\n",
      "Calls        : 1\r\n",
      "Time         : 0.034s (Solving: 0.00s 1st Model: 0.00s Unsat: 0.00s)\r\n",
      "CPU Time     : 0.033s\r\n"
     ]
    }
   ],
   "source": [
    "!clingo keys.lp simpletest.lp verify.lp globals.lp circuit_int.lp circuit_lib.lp"
   ]
  },
  {
   "cell_type": "code",
   "execution_count": 904,
   "metadata": {
    "scrolled": true
   },
   "outputs": [
    {
     "name": "stdout",
     "output_type": "stream",
     "text": [
      "clingo version 5.2.0\r\n",
      "Reading from keys.lp ...\r\n",
      "verify.lp:48:5-21: info: atom does not occur in any rule head:\r\n",
      "  const_bit(I,B,V)\r\n",
      "\r\n",
      "Solving...\r\n",
      "UNSATISFIABLE\r\n",
      "\r\n",
      "Models       : 0\r\n",
      "Calls        : 1\r\n",
      "Time         : 0.036s (Solving: 0.00s 1st Model: 0.00s Unsat: 0.00s)\r\n",
      "CPU Time     : 0.037s\r\n"
     ]
    }
   ],
   "source": [
    "!clingo keys.lp simpletest.lp verify.lp globals.lp circuit_int.lp circuit_lib.lp"
   ]
  },
  {
   "cell_type": "markdown",
   "metadata": {},
   "source": [
    "I guess the above would make the basic structure of the AST, but still need some way assign values to the leaf nodes and allow those to be evaluated. No obivous way how to do that."
   ]
  },
  {
   "cell_type": "code",
   "execution_count": 817,
   "metadata": {},
   "outputs": [
    {
     "name": "stdout",
     "output_type": "stream",
     "text": [
      "Overwriting tests.yaml\n"
     ]
    }
   ],
   "source": [
    "%%file tests.yaml\n",
    "\n",
    "Definitions:\n",
    "    globals: {filename: globals.lp}\n",
    "    gen: {filename: generate.lp}\n",
    "    verify: {filename: verify.lp}\n",
    "    cint: {filename: circuit_int.lp}\n",
    "    clib: {filename: circuit_lib.lp}\n",
    "        \n",
    "Modules:\n",
    "    - globals \n",
    "    - verify \n",
    "    - cint \n",
    "    - clib\n",
    "        \n",
    "Test Constant one key:\n",
    "    Program: |\n",
    "        key(0).\n",
    "        op(0,key).\n",
    "    Expect: SAT\n",
    "        \n",
    "Test Constant two keys:        \n",
    "    Program: |\n",
    "        key(0).\n",
    "        key(1).\n",
    "        op(0,const).\n",
    "        const_bit(0,B,0) :- B=0..bits-1.\n",
    "    Expect: UNSAT\n",
    "        \n",
    "Test Key two keys:\n",
    "    Program: |\n",
    "        key(0).\n",
    "        key(1).\n",
    "        op(0,key).\n",
    "    Expect: SAT"
   ]
  },
  {
   "cell_type": "code",
   "execution_count": 818,
   "metadata": {},
   "outputs": [
    {
     "name": "stdout",
     "output_type": "stream",
     "text": [
      "Test tests.yaml :: Constant one key ... ok\n",
      "Test tests.yaml :: Constant two keys ... ok\n",
      "Test tests.yaml :: Key two keys ... ok\n",
      "\n",
      "----------------------------------------------------------------------\n",
      "Ran 3 tests in 0.082s\n",
      "\n",
      "OK\n"
     ]
    }
   ],
   "source": [
    "!ansunit -vv tests.yaml"
   ]
  },
  {
   "cell_type": "code",
   "execution_count": 69,
   "metadata": {
    "scrolled": true
   },
   "outputs": [
    {
     "name": "stdout",
     "output_type": "stream",
     "text": [
      "clingo version 5.2.1\n",
      "Reading from keys.lp\n",
      "*** ERROR: (clingo): keys.lp:21:33-52: error: error calling python function:\n",
      "  Traceback (most recent call last):\n",
      "    File \"<keys.lp:9:1-19:6>\", line 6, in bit_values\n",
      "  TypeError: range() integer end argument expected, got NoneType.\n",
      "\n",
      "UNKNOWN\n",
      "\n",
      "Models       : 0+\n",
      "Calls        : 1\n",
      "Time         : 0.037s (Solving: 0.00s 1st Model: 0.00s Unsat: 0.00s)\n",
      "CPU Time     : 0.025s\n"
     ]
    }
   ],
   "source": [
    "!clingo keys.lp"
   ]
  },
  {
   "cell_type": "code",
   "execution_count": null,
   "metadata": {
    "collapsed": true
   },
   "outputs": [],
   "source": []
  },
  {
   "cell_type": "markdown",
   "metadata": {},
   "source": [
    "# Everything below is garbage"
   ]
  },
  {
   "cell_type": "code",
   "execution_count": null,
   "metadata": {
    "collapsed": true
   },
   "outputs": [],
   "source": []
  },
  {
   "cell_type": "code",
   "execution_count": 9,
   "metadata": {
    "scrolled": true
   },
   "outputs": [
    {
     "name": "stdout",
     "output_type": "stream",
     "text": [
      "clingo version 5.2.1\n",
      "Reading from items.lp ...\n",
      "Solving...\n",
      "Answer: 1\n",
      "item(123) item(23) item(55) item(67) item(100) item(34234) item(23123) item(1) item(2) item(3) item(4) item(5) item(6) item(7) item(8) item(9) item(10) coef(79) mod(83)\n",
      "SATISFIABLE\n",
      "\n",
      "Models       : 1+\n",
      "Calls        : 1\n",
      "Time         : 0.842s (Solving: 0.00s 1st Model: 0.00s Unsat: 0.00s)\n",
      "CPU Time     : 0.714s\n"
     ]
    }
   ],
   "source": [
    "!clingo items.lp perfect.lp"
   ]
  },
  {
   "cell_type": "code",
   "execution_count": 10,
   "metadata": {},
   "outputs": [
    {
     "name": "stdout",
     "output_type": "stream",
     "text": [
      "Overwriting genhash.lp\n"
     ]
    }
   ],
   "source": [
    "%%file genhash.lp\n",
    "\n",
    "#const corange = 10.\n",
    "constant(1..corange).\n",
    "input(1..5).\n",
    "\n",
    "\n",
    "idrange(0..10).\n",
    "\n",
    "\n",
    "\n",
    "%%% piece(id,child_id_1,child_id_2).\n",
    "2 {piece(A,B,C):idrange(A),idrange(B),idrange(C)}.\n",
    "\n",
    "%%% At most one piece per id\n",
    ":- idrange(A), not 0 #sum{1,B,C:piece(A,B,C)} 1.\n",
    "        \n",
    "%%% Piece appears at most once as a child\n",
    ":- idrange(P), not 0 #sum{1,A,C,left:piece(A,P,C); 1,A,B,right:piece(A,B,P)} 1.\n",
    "    \n",
    "%%% Piece can not be its own child\n",
    ":- idrange(P), piece(P,P,_).\n",
    ":- idrange(P), piece(P,_,P).\n",
    "    \n",
    "%%% If a piece appears as a child, it exists\n",
    "%TODO\n",
    "    \n",
    "\n",
    "    \n",
    "%:- idrange(B), not 0 #sum{1,A,C:piece(A,B,C)} 1.\n",
    "%:- idrange(C), not 0 #sum{1,A,B:piece(A,B,C)} 1.\n",
    "\n",
    "%cnt(X, A) :- idrange(A), X = #sum{1,B,C:piece(A,B,C)}.\n",
    "    \n",
    "    "
   ]
  },
  {
   "cell_type": "code",
   "execution_count": 11,
   "metadata": {},
   "outputs": [
    {
     "name": "stdout",
     "output_type": "stream",
     "text": [
      "Overwriting perfect.lp\n"
     ]
    }
   ],
   "source": [
    "%%file perfect.lp\n",
    "\n",
    "%%% Attempts to perfectly hash keys given as item(number)\n",
    "\n",
    "#const corange = 10.\n",
    "constant(1..corange).\n",
    "    \n",
    "%%%operation(type, item, in1, in2, output)\n",
    "operation(xor, I, A, B, A^B) :- item(I), output(I,A), output(I,B).       \n",
    "operation(and, I, A, B, A&B) :- item(I), output(I,A), output(I,B). \n",
    "operation(or , I, A, B, A?B) :- item(I), output(I,A), output(I,B). \n",
    "    \n",
    "\n",
    "hash(I,X) :- item(I), input(I,V1), input(I,V2), operation(T,I,V1,V2,X).\n",
    "    \n",
    "    \n",
    "output(I,I) :- item(I).\n",
    "output(I,X) :- item(I), constant(X).\n",
    "output(I,X) :- item(I), output(I,V1), output(I,V2), operation(T,I,V1,V2,X).\n",
    "    \n",
    "    \n",
    ":- item(A), item(B), A != B, hash(A,X), hash(B,X). \n",
    "    \n",
    "    \n",
    "    \n",
    "%%% input constant or item\n",
    "input(I) :- item(I).\n",
    "input(I) :- constant(I).\n",
    "    \n",
    "    \n",
    "%:- item(A), item(B), operation(T,ID,) \n",
    "    \n",
    "    \n",
    "%%output(I,X) :- input(I), operation(T, )\n",
    "    \n",
    "\n",
    "\n"
   ]
  },
  {
   "cell_type": "code",
   "execution_count": 12,
   "metadata": {},
   "outputs": [
    {
     "name": "stdout",
     "output_type": "stream",
     "text": [
      "Overwriting minimal.lp\n"
     ]
    }
   ],
   "source": [
    "%%file minimal.lp\n",
    "\n",
    "%%% Minimize the range of hashed values\n",
    "maxhash(X) :- coef(A), mod(M), exp(E), X = #max{ @axbmodc(A,I,E,M):item(I) }.\n",
    "minhash(X) :- coef(A), mod(M), exp(E), X = #min{ @axbmodc(A,I,E,M):item(I) }.\n",
    "diff(X) :- maxhash(A), minhash(B), X = A-B.\n",
    "#minimize{ X:diff(X) }."
   ]
  },
  {
   "cell_type": "code",
   "execution_count": 13,
   "metadata": {},
   "outputs": [
    {
     "name": "stdout",
     "output_type": "stream",
     "text": [
      "Overwriting ordered.lp\n"
     ]
    }
   ],
   "source": [
    "%%file ordered.lp\n",
    "\n",
    "%%% Reject if items are out of order when hashed\n",
    ":- item(I1), item(I2), I1 < I2, coef(A), mod(M),  A*I1\\M > A*I2\\M.\n",
    ":- #true."
   ]
  },
  {
   "cell_type": "code",
   "execution_count": 14,
   "metadata": {
    "scrolled": false
   },
   "outputs": [
    {
     "name": "stdout",
     "output_type": "stream",
     "text": [
      "clingo version 5.2.1\r\n",
      "Reading from genhash.lp\r\n",
      "Solving...\r\n",
      "Answer: 1\r\n",
      "constant(1) constant(2) constant(3) constant(4) constant(5) constant(6) constant(7) constant(8) constant(9) constant(10) input(1) input(2) input(3) input(4) input(5) idrange(0) idrange(1) idrange(2) idrange(3) idrange(4) idrange(5) idrange(6) idrange(7) idrange(8) idrange(9) idrange(10) piece(0,1,2) piece(2,0,3)\r\n",
      "SATISFIABLE\r\n",
      "\r\n",
      "Models       : 1+\r\n",
      "Calls        : 1\r\n",
      "Time         : 0.032s (Solving: 0.00s 1st Model: 0.00s Unsat: 0.00s)\r\n",
      "CPU Time     : 0.031s\r\n"
     ]
    }
   ],
   "source": [
    "!clingo genhash.lp"
   ]
  },
  {
   "cell_type": "code",
   "execution_count": 15,
   "metadata": {},
   "outputs": [
    {
     "name": "stdout",
     "output_type": "stream",
     "text": [
      "Overwriting process.py\n"
     ]
    }
   ],
   "source": [
    "%%file process.py\n",
    "\n",
    "import json\n",
    "import sys\n",
    "import re\n",
    "\n",
    "\n",
    "result = json.load(sys.stdin)\n",
    "atoms = result['Call'][0]['Witnesses'][0]['Value']\n",
    "\n",
    "items = []\n",
    "modulus = 0\n",
    "coef = 0\n",
    "exponent = 0\n",
    "\n",
    "for a in atoms:\n",
    "    match = re.match('item\\(([0-9]*)\\)', a)\n",
    "    if match:\n",
    "        items += [int(match.group(1))]\n",
    "    \n",
    "    match = re.match('mod\\(([0-9]*)\\)', a)\n",
    "    if match:\n",
    "        modulus = int(match.group(1))\n",
    "\n",
    "    match = re.match('exp\\(([0-9]*)\\)', a)\n",
    "    if match:\n",
    "        exponent = int(match.group(1))\n",
    "        \n",
    "    match = re.match('coef\\(([0-9]*)\\)', a)\n",
    "    if match:\n",
    "        coef = int(match.group(1))\n",
    "\n",
    "        \n",
    "table = [(item*coef**exponent%modulus, item) for item in items]\n",
    "table.sort()\n",
    "\n",
    "print \"Hash function: %dx^%d mod %d\" %(coef,exponent,modulus)\n",
    "\n",
    "print \"%7s %7s\" % (\"hash\", \"item\")\n",
    "for item in table:\n",
    "    print \"%7d %7d\" % item"
   ]
  },
  {
   "cell_type": "code",
   "execution_count": 16,
   "metadata": {
    "scrolled": true
   },
   "outputs": [
    {
     "name": "stdout",
     "output_type": "stream",
     "text": [
      "Traceback (most recent call last):\r\n",
      "  File \"process.py\", line 33, in <module>\r\n",
      "    table = [(item*coef**exponent%modulus, item) for item in items]\r\n",
      "ZeroDivisionError: integer division or modulo by zero\r\n"
     ]
    }
   ],
   "source": [
    "!clingo items.lp perfect.lp minimal.lp -t 8 --outf=2 --quiet=1 2>/dev/null | python2 process.py"
   ]
  },
  {
   "cell_type": "code",
   "execution_count": 17,
   "metadata": {
    "scrolled": true
   },
   "outputs": [
    {
     "name": "stdout",
     "output_type": "stream",
     "text": [
      "Overwriting gen.py\n"
     ]
    }
   ],
   "source": [
    "%%file gen.py\n",
    "import random\n",
    "\n",
    "seen = {}\n",
    "i = 0\n",
    "while i < 5:\n",
    "    x = random.randint(10,100)\n",
    "    if x not in seen:\n",
    "        print \"item(%d).\" % (x)\n",
    "        seen[x] = 1\n",
    "        i+=1"
   ]
  },
  {
   "cell_type": "code",
   "execution_count": 18,
   "metadata": {
    "scrolled": false
   },
   "outputs": [
    {
     "name": "stdout",
     "output_type": "stream",
     "text": [
      "Traceback (most recent call last):\r\n",
      "  File \"process.py\", line 8, in <module>\r\n",
      "    atoms = result['Call'][0]['Witnesses'][0]['Value']\r\n",
      "KeyError: 'Witnesses'\r\n"
     ]
    }
   ],
   "source": [
    "!python2 gen.py > gen.lp; clingo gen.lp perfect.lp minimal.lp ordered.lp quiet.lp --outf=2 --quiet=1 2>/dev/null | python2 process.py"
   ]
  },
  {
   "cell_type": "code",
   "execution_count": 19,
   "metadata": {},
   "outputs": [
    {
     "name": "stdout",
     "output_type": "stream",
     "text": [
      "Traceback (most recent call last):\r\n",
      "  File \"process.py\", line 33, in <module>\r\n",
      "    table = [(item*coef**exponent%modulus, item) for item in items]\r\n",
      "ZeroDivisionError: integer division or modulo by zero\r\n"
     ]
    }
   ],
   "source": [
    "!python2 gen.py > gen.lp; clingo gen.lp perfect.lp minimal.lp -t 8 --outf=2 --quiet=1 2>/dev/null | python2 process.py"
   ]
  },
  {
   "cell_type": "code",
   "execution_count": null,
   "metadata": {
    "collapsed": true
   },
   "outputs": [],
   "source": []
  }
 ],
 "metadata": {
  "kernelspec": {
   "display_name": "Python 2",
   "language": "python2",
   "name": "python2"
  },
  "language_info": {
   "codemirror_mode": {
    "name": "ipython",
    "version": 2
   },
   "file_extension": ".py",
   "mimetype": "text/x-python",
   "name": "python",
   "nbconvert_exporter": "python",
   "pygments_lexer": "ipython2",
   "version": "2.7.13"
  }
 },
 "nbformat": 4,
 "nbformat_minor": 2
}
