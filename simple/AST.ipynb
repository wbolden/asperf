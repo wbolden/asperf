{
 "cells": [
  {
   "cell_type": "markdown",
   "metadata": {},
   "source": [
    "# Circuit Generation\n",
    "\n",
    "the below python script builds an arbitrarily large multiplier using yosys and a verilog design"
   ]
  },
  {
   "cell_type": "code",
   "execution_count": 1,
   "metadata": {},
   "outputs": [
    {
     "name": "stdout",
     "output_type": "stream",
     "text": [
      "Overwriting circuit-gen.py\n"
     ]
    }
   ],
   "source": [
    "%%file circuit-gen.py\n",
    "import sys, subprocess, json, os\n",
    "try:\n",
    "    width = int(sys.argv[1])\n",
    "except:\n",
    "    print 'usage: python circuit-gen.py port-width'\n",
    "    exit()\n",
    "    \n",
    "verilog_src = \\\n",
    "\"\"\"\n",
    "module mul13(mul13in, mul13out);\n",
    "    parameter WIDTH = {};\n",
    "    input [WIDTH-1:0] mul13in;\n",
    "    output [WIDTH-1:0] mul13out;\n",
    "    \n",
    "    assign mul13out = mul13in * 13;\n",
    "endmodule\n",
    "\"\"\".format(width)\n",
    "\n",
    "yosys_cmd = \\\n",
    "\"\"\"\n",
    "yosys \\\n",
    "-p \"synth; abc -liberty mycells.lib; clean; write_json tmp.json\" \\\n",
    "-QT -f verilog tmp.v\n",
    "\"\"\"\n",
    "\n",
    "outfile = open('tmp.v','w')\n",
    "outfile.write(verilog_src)\n",
    "outfile.close()\n",
    "\n",
    "FNULL = open(os.devnull, 'w')\n",
    "subprocess.call(yosys_cmd,shell=True,stdout=FNULL)\n",
    "\n",
    "modules = json.load(open('tmp.json'))['modules']\n",
    "outfile = open('multiplier.lp','w')\n",
    "for m in modules:\n",
    "    outfile.write('device({}).\\n'.format(m))\n",
    "    dev = modules[m]\n",
    "    for p in dev['ports']:\n",
    "        port = dev['ports'][p]\n",
    "        outfile.write('device_port_direction({},{},{}).\\n'.format(m,p,port['direction']))\n",
    "        outfile.write('device_port_width({},{},{}).\\n'.format(m,p,len(port['bits'])))\n",
    "        for i,b in enumerate(port['bits']):\n",
    "            outfile.write('device_port_bit_wire({},{},{},{}).\\n'.format(m,p,i,b))\n",
    "    for c in dev['cells'].values():\n",
    "        con = c['connections']\n",
    "        if c['type'] == 'AND':\n",
    "            outfile.write('device_gate({},and_gate,({}, {}, {})).\\n'.format(m,con['A'][0],con['B'][0],con['Y'][0]))\n",
    "        if c['type'] == 'OR':\n",
    "            outfile.write('device_gate({},or_gate,({}, {}, {})).\\n'.format(m,con['A'][0],con['B'][0],con['Y'][0]))\n",
    "        if c['type'] == 'NOT':\n",
    "            outfile.write('device_gate({},not_gate,({}, {})).\\n'.format(m,con['A'][0],con['Y'][0])) \n",
    "outfile.close()\n",
    "os.remove('tmp.v')\n",
    "os.remove('tmp.json')"
   ]
  },
  {
   "cell_type": "code",
   "execution_count": 36,
   "metadata": {},
   "outputs": [
    {
     "name": "stdout",
     "output_type": "stream",
     "text": [
      "device(mul13).\r\n",
      "device_port_direction(mul13,mul13in,input).\r\n",
      "device_port_width(mul13,mul13in,8).\r\n",
      "device_port_bit_wire(mul13,mul13in,0,2).\r\n",
      "device_port_bit_wire(mul13,mul13in,1,3).\r\n",
      "device_port_bit_wire(mul13,mul13in,2,4).\r\n",
      "device_port_bit_wire(mul13,mul13in,3,5).\r\n",
      "device_port_bit_wire(mul13,mul13in,4,6).\r\n",
      "device_port_bit_wire(mul13,mul13in,5,7).\r\n",
      "device_port_bit_wire(mul13,mul13in,6,8).\r\n",
      "device_port_bit_wire(mul13,mul13in,7,9).\r\n",
      "device_port_direction(mul13,mul13out,output).\r\n",
      "device_port_width(mul13,mul13out,8).\r\n",
      "device_port_bit_wire(mul13,mul13out,0,2).\r\n",
      "device_port_bit_wire(mul13,mul13out,1,3).\r\n",
      "device_port_bit_wire(mul13,mul13out,2,10).\r\n",
      "device_port_bit_wire(mul13,mul13out,3,11).\r\n",
      "device_port_bit_wire(mul13,mul13out,4,12).\r\n",
      "device_port_bit_wire(mul13,mul13out,5,13).\r\n",
      "device_port_bit_wire(mul13,mul13out,6,14).\r\n",
      "device_port_bit_wire(mul13,mul13out,7,15).\r\n",
      "device_gate(mul13,and_gate,(121, 117, 15)).\r\n",
      "device_gate(mul13,or_gate,(120, 118, 121)).\r\n",
      "device_gate(mul13,or_gate,(42, 32, 43)).\r\n",
      "device_gate(mul13,and_gate,(41, 37, 42)).\r\n",
      "device_gate(mul13,or_gate,(40, 28, 41)).\r\n",
      "device_gate(mul13,or_gate,(39, 38, 40)).\r\n",
      "device_gate(mul13,and_gate,(6, 18, 39)).\r\n",
      "device_gate(mul13,and_gate,(34, 4, 38)).\r\n",
      "device_gate(mul13,or_gate,(36, 24, 37)).\r\n",
      "device_gate(mul13,and_gate,(35, 33, 36)).\r\n",
      "device_gate(mul13,or_gate,(34, 4, 35)).\r\n",
      "device_gate(mul13,not_gate,(6, 34)).\r\n",
      "device_gate(mul13,or_gate,(31, 16, 32)).\r\n",
      "device_gate(mul13,or_gate,(6, 18, 33)).\r\n",
      "device_gate(mul13,or_gate,(24, 22, 25)).\r\n",
      "device_gate(mul13,and_gate,(25, 20, 26)).\r\n",
      "device_gate(mul13,or_gate,(23, 3, 27)).\r\n",
      "device_gate(mul13,or_gate,(5, 21, 28)).\r\n",
      "device_gate(mul13,and_gate,(28, 27, 29)).\r\n",
      "device_gate(mul13,and_gate,(29, 19, 30)).\r\n",
      "device_gate(mul13,or_gate,(30, 26, 11)).\r\n",
      "device_gate(mul13,and_gate,(29, 18, 31)).\r\n",
      "device_gate(mul13,and_gate,(63, 3, 64)).\r\n",
      "device_gate(mul13,or_gate,(40, 5, 63)).\r\n",
      "device_gate(mul13,or_gate,(55, 33, 66)).\r\n",
      "device_gate(mul13,or_gate,(59, 38, 65)).\r\n",
      "device_gate(mul13,and_gate,(67, 64, 68)).\r\n",
      "device_gate(mul13,and_gate,(66, 65, 67)).\r\n",
      "device_gate(mul13,or_gate,(69, 43, 70)).\r\n",
      "device_gate(mul13,or_gate,(68, 62, 69)).\r\n",
      "device_gate(mul13,or_gate,(67, 64, 72)).\r\n",
      "device_gate(mul13,and_gate,(48, 45, 71)).\r\n",
      "device_gate(mul13,and_gate,(7, 23, 58)).\r\n",
      "device_gate(mul13,and_gate,(53, 5, 57)).\r\n",
      "device_gate(mul13,and_gate,(59, 38, 60)).\r\n",
      "device_gate(mul13,or_gate,(58, 57, 59)).\r\n",
      "device_gate(mul13,or_gate,(53, 5, 54)).\r\n",
      "device_gate(mul13,and_gate,(90, 78, 91)).\r\n",
      "device_gate(mul13,and_gate,(55, 33, 56)).\r\n",
      "device_gate(mul13,and_gate,(54, 52, 55)).\r\n",
      "device_gate(mul13,and_gate,(85, 89, 90)).\r\n",
      "device_gate(mul13,and_gate,(61, 51, 62)).\r\n",
      "device_gate(mul13,or_gate,(60, 56, 61)).\r\n",
      "device_gate(mul13,or_gate,(74, 71, 75)).\r\n",
      "device_gate(mul13,and_gate,(75, 70, 13)).\r\n",
      "device_gate(mul13,or_gate,(61, 51, 73)).\r\n",
      "device_gate(mul13,and_gate,(73, 72, 74)).\r\n",
      "device_gate(mul13,or_gate,(77, 18, 78)).\r\n",
      "device_gate(mul13,not_gate,(78, 79)).\r\n",
      "device_gate(mul13,and_gate,(70, 73, 76)).\r\n",
      "device_gate(mul13,and_gate,(55, 34, 77)).\r\n",
      "device_gate(mul13,not_gate,(8, 80)).\r\n",
      "device_gate(mul13,and_gate,(80, 6, 81)).\r\n",
      "device_gate(mul13,or_gate,(82, 81, 83)).\r\n",
      "device_gate(mul13,and_gate,(8, 34, 82)).\r\n",
      "device_gate(mul13,and_gate,(49, 43, 12)).\r\n",
      "device_gate(mul13,and_gate,(36, 23, 50)).\r\n",
      "device_gate(mul13,or_gate,(47, 46, 48)).\r\n",
      "device_gate(mul13,or_gate,(48, 45, 49)).\r\n",
      "device_gate(mul13,and_gate,(40, 28, 46)).\r\n",
      "device_gate(mul13,and_gate,(36, 24, 47)).\r\n",
      "device_gate(mul13,or_gate,(25, 4, 44)).\r\n",
      "device_gate(mul13,and_gate,(44, 2, 45)).\r\n",
      "device_gate(mul13,not_gate,(84, 89)).\r\n",
      "device_gate(mul13,and_gate,(87, 79, 88)).\r\n",
      "device_gate(mul13,or_gate,(86, 84, 87)).\r\n",
      "device_gate(mul13,not_gate,(85, 86)).\r\n",
      "device_gate(mul13,or_gate,(83, 52, 85)).\r\n",
      "device_gate(mul13,and_gate,(83, 52, 84)).\r\n",
      "device_gate(mul13,or_gate,(50, 21, 51)).\r\n",
      "device_gate(mul13,or_gate,(7, 23, 52)).\r\n",
      "device_gate(mul13,not_gate,(7, 53)).\r\n",
      "device_gate(mul13,and_gate,(99, 93, 14)).\r\n",
      "device_gate(mul13,and_gate,(98, 95, 100)).\r\n",
      "device_gate(mul13,or_gate,(91, 88, 92)).\r\n",
      "device_gate(mul13,or_gate,(92, 76, 93)).\r\n",
      "device_gate(mul13,and_gate,(74, 71, 94)).\r\n",
      "device_gate(mul13,or_gate,(94, 68, 95)).\r\n",
      "device_gate(mul13,or_gate,(90, 78, 96)).\r\n",
      "device_gate(mul13,or_gate,(87, 79, 97)).\r\n",
      "device_gate(mul13,and_gate,(97, 96, 98)).\r\n",
      "device_gate(mul13,or_gate,(98, 95, 99)).\r\n",
      "device_gate(mul13,not_gate,(109, 110)).\r\n",
      "device_gate(mul13,and_gate,(108, 81, 109)).\r\n",
      "device_gate(mul13,and_gate,(9, 53, 106)).\r\n",
      "device_gate(mul13,and_gate,(104, 7, 105)).\r\n",
      "device_gate(mul13,not_gate,(107, 108)).\r\n",
      "device_gate(mul13,or_gate,(106, 105, 107)).\r\n",
      "device_gate(mul13,or_gate,(83, 7, 102)).\r\n",
      "device_gate(mul13,or_gate,(100, 88, 101)).\r\n",
      "device_gate(mul13,not_gate,(9, 104)).\r\n",
      "device_gate(mul13,and_gate,(102, 5, 103)).\r\n",
      "device_gate(mul13,not_gate,(115, 119)).\r\n",
      "device_gate(mul13,and_gate,(119, 113, 120)).\r\n",
      "device_gate(mul13,or_gate,(116, 101, 117)).\r\n",
      "device_gate(mul13,and_gate,(93, 96, 118)).\r\n",
      "device_gate(mul13,and_gate,(4, 16, 17)).\r\n",
      "device_gate(mul13,not_gate,(2, 16)).\r\n",
      "device_gate(mul13,and_gate,(18, 2, 19)).\r\n",
      "device_gate(mul13,not_gate,(4, 18)).\r\n",
      "device_gate(mul13,not_gate,(19, 20)).\r\n",
      "device_gate(mul13,or_gate,(19, 17, 10)).\r\n",
      "device_gate(mul13,and_gate,(5, 21, 22)).\r\n",
      "device_gate(mul13,not_gate,(3, 21)).\r\n",
      "device_gate(mul13,and_gate,(23, 3, 24)).\r\n",
      "device_gate(mul13,not_gate,(5, 23)).\r\n",
      "device_gate(mul13,and_gate,(112, 103, 115)).\r\n",
      "device_gate(mul13,or_gate,(115, 114, 116)).\r\n",
      "device_gate(mul13,or_gate,(112, 103, 113)).\r\n",
      "device_gate(mul13,not_gate,(113, 114)).\r\n",
      "device_gate(mul13,or_gate,(108, 81, 111)).\r\n",
      "device_gate(mul13,and_gate,(111, 110, 112)).\r\n"
     ]
    }
   ],
   "source": [
    "!python2 circuit-gen.py 8\n",
    "!cat multiplier.lp"
   ]
  },
  {
   "cell_type": "code",
   "execution_count": 39,
   "metadata": {},
   "outputs": [
    {
     "name": "stdout",
     "output_type": "stream",
     "text": [
      "Overwriting circuits.lp\n"
     ]
    }
   ],
   "source": [
    "%%file circuits.lp\n",
    "input_port(Port) :- device_port_direction(Device,Port,input).\n",
    "\n",
    "output_port(Port) :- device_port_direction(Device,Port,output).\n",
    "\n",
    "port_width(Port,Size) :-\n",
    "    device_port_width(Device,Port,Size).\n",
    "\n",
    "% Define all the gate rules\n",
    "signal(I,K,Device,Out,1-(1-V1)*(1-V2)) :-\n",
    "    device_gate(Device,or_gate,(In1,In2,Out)),\n",
    "    signal(I,K,Device,In1,V1); signal(I,K,Device,In2,V2).\n",
    "\n",
    "signal(I,K,Device,Out,V1*V2) :-\n",
    "    device_gate(Device,and_gate,(In1,In2,Out)),\n",
    "    signal(I,K,Device,In1,V1), signal(I,K,Device,In2,V2).\n",
    "\n",
    "signal(I,K,Device,Out,1-V1) :-\n",
    "    device_gate(Device,not_gate,(In,Out)),\n",
    "    signal(I,K,Device,In,V1).\n",
    "\n",
    "% get input signal\n",
    "signal(I,K,Device,Wire,Value) :-\n",
    "    input_signal(I,K,Port,Bit,Value),\n",
    "    device_port_bit_wire(Device,Port,Bit,Wire).\n",
    "\n",
    "% get output signal\n",
    "output_signal(I,K,Bit,Value) :-\n",
    "    signal(I,K,Device,Wire,Value),\n",
    "    output_port(Port),\n",
    "    device_port_bit_wire(Device,Port,Bit,Wire).\n",
    "    \n",
    "#show output_signal/4."
   ]
  },
  {
   "cell_type": "code",
   "execution_count": 40,
   "metadata": {},
   "outputs": [
    {
     "name": "stdout",
     "output_type": "stream",
     "text": [
      "clingo version 5.2.1\r\n",
      "Reading from multiplier.lp ...\r\n",
      "circuits.lp:23:5-37: info: atom does not occur in any rule head:\r\n",
      "  input_signal(I,K,Port,Bit,Value)\r\n",
      "\r\n",
      "Solving...\r\n",
      "Answer: 1\r\n",
      "\r\n",
      "SATISFIABLE\r\n",
      "\r\n",
      "Models       : 1\r\n",
      "Calls        : 1\r\n",
      "Time         : 0.005s (Solving: 0.00s 1st Model: 0.00s Unsat: 0.00s)\r\n",
      "CPU Time     : 0.005s\r\n"
     ]
    }
   ],
   "source": [
    "!clingo multiplier.lp circuits.lp"
   ]
  },
  {
   "cell_type": "code",
   "execution_count": 61,
   "metadata": {},
   "outputs": [
    {
     "name": "stdout",
     "output_type": "stream",
     "text": [
      "Overwriting ast.lp\n"
     ]
    }
   ],
   "source": [
    "%%file ast.lp\n",
    "\n",
    "bit(0;1).\n",
    "\n",
    "#const bits=8.\n",
    "\n",
    "bit_index(0..bits-1).\n",
    "\n",
    "\n",
    "id(0..10).\n",
    "\n",
    " \n",
    "rooted(0).\n",
    "rooted(B) :- rooted(A), edge(A,B).\n",
    ":- node(B), not rooted(B).\n",
    "\n",
    "\n",
    "\n",
    "%%% Each node has 0-2 children and is connected to the root\n",
    "%%% Childen have greater ids than their parents\n",
    "0 {edge(A,B):id(B),B>A} 2 :- rooted(A).\n",
    "\n",
    "%%% Children cant have multiple parents\n",
    "%%% It might actually be useful to allow this, so not really an AST anymore\n",
    "%%% :- id(I), not 0 #sum{1,P:edge(P,I)} 1.\n",
    "          \n",
    "%%% TODO:\n",
    "% All subdags contain at least one key item if the head of the tree is an operation\n",
    "% This is just an optimization and shouldnt affect the final answer (assuming we tell it to find optimal)\n",
    "%%%\n",
    "\n",
    "    \n",
    "node(I) :- rooted(I).\n",
    "binary(I) :- node(I), 2{edge(I,C)}2.\n",
    "unary(I) :- node(I), 1{edge(I,C)}1.\n",
    "leaf(I) :- node(I), 0{edge(I,C)}0.\n",
    "      \n",
    "%bin_op(xor;and).\n",
    "%un_op(neg;mul13).\n",
    "un_op(mul13).\n",
    "null_op(const;key).\n",
    "\n",
    "type(T) :- bin_op(T).\n",
    "type(T) :- un_op(T).\n",
    "type(T) :- null_op(T).\n",
    "    \n",
    "%%%Choose one operation for each node\n",
    "%1{op(I, T):bin_op(T)}1 :- binary(I).\n",
    "1{op(I, T):un_op(T)}1 :- unary(I).\n",
    "1{op(I, T):null_op(T)}1 :- leaf(I).\n",
    "    \n",
    "\n",
    "%%%Create constants\n",
    "1 {const_bit(I,B,0..1)} 1 :- op(I,const),bit_index(B).\n",
    "\n",
    "\n",
    "%%%Evaluate the dag, (Key, Id, Bit, Value)\n",
    "\n",
    "%%% Basic operations (and,xor,neg,const,key)\n",
    "\n",
    "val_bit(K,I,B,V1&V2) :- \n",
    "    op(I,and),\n",
    "    edge(I,I1),\n",
    "    edge(I,I2),\n",
    "    I1 < I2, \n",
    "    val_bit(K,I1,B,V1), \n",
    "    val_bit(K,I2,B,V2).\n",
    "    \n",
    "val_bit(K,I,B,V1^V2) :- \n",
    "    op(I,xor),\n",
    "    edge(I,I1),\n",
    "    edge(I,I2),\n",
    "    I1 < I2, \n",
    "    val_bit(K,I1,B,V1), \n",
    "    val_bit(K,I2,B,V2).\n",
    "    \n",
    "val_bit(K,I,B,1-V1) :- \n",
    "    op(I,neg),\n",
    "    edge(I,I1),\n",
    "    val_bit(K,I1,B,V1).\n",
    "    \n",
    "val_bit(K,I,B,V) :- \n",
    "    key(K), \n",
    "    op(I,const), \n",
    "    const_bit(I,B,V).\n",
    "    \n",
    "val_bit(K,I,B,V) :- \n",
    "    key_bit(K,B,V), \n",
    "    op(I,key).\n",
    "    \n",
    "%%% Advanced operations (mul,shl,shr,mod,div,add,sub), need yosys circuits\n",
    "    \n",
    "%%% Is this the general idea you had for multiply\n",
    "%%% idk if what I wrote here works, assume it would\n",
    "%%% multiline comment is %* *%\n",
    "%*\n",
    "val_bit(K,I,B,V) :- \n",
    "    op(I,mul),\n",
    "    edge(I,I1),\n",
    "    edge(I,I2),\n",
    "    I1<I2,\n",
    "    val_bit(K,I1,B,V1), \n",
    "    val_bit(K,I2,B,V2),\n",
    "    input_signal(I,K,mul,B,V1,V2),\n",
    "    output_signal(I,K,B,V).\n",
    "*%  \n",
    "    \n",
    "% if there is a node multiplying by 13, set the appropriate bit as input\n",
    "input_signal(I,K,mul13in,B,V1) :- op(I,mul13), edge(I,I1), val_bit(K,I1,B,V1).\n",
    "val_bit(K,I,B,V) :- output_signal(I,K,B,V).\n",
    "\n",
    "hash_bit(K,B,V) :- val_bit(K,0,B,V).\n",
    "\n",
    "%occupied(B,V) :- hash(K,B,V).\n",
    "%collision :- occupied(V), 2 {hash(K,V)}.\n",
    "\n",
    "\n",
    "    \n",
    "%%%collision :- key(K1), key(K2), K1!=K2, hash(K1,V), hash(K2,V).\n",
    "    \n",
    "%%% Maybe we can use a custom theory progagator to ignore quagratic cost here\n",
    "collision(K1,K2) :- \n",
    "    key(K1), \n",
    "    key(K2), \n",
    "    K1 < K2, \n",
    "    0 = #sum {V*2**B,v1:hash_bit(K1,B,V); -V*2**B,v2:hash_bit(K2,B,V)}.\n",
    "    \n",
    ":- collision(K1,K2).\n",
    "    \n",
    "\n",
    "    \n",
    "%#minimize{V:node(V)}.\n",
    "    \n",
    "%%% Visualization rules\n",
    "\n",
    "%#show children(I,N) : node(I), N = #count{C:edge(I,C)}.\n",
    "%#show op_count(I, X) : node(I), X = #count{T:op(I,T),type(T)}.\n",
    "    \n",
    "%#show hash_bit/3.\n",
    "%#show key/1.\n",
    "#show edge/2.\n",
    "#show op/2."
   ]
  },
  {
   "cell_type": "markdown",
   "metadata": {},
   "source": [
    "I guess the above would make the basic structure of the AST, but still need some way assign values to the leaf nodes and allow those to be evaluated. No obivous way how to do that."
   ]
  },
  {
   "cell_type": "code",
   "execution_count": 62,
   "metadata": {
    "scrolled": true
   },
   "outputs": [
    {
     "name": "stdout",
     "output_type": "stream",
     "text": [
      "clingo version 5.2.1\n",
      "Reading from ast.lp ...\n",
      "ast.lp:42:12-21: info: atom does not occur in any rule head:\n",
      "  bin_op(T)\n",
      "\n",
      "Solving...\n",
      "Answer: 1\n",
      "op(0,key)\n",
      "Answer: 2\n",
      "edge(0,1) edge(1,3) op(3,key) op(0,mul13) op(1,mul13) output_signal(0,10,1,1) output_signal(0,7,1,1) output_signal(0,6,1,1) output_signal(0,3,1,1) output_signal(0,2,1,1) output_signal(0,9,1,0) output_signal(0,8,1,0) output_signal(0,5,1,0) output_signal(0,4,1,0) output_signal(0,1,1,0) output_signal(0,0,1,0) output_signal(0,9,0,1) output_signal(0,7,0,1) output_signal(0,5,0,1) output_signal(0,3,0,1) output_signal(0,1,0,1) output_signal(0,10,0,0) output_signal(0,8,0,0) output_signal(0,6,0,0) output_signal(0,4,0,0) output_signal(0,2,0,0) output_signal(0,0,0,0) output_signal(1,10,1,1) output_signal(1,7,1,1) output_signal(1,6,1,1) output_signal(1,3,1,1) output_signal(1,2,1,1) output_signal(1,9,1,0) output_signal(1,8,1,0) output_signal(1,5,1,0) output_signal(1,4,1,0) output_signal(1,1,1,0) output_signal(1,0,1,0) output_signal(1,9,0,1) output_signal(1,7,0,1) output_signal(1,5,0,1) output_signal(1,3,0,1) output_signal(1,1,0,1) output_signal(1,10,0,0) output_signal(1,8,0,0) output_signal(1,6,0,0) output_signal(1,4,0,0) output_signal(1,2,0,0) output_signal(1,0,0,0) output_signal(1,0,2,0) output_signal(1,1,2,1) output_signal(1,2,2,0) output_signal(1,3,2,1) output_signal(1,4,2,1) output_signal(1,5,2,0) output_signal(1,6,2,1) output_signal(1,7,2,0) output_signal(1,8,2,0) output_signal(1,9,2,1) output_signal(1,10,2,0) output_signal(0,0,2,0) output_signal(0,1,2,0) output_signal(0,2,2,0) output_signal(0,3,2,0) output_signal(0,4,2,1) output_signal(0,5,2,1) output_signal(0,6,2,1) output_signal(0,7,2,1) output_signal(0,8,2,0) output_signal(0,9,2,0) output_signal(0,10,2,0) output_signal(1,0,3,0) output_signal(1,1,3,1) output_signal(1,2,3,1) output_signal(1,3,3,0) output_signal(1,4,3,0) output_signal(1,5,3,0) output_signal(1,6,3,1) output_signal(1,7,3,1) output_signal(1,8,3,1) output_signal(1,9,3,0) output_signal(1,10,3,0) output_signal(0,0,3,0) output_signal(0,1,3,1) output_signal(0,2,3,0) output_signal(0,3,3,1) output_signal(0,4,3,0) output_signal(0,5,3,1) output_signal(0,6,3,0) output_signal(0,7,3,1) output_signal(0,8,3,1) output_signal(0,9,3,0) output_signal(0,10,3,1) output_signal(1,0,4,0) output_signal(1,1,4,0) output_signal(1,2,4,1) output_signal(1,3,4,0) output_signal(1,4,4,1) output_signal(1,5,4,0) output_signal(1,6,4,0) output_signal(1,7,4,1) output_signal(1,8,4,0) output_signal(1,9,4,1) output_signal(1,10,4,0) output_signal(0,0,4,0) output_signal(0,1,4,0) output_signal(0,2,4,1) output_signal(0,3,4,1) output_signal(0,4,4,0) output_signal(0,5,4,0) output_signal(0,6,4,1) output_signal(0,7,4,1) output_signal(0,8,4,0) output_signal(0,9,4,1) output_signal(0,10,4,1) output_signal(1,0,5,0) output_signal(1,1,5,0) output_signal(1,2,5,0) output_signal(1,3,5,1) output_signal(1,4,5,1) output_signal(1,5,5,0) output_signal(1,6,5,0) output_signal(1,7,5,0) output_signal(1,8,5,1) output_signal(1,9,5,1) output_signal(1,10,5,0) output_signal(0,0,5,0) output_signal(0,1,5,1) output_signal(0,2,5,0) output_signal(0,3,5,1) output_signal(0,4,5,1) output_signal(0,5,5,0) output_signal(0,6,5,1) output_signal(0,7,5,0) output_signal(0,8,5,0) output_signal(0,9,5,1) output_signal(0,10,5,0) output_signal(1,0,6,0) output_signal(1,1,6,0) output_signal(1,2,6,0) output_signal(1,3,6,0) output_signal(1,4,6,0) output_signal(1,5,6,1) output_signal(1,6,6,1) output_signal(1,7,6,1) output_signal(1,8,6,1) output_signal(1,9,6,1) output_signal(1,10,6,0) output_signal(0,0,6,0) output_signal(0,1,6,0) output_signal(0,2,6,1) output_signal(0,3,6,1) output_signal(0,4,6,0) output_signal(0,5,6,1) output_signal(0,6,6,1) output_signal(0,7,6,0) output_signal(0,8,6,1) output_signal(0,9,6,1) output_signal(0,10,6,0) output_signal(1,0,7,0) output_signal(1,1,7,0) output_signal(1,2,7,0) output_signal(1,3,7,0) output_signal(1,4,7,0) output_signal(1,5,7,0) output_signal(1,6,7,0) output_signal(1,7,7,0) output_signal(1,8,7,0) output_signal(1,9,7,0) output_signal(1,10,7,1) output_signal(0,0,7,0) output_signal(0,1,7,1) output_signal(0,2,7,0) output_signal(0,3,7,1) output_signal(0,4,7,1) output_signal(0,5,7,0) output_signal(0,6,7,1) output_signal(0,7,7,1) output_signal(0,8,7,0) output_signal(0,9,7,1) output_signal(0,10,7,1)\n",
      "Answer: 3\n",
      "edge(0,1) edge(1,3) edge(3,7) edge(7,8) edge(8,10) op(10,key) op(0,mul13) op(1,mul13) op(3,mul13) op(7,mul13) op(8,mul13) output_signal(0,10,1,1) output_signal(0,7,1,1) output_signal(0,6,1,1) output_signal(0,3,1,1) output_signal(0,2,1,1) output_signal(0,9,1,0) output_signal(0,8,1,0) output_signal(0,5,1,0) output_signal(0,4,1,0) output_signal(0,1,1,0) output_signal(0,0,1,0) output_signal(0,9,0,1) output_signal(0,7,0,1) output_signal(0,5,0,1) output_signal(0,3,0,1) output_signal(0,1,0,1) output_signal(0,10,0,0) output_signal(0,8,0,0) output_signal(0,6,0,0) output_signal(0,4,0,0) output_signal(0,2,0,0) output_signal(0,0,0,0) output_signal(1,10,1,1) output_signal(1,7,1,1) output_signal(1,6,1,1) output_signal(1,3,1,1) output_signal(1,2,1,1) output_signal(1,9,1,0) output_signal(1,8,1,0) output_signal(1,5,1,0) output_signal(1,4,1,0) output_signal(1,1,1,0) output_signal(1,0,1,0) output_signal(1,9,0,1) output_signal(1,7,0,1) output_signal(1,5,0,1) output_signal(1,3,0,1) output_signal(1,1,0,1) output_signal(1,10,0,0) output_signal(1,8,0,0) output_signal(1,6,0,0) output_signal(1,4,0,0) output_signal(1,2,0,0) output_signal(1,0,0,0) output_signal(3,10,1,1) output_signal(3,7,1,1) output_signal(3,6,1,1) output_signal(3,3,1,1) output_signal(3,2,1,1) output_signal(3,9,1,0) output_signal(3,8,1,0) output_signal(3,5,1,0) output_signal(3,4,1,0) output_signal(3,1,1,0) output_signal(3,0,1,0) output_signal(3,9,0,1) output_signal(3,7,0,1) output_signal(3,5,0,1) output_signal(3,3,0,1) output_signal(3,1,0,1) output_signal(3,10,0,0) output_signal(3,8,0,0) output_signal(3,6,0,0) output_signal(3,4,0,0) output_signal(3,2,0,0) output_signal(3,0,0,0) output_signal(7,10,1,1) output_signal(7,7,1,1) output_signal(7,6,1,1) output_signal(7,3,1,1) output_signal(7,2,1,1) output_signal(7,9,1,0) output_signal(7,8,1,0) output_signal(7,5,1,0) output_signal(7,4,1,0) output_signal(7,1,1,0) output_signal(7,0,1,0) output_signal(7,9,0,1) output_signal(7,7,0,1) output_signal(7,5,0,1) output_signal(7,3,0,1) output_signal(7,1,0,1) output_signal(7,10,0,0) output_signal(7,8,0,0) output_signal(7,6,0,0) output_signal(7,4,0,0) output_signal(7,2,0,0) output_signal(7,0,0,0) output_signal(8,10,1,1) output_signal(8,7,1,1) output_signal(8,6,1,1) output_signal(8,3,1,1) output_signal(8,2,1,1) output_signal(8,9,1,0) output_signal(8,8,1,0) output_signal(8,5,1,0) output_signal(8,4,1,0) output_signal(8,1,1,0) output_signal(8,0,1,0) output_signal(8,9,0,1) output_signal(8,7,0,1) output_signal(8,5,0,1) output_signal(8,3,0,1) output_signal(8,1,0,1) output_signal(8,10,0,0) output_signal(8,8,0,0) output_signal(8,6,0,0) output_signal(8,4,0,0) output_signal(8,2,0,0) output_signal(8,0,0,0) output_signal(8,0,2,0) output_signal(8,1,2,1) output_signal(8,2,2,0) output_signal(8,3,2,1) output_signal(8,4,2,1) output_signal(8,5,2,0) output_signal(8,6,2,1) output_signal(8,7,2,0) output_signal(8,8,2,0) output_signal(8,9,2,1) output_signal(8,10,2,0) output_signal(7,0,2,0) output_signal(7,1,2,0) output_signal(7,2,2,0) output_signal(7,3,2,0) output_signal(7,4,2,1) output_signal(7,5,2,1) output_signal(7,6,2,1) output_signal(7,7,2,1) output_signal(7,8,2,0) output_signal(7,9,2,0) output_signal(7,10,2,0) output_signal(3,0,2,0) output_signal(3,1,2,1) output_signal(3,2,2,0) output_signal(3,3,2,1) output_signal(3,4,2,1) output_signal(3,5,2,0) output_signal(3,6,2,1) output_signal(3,7,2,0) output_signal(3,8,2,0) output_signal(3,9,2,1) output_signal(3,10,2,0) output_signal(1,0,2,0) output_signal(1,1,2,0) output_signal(1,2,2,0) output_signal(1,3,2,0) output_signal(1,4,2,1) output_signal(1,5,2,1) output_signal(1,6,2,1) output_signal(1,7,2,1) output_signal(1,8,2,0) output_signal(1,9,2,0) output_signal(1,10,2,0) output_signal(0,0,2,0) output_signal(0,1,2,1) output_signal(0,2,2,0) output_signal(0,3,2,1) output_signal(0,4,2,1) output_signal(0,5,2,0) output_signal(0,6,2,1) output_signal(0,7,2,0) output_signal(0,8,2,0) output_signal(0,9,2,1) output_signal(0,10,2,0) output_signal(8,0,3,0) output_signal(8,1,3,1) output_signal(8,2,3,1) output_signal(8,3,3,0) output_signal(8,4,3,0) output_signal(8,5,3,0) output_signal(8,6,3,1) output_signal(8,7,3,1) output_signal(8,8,3,1) output_signal(8,9,3,0) output_signal(8,10,3,0) output_signal(7,0,3,0) output_signal(7,1,3,1) output_signal(7,2,3,0) output_signal(7,3,3,1) output_signal(7,4,3,0) output_signal(7,5,3,1) output_signal(7,6,3,0) output_signal(7,7,3,1) output_signal(7,8,3,1) output_signal(7,9,3,0) output_signal(7,10,3,1) output_signal(3,0,3,0) output_signal(3,1,3,0) output_signal(3,2,3,1) output_signal(3,3,3,1) output_signal(3,4,3,0) output_signal(3,5,3,1) output_signal(3,6,3,1) output_signal(3,7,3,0) output_signal(3,8,3,1) output_signal(3,9,3,1) output_signal(3,10,3,0) output_signal(1,0,3,0) output_signal(1,1,3,0) output_signal(1,2,3,0) output_signal(1,3,3,0) output_signal(1,4,3,0) output_signal(1,5,3,0) output_signal(1,6,3,0) output_signal(1,7,3,0) output_signal(1,8,3,1) output_signal(1,9,3,1) output_signal(1,10,3,1) output_signal(0,0,3,0) output_signal(0,1,3,1) output_signal(0,2,3,1) output_signal(0,3,3,0) output_signal(0,4,3,0) output_signal(0,5,3,0) output_signal(0,6,3,1) output_signal(0,7,3,1) output_signal(0,8,3,1) output_signal(0,9,3,0) output_signal(0,10,3,0) output_signal(8,0,4,0) output_signal(8,1,4,0) output_signal(8,2,4,1) output_signal(8,3,4,0) output_signal(8,4,4,1) output_signal(8,5,4,0) output_signal(8,6,4,0) output_signal(8,7,4,1) output_signal(8,8,4,0) output_signal(8,9,4,1) output_signal(8,10,4,0) output_signal(7,0,4,0) output_signal(7,1,4,0) output_signal(7,2,4,1) output_signal(7,3,4,1) output_signal(7,4,4,0) output_signal(7,5,4,0) output_signal(7,6,4,1) output_signal(7,7,4,1) output_signal(7,8,4,0) output_signal(7,9,4,1) output_signal(7,10,4,1) output_signal(3,0,4,0) output_signal(3,1,4,1) output_signal(3,2,4,0) output_signal(3,3,4,1) output_signal(3,4,4,1) output_signal(3,5,4,0) output_signal(3,6,4,1) output_signal(3,7,4,1) output_signal(3,8,4,0) output_signal(3,9,4,1) output_signal(3,10,4,1) output_signal(1,0,4,0) output_signal(1,1,4,1) output_signal(1,2,4,0) output_signal(1,3,4,1) output_signal(1,4,4,0) output_signal(1,5,4,1) output_signal(1,6,4,0) output_signal(1,7,4,1) output_signal(1,8,4,0) output_signal(1,9,4,1) output_signal(1,10,4,0) output_signal(0,0,4,0) output_signal(0,1,4,1) output_signal(0,2,4,1) output_signal(0,3,4,1) output_signal(0,4,4,1) output_signal(0,5,4,1) output_signal(0,6,4,0) output_signal(0,7,4,0) output_signal(0,8,4,0) output_signal(0,9,4,0) output_signal(0,10,4,0) output_signal(8,0,5,0) output_signal(8,1,5,0) output_signal(8,2,5,0) output_signal(8,3,5,1) output_signal(8,4,5,1) output_signal(8,5,5,0) output_signal(8,6,5,0) output_signal(8,7,5,0) output_signal(8,8,5,1) output_signal(8,9,5,1) output_signal(8,10,5,0) output_signal(7,0,5,0) output_signal(7,1,5,1) output_signal(7,2,5,0) output_signal(7,3,5,1) output_signal(7,4,5,1) output_signal(7,5,5,0) output_signal(7,6,5,1) output_signal(7,7,5,0) output_signal(7,8,5,0) output_signal(7,9,5,1) output_signal(7,10,5,0) output_signal(3,0,5,0) output_signal(3,1,5,0) output_signal(3,2,5,1) output_signal(3,3,5,1) output_signal(3,4,5,0) output_signal(3,5,5,1) output_signal(3,6,5,1) output_signal(3,7,5,0) output_signal(3,8,5,1) output_signal(3,9,5,1) output_signal(3,10,5,0) output_signal(1,0,5,0) output_signal(1,1,5,0) output_signal(1,2,5,1) output_signal(1,3,5,1) output_signal(1,4,5,0) output_signal(1,5,5,0) output_signal(1,6,5,1) output_signal(1,7,5,1) output_signal(1,8,5,0) output_signal(1,9,5,0) output_signal(1,10,5,1) output_signal(0,0,5,0) output_signal(0,1,5,0) output_signal(0,2,5,1) output_signal(0,3,5,0) output_signal(0,4,5,1) output_signal(0,5,5,0) output_signal(0,6,5,1) output_signal(0,7,5,0) output_signal(0,8,5,1) output_signal(0,9,5,0) output_signal(0,10,5,1) output_signal(8,0,6,0) output_signal(8,1,6,0) output_signal(8,2,6,0) output_signal(8,3,6,0) output_signal(8,4,6,0) output_signal(8,5,6,1) output_signal(8,6,6,1) output_signal(8,7,6,1) output_signal(8,8,6,1) output_signal(8,9,6,1) output_signal(8,10,6,0) output_signal(7,0,6,0) output_signal(7,1,6,0) output_signal(7,2,6,1) output_signal(7,3,6,1) output_signal(7,4,6,0) output_signal(7,5,6,1) output_signal(7,6,6,1) output_signal(7,7,6,0) output_signal(7,8,6,1) output_signal(7,9,6,1) output_signal(7,10,6,0) output_signal(3,0,6,0) output_signal(3,1,6,0) output_signal(3,2,6,0) output_signal(3,3,6,0) output_signal(3,4,6,1) output_signal(3,5,6,1) output_signal(3,6,6,1) output_signal(3,7,6,0) output_signal(3,8,6,0) output_signal(3,9,6,0) output_signal(3,10,6,1) output_signal(1,0,6,0) output_signal(1,1,6,0) output_signal(1,2,6,0) output_signal(1,3,6,0) output_signal(1,4,6,1) output_signal(1,5,6,1) output_signal(1,6,6,1) output_signal(1,7,6,1) output_signal(1,8,6,0) output_signal(1,9,6,0) output_signal(1,10,6,0) output_signal(0,0,6,0) output_signal(0,1,6,1) output_signal(0,2,6,0) output_signal(0,3,6,0) output_signal(0,4,6,1) output_signal(0,5,6,1) output_signal(0,6,6,0) output_signal(0,7,6,0) output_signal(0,8,6,1) output_signal(0,9,6,1) output_signal(0,10,6,0) output_signal(8,0,7,0) output_signal(8,1,7,0) output_signal(8,2,7,0) output_signal(8,3,7,0) output_signal(8,4,7,0) output_signal(8,5,7,0) output_signal(8,6,7,0) output_signal(8,7,7,0) output_signal(8,8,7,0) output_signal(8,9,7,0) output_signal(8,10,7,1) output_signal(7,0,7,0) output_signal(7,1,7,1) output_signal(7,2,7,0) output_signal(7,3,7,1) output_signal(7,4,7,1) output_signal(7,5,7,0) output_signal(7,6,7,1) output_signal(7,7,7,1) output_signal(7,8,7,0) output_signal(7,9,7,1) output_signal(7,10,7,1) output_signal(3,0,7,0) output_signal(3,1,7,1) output_signal(3,2,7,0) output_signal(3,3,7,1) output_signal(3,4,7,0) output_signal(3,5,7,1) output_signal(3,6,7,0) output_signal(3,7,7,0) output_signal(3,8,7,1) output_signal(3,9,7,0) output_signal(3,10,7,1) output_signal(1,0,7,0) output_signal(1,1,7,1) output_signal(1,2,7,0) output_signal(1,3,7,1) output_signal(1,4,7,0) output_signal(1,5,7,1) output_signal(1,6,7,0) output_signal(1,7,7,1) output_signal(1,8,7,1) output_signal(1,9,7,0) output_signal(1,10,7,1) output_signal(0,0,7,0) output_signal(0,1,7,0) output_signal(0,2,7,1) output_signal(0,3,7,0) output_signal(0,4,7,0) output_signal(0,5,7,1) output_signal(0,6,7,0) output_signal(0,7,7,1) output_signal(0,8,7,1) output_signal(0,9,7,0) output_signal(0,10,7,1)\n",
      "Answer: 4\n"
     ]
    },
    {
     "name": "stdout",
     "output_type": "stream",
     "text": [
      "edge(0,1) edge(1,3) edge(3,7) edge(7,8) edge(8,9) op(9,key) op(0,mul13) op(1,mul13) op(3,mul13) op(7,mul13) op(8,mul13) output_signal(0,10,1,1) output_signal(0,7,1,1) output_signal(0,6,1,1) output_signal(0,3,1,1) output_signal(0,2,1,1) output_signal(0,9,1,0) output_signal(0,8,1,0) output_signal(0,5,1,0) output_signal(0,4,1,0) output_signal(0,1,1,0) output_signal(0,0,1,0) output_signal(0,9,0,1) output_signal(0,7,0,1) output_signal(0,5,0,1) output_signal(0,3,0,1) output_signal(0,1,0,1) output_signal(0,10,0,0) output_signal(0,8,0,0) output_signal(0,6,0,0) output_signal(0,4,0,0) output_signal(0,2,0,0) output_signal(0,0,0,0) output_signal(1,10,1,1) output_signal(1,7,1,1) output_signal(1,6,1,1) output_signal(1,3,1,1) output_signal(1,2,1,1) output_signal(1,9,1,0) output_signal(1,8,1,0) output_signal(1,5,1,0) output_signal(1,4,1,0) output_signal(1,1,1,0) output_signal(1,0,1,0) output_signal(1,9,0,1) output_signal(1,7,0,1) output_signal(1,5,0,1) output_signal(1,3,0,1) output_signal(1,1,0,1) output_signal(1,10,0,0) output_signal(1,8,0,0) output_signal(1,6,0,0) output_signal(1,4,0,0) output_signal(1,2,0,0) output_signal(1,0,0,0) output_signal(3,10,1,1) output_signal(3,7,1,1) output_signal(3,6,1,1) output_signal(3,3,1,1) output_signal(3,2,1,1) output_signal(3,9,1,0) output_signal(3,8,1,0) output_signal(3,5,1,0) output_signal(3,4,1,0) output_signal(3,1,1,0) output_signal(3,0,1,0) output_signal(3,9,0,1) output_signal(3,7,0,1) output_signal(3,5,0,1) output_signal(3,3,0,1) output_signal(3,1,0,1) output_signal(3,10,0,0) output_signal(3,8,0,0) output_signal(3,6,0,0) output_signal(3,4,0,0) output_signal(3,2,0,0) output_signal(3,0,0,0) output_signal(7,10,1,1) output_signal(7,7,1,1) output_signal(7,6,1,1) output_signal(7,3,1,1) output_signal(7,2,1,1) output_signal(7,9,1,0) output_signal(7,8,1,0) output_signal(7,5,1,0) output_signal(7,4,1,0) output_signal(7,1,1,0) output_signal(7,0,1,0) output_signal(7,9,0,1) output_signal(7,7,0,1) output_signal(7,5,0,1) output_signal(7,3,0,1) output_signal(7,1,0,1) output_signal(7,10,0,0) output_signal(7,8,0,0) output_signal(7,6,0,0) output_signal(7,4,0,0) output_signal(7,2,0,0) output_signal(7,0,0,0) output_signal(8,10,1,1) output_signal(8,7,1,1) output_signal(8,6,1,1) output_signal(8,3,1,1) output_signal(8,2,1,1) output_signal(8,9,1,0) output_signal(8,8,1,0) output_signal(8,5,1,0) output_signal(8,4,1,0) output_signal(8,1,1,0) output_signal(8,0,1,0) output_signal(8,9,0,1) output_signal(8,7,0,1) output_signal(8,5,0,1) output_signal(8,3,0,1) output_signal(8,1,0,1) output_signal(8,10,0,0) output_signal(8,8,0,0) output_signal(8,6,0,0) output_signal(8,4,0,0) output_signal(8,2,0,0) output_signal(8,0,0,0) output_signal(8,0,2,0) output_signal(8,1,2,1) output_signal(8,2,2,0) output_signal(8,3,2,1) output_signal(8,4,2,1) output_signal(8,5,2,0) output_signal(8,6,2,1) output_signal(8,7,2,0) output_signal(8,8,2,0) output_signal(8,9,2,1) output_signal(8,10,2,0) output_signal(7,0,2,0) output_signal(7,1,2,0) output_signal(7,2,2,0) output_signal(7,3,2,0) output_signal(7,4,2,1) output_signal(7,5,2,1) output_signal(7,6,2,1) output_signal(7,7,2,1) output_signal(7,8,2,0) output_signal(7,9,2,0) output_signal(7,10,2,0) output_signal(3,0,2,0) output_signal(3,1,2,1) output_signal(3,2,2,0) output_signal(3,3,2,1) output_signal(3,4,2,1) output_signal(3,5,2,0) output_signal(3,6,2,1) output_signal(3,7,2,0) output_signal(3,8,2,0) output_signal(3,9,2,1) output_signal(3,10,2,0) output_signal(1,0,2,0) output_signal(1,1,2,0) output_signal(1,2,2,0) output_signal(1,3,2,0) output_signal(1,4,2,1) output_signal(1,5,2,1) output_signal(1,6,2,1) output_signal(1,7,2,1) output_signal(1,8,2,0) output_signal(1,9,2,0) output_signal(1,10,2,0) output_signal(0,0,2,0) output_signal(0,1,2,1) output_signal(0,2,2,0) output_signal(0,3,2,1) output_signal(0,4,2,1) output_signal(0,5,2,0) output_signal(0,6,2,1) output_signal(0,7,2,0) output_signal(0,8,2,0) output_signal(0,9,2,1) output_signal(0,10,2,0) output_signal(8,0,3,0) output_signal(8,1,3,1) output_signal(8,2,3,1) output_signal(8,3,3,0) output_signal(8,4,3,0) output_signal(8,5,3,0) output_signal(8,6,3,1) output_signal(8,7,3,1) output_signal(8,8,3,1) output_signal(8,9,3,0) output_signal(8,10,3,0) output_signal(7,0,3,0) output_signal(7,1,3,1) output_signal(7,2,3,0) output_signal(7,3,3,1) output_signal(7,4,3,0) output_signal(7,5,3,1) output_signal(7,6,3,0) output_signal(7,7,3,1) output_signal(7,8,3,1) output_signal(7,9,3,0) output_signal(7,10,3,1) output_signal(3,0,3,0) output_signal(3,1,3,0) output_signal(3,2,3,1) output_signal(3,3,3,1) output_signal(3,4,3,0) output_signal(3,5,3,1) output_signal(3,6,3,1) output_signal(3,7,3,0) output_signal(3,8,3,1) output_signal(3,9,3,1) output_signal(3,10,3,0) output_signal(1,0,3,0) output_signal(1,1,3,0) output_signal(1,2,3,0) output_signal(1,3,3,0) output_signal(1,4,3,0) output_signal(1,5,3,0) output_signal(1,6,3,0) output_signal(1,7,3,0) output_signal(1,8,3,1) output_signal(1,9,3,1) output_signal(1,10,3,1) output_signal(0,0,3,0) output_signal(0,1,3,1) output_signal(0,2,3,1) output_signal(0,3,3,0) output_signal(0,4,3,0) output_signal(0,5,3,0) output_signal(0,6,3,1) output_signal(0,7,3,1) output_signal(0,8,3,1) output_signal(0,9,3,0) output_signal(0,10,3,0) output_signal(8,0,4,0) output_signal(8,1,4,0) output_signal(8,2,4,1) output_signal(8,3,4,0) output_signal(8,4,4,1) output_signal(8,5,4,0) output_signal(8,6,4,0) output_signal(8,7,4,1) output_signal(8,8,4,0) output_signal(8,9,4,1) output_signal(8,10,4,0) output_signal(7,0,4,0) output_signal(7,1,4,0) output_signal(7,2,4,1) output_signal(7,3,4,1) output_signal(7,4,4,0) output_signal(7,5,4,0) output_signal(7,6,4,1) output_signal(7,7,4,1) output_signal(7,8,4,0) output_signal(7,9,4,1) output_signal(7,10,4,1) output_signal(3,0,4,0) output_signal(3,1,4,1) output_signal(3,2,4,0) output_signal(3,3,4,1) output_signal(3,4,4,1) output_signal(3,5,4,0) output_signal(3,6,4,1) output_signal(3,7,4,1) output_signal(3,8,4,0) output_signal(3,9,4,1) output_signal(3,10,4,1) output_signal(1,0,4,0) output_signal(1,1,4,1) output_signal(1,2,4,0) output_signal(1,3,4,1) output_signal(1,4,4,0) output_signal(1,5,4,1) output_signal(1,6,4,0) output_signal(1,7,4,1) output_signal(1,8,4,0) output_signal(1,9,4,1) output_signal(1,10,4,0) output_signal(0,0,4,0) output_signal(0,1,4,1) output_signal(0,2,4,1) output_signal(0,3,4,1) output_signal(0,4,4,1) output_signal(0,5,4,1) output_signal(0,6,4,0) output_signal(0,7,4,0) output_signal(0,8,4,0) output_signal(0,9,4,0) output_signal(0,10,4,0) output_signal(8,0,5,0) output_signal(8,1,5,0) output_signal(8,2,5,0) output_signal(8,3,5,1) output_signal(8,4,5,1) output_signal(8,5,5,0) output_signal(8,6,5,0) output_signal(8,7,5,0) output_signal(8,8,5,1) output_signal(8,9,5,1) output_signal(8,10,5,0) output_signal(7,0,5,0) output_signal(7,1,5,1) output_signal(7,2,5,0) output_signal(7,3,5,1) output_signal(7,4,5,1) output_signal(7,5,5,0) output_signal(7,6,5,1) output_signal(7,7,5,0) output_signal(7,8,5,0) output_signal(7,9,5,1) output_signal(7,10,5,0) output_signal(3,0,5,0) output_signal(3,1,5,0) output_signal(3,2,5,1) output_signal(3,3,5,1) output_signal(3,4,5,0) output_signal(3,5,5,1) output_signal(3,6,5,1) output_signal(3,7,5,0) output_signal(3,8,5,1) output_signal(3,9,5,1) output_signal(3,10,5,0) output_signal(1,0,5,0) output_signal(1,1,5,0) output_signal(1,2,5,1) output_signal(1,3,5,1) output_signal(1,4,5,0) output_signal(1,5,5,0) output_signal(1,6,5,1) output_signal(1,7,5,1) output_signal(1,8,5,0) output_signal(1,9,5,0) output_signal(1,10,5,1) output_signal(0,0,5,0) output_signal(0,1,5,0) output_signal(0,2,5,1) output_signal(0,3,5,0) output_signal(0,4,5,1) output_signal(0,5,5,0) output_signal(0,6,5,1) output_signal(0,7,5,0) output_signal(0,8,5,1) output_signal(0,9,5,0) output_signal(0,10,5,1) output_signal(8,0,6,0) output_signal(8,1,6,0) output_signal(8,2,6,0) output_signal(8,3,6,0) output_signal(8,4,6,0) output_signal(8,5,6,1) output_signal(8,6,6,1) output_signal(8,7,6,1) output_signal(8,8,6,1) output_signal(8,9,6,1) output_signal(8,10,6,0) output_signal(7,0,6,0) output_signal(7,1,6,0) output_signal(7,2,6,1) output_signal(7,3,6,1) output_signal(7,4,6,0) output_signal(7,5,6,1) output_signal(7,6,6,1) output_signal(7,7,6,0) output_signal(7,8,6,1) output_signal(7,9,6,1) output_signal(7,10,6,0) output_signal(3,0,6,0) output_signal(3,1,6,0) output_signal(3,2,6,0) output_signal(3,3,6,0) output_signal(3,4,6,1) output_signal(3,5,6,1) output_signal(3,6,6,1) output_signal(3,7,6,0) output_signal(3,8,6,0) output_signal(3,9,6,0) output_signal(3,10,6,1) output_signal(1,0,6,0) output_signal(1,1,6,0) output_signal(1,2,6,0) output_signal(1,3,6,0) output_signal(1,4,6,1) output_signal(1,5,6,1) output_signal(1,6,6,1) output_signal(1,7,6,1) output_signal(1,8,6,0) output_signal(1,9,6,0) output_signal(1,10,6,0) output_signal(0,0,6,0) output_signal(0,1,6,1) output_signal(0,2,6,0) output_signal(0,3,6,0) output_signal(0,4,6,1) output_signal(0,5,6,1) output_signal(0,6,6,0) output_signal(0,7,6,0) output_signal(0,8,6,1) output_signal(0,9,6,1) output_signal(0,10,6,0) output_signal(8,0,7,0) output_signal(8,1,7,0) output_signal(8,2,7,0) output_signal(8,3,7,0) output_signal(8,4,7,0) output_signal(8,5,7,0) output_signal(8,6,7,0) output_signal(8,7,7,0) output_signal(8,8,7,0) output_signal(8,9,7,0) output_signal(8,10,7,1) output_signal(7,0,7,0) output_signal(7,1,7,1) output_signal(7,2,7,0) output_signal(7,3,7,1) output_signal(7,4,7,1) output_signal(7,5,7,0) output_signal(7,6,7,1) output_signal(7,7,7,1) output_signal(7,8,7,0) output_signal(7,9,7,1) output_signal(7,10,7,1) output_signal(3,0,7,0) output_signal(3,1,7,1) output_signal(3,2,7,0) output_signal(3,3,7,1) output_signal(3,4,7,0) output_signal(3,5,7,1) output_signal(3,6,7,0) output_signal(3,7,7,0) output_signal(3,8,7,1) output_signal(3,9,7,0) output_signal(3,10,7,1) output_signal(1,0,7,0) output_signal(1,1,7,1) output_signal(1,2,7,0) output_signal(1,3,7,1) output_signal(1,4,7,0) output_signal(1,5,7,1) output_signal(1,6,7,0) output_signal(1,7,7,1) output_signal(1,8,7,1) output_signal(1,9,7,0) output_signal(1,10,7,1) output_signal(0,0,7,0) output_signal(0,1,7,0) output_signal(0,2,7,1) output_signal(0,3,7,0) output_signal(0,4,7,0) output_signal(0,5,7,1) output_signal(0,6,7,0) output_signal(0,7,7,1) output_signal(0,8,7,1) output_signal(0,9,7,0) output_signal(0,10,7,1)\r\n",
      "Answer: 5\r\n",
      "edge(0,1) edge(1,3) edge(3,7) edge(7,8) edge(8,9) edge(9,10) op(10,key) op(0,mul13) op(1,mul13) op(3,mul13) op(7,mul13) op(8,mul13) op(9,mul13) output_signal(0,10,1,1) output_signal(0,7,1,1) output_signal(0,6,1,1) output_signal(0,3,1,1) output_signal(0,2,1,1) output_signal(0,9,1,0) output_signal(0,8,1,0) output_signal(0,5,1,0) output_signal(0,4,1,0) output_signal(0,1,1,0) output_signal(0,0,1,0) output_signal(0,9,0,1) output_signal(0,7,0,1) output_signal(0,5,0,1) output_signal(0,3,0,1) output_signal(0,1,0,1) output_signal(0,10,0,0) output_signal(0,8,0,0) output_signal(0,6,0,0) output_signal(0,4,0,0) output_signal(0,2,0,0) output_signal(0,0,0,0) output_signal(1,10,1,1) output_signal(1,7,1,1) output_signal(1,6,1,1) output_signal(1,3,1,1) output_signal(1,2,1,1) output_signal(1,9,1,0) output_signal(1,8,1,0) output_signal(1,5,1,0) output_signal(1,4,1,0) output_signal(1,1,1,0) output_signal(1,0,1,0) output_signal(1,9,0,1) output_signal(1,7,0,1) output_signal(1,5,0,1) output_signal(1,3,0,1) output_signal(1,1,0,1) output_signal(1,10,0,0) output_signal(1,8,0,0) output_signal(1,6,0,0) output_signal(1,4,0,0) output_signal(1,2,0,0) output_signal(1,0,0,0) output_signal(3,10,1,1) output_signal(3,7,1,1) output_signal(3,6,1,1) output_signal(3,3,1,1) output_signal(3,2,1,1) output_signal(3,9,1,0) output_signal(3,8,1,0) output_signal(3,5,1,0) output_signal(3,4,1,0) output_signal(3,1,1,0) output_signal(3,0,1,0) output_signal(3,9,0,1) output_signal(3,7,0,1) output_signal(3,5,0,1) output_signal(3,3,0,1) output_signal(3,1,0,1) output_signal(3,10,0,0) output_signal(3,8,0,0) output_signal(3,6,0,0) output_signal(3,4,0,0) output_signal(3,2,0,0) output_signal(3,0,0,0) output_signal(7,10,1,1) output_signal(7,7,1,1) output_signal(7,6,1,1) output_signal(7,3,1,1) output_signal(7,2,1,1) output_signal(7,9,1,0) output_signal(7,8,1,0) output_signal(7,5,1,0) output_signal(7,4,1,0) output_signal(7,1,1,0) output_signal(7,0,1,0) output_signal(7,9,0,1) output_signal(7,7,0,1) output_signal(7,5,0,1) output_signal(7,3,0,1) output_signal(7,1,0,1) output_signal(7,10,0,0) output_signal(7,8,0,0) output_signal(7,6,0,0) output_signal(7,4,0,0) output_signal(7,2,0,0) output_signal(7,0,0,0) output_signal(8,10,1,1) output_signal(8,7,1,1) output_signal(8,6,1,1) output_signal(8,3,1,1) output_signal(8,2,1,1) output_signal(8,9,1,0) output_signal(8,8,1,0) output_signal(8,5,1,0) output_signal(8,4,1,0) output_signal(8,1,1,0) output_signal(8,0,1,0) output_signal(8,9,0,1) output_signal(8,7,0,1) output_signal(8,5,0,1) output_signal(8,3,0,1) output_signal(8,1,0,1) output_signal(8,10,0,0) output_signal(8,8,0,0) output_signal(8,6,0,0) output_signal(8,4,0,0) output_signal(8,2,0,0) output_signal(8,0,0,0) output_signal(9,10,1,1) output_signal(9,7,1,1) output_signal(9,6,1,1) output_signal(9,3,1,1) output_signal(9,2,1,1) output_signal(9,9,1,0) output_signal(9,8,1,0) output_signal(9,5,1,0) output_signal(9,4,1,0) output_signal(9,1,1,0) output_signal(9,0,1,0) output_signal(9,9,0,1) output_signal(9,7,0,1) output_signal(9,5,0,1) output_signal(9,3,0,1) output_signal(9,1,0,1) output_signal(9,10,0,0) output_signal(9,8,0,0) output_signal(9,6,0,0) output_signal(9,4,0,0) output_signal(9,2,0,0) output_signal(9,0,0,0) output_signal(9,0,2,0) output_signal(9,1,2,1) output_signal(9,2,2,0) output_signal(9,3,2,1) output_signal(9,4,2,1) output_signal(9,5,2,0) output_signal(9,6,2,1) output_signal(9,7,2,0) output_signal(9,8,2,0) output_signal(9,9,2,1) output_signal(9,10,2,0) output_signal(8,0,2,0) output_signal(8,1,2,0) output_signal(8,2,2,0) output_signal(8,3,2,0) output_signal(8,4,2,1) output_signal(8,5,2,1) output_signal(8,6,2,1) output_signal(8,7,2,1) output_signal(8,8,2,0) output_signal(8,9,2,0) output_signal(8,10,2,0) output_signal(7,0,2,0) output_signal(7,1,2,1) output_signal(7,2,2,0) output_signal(7,3,2,1) output_signal(7,4,2,1) output_signal(7,5,2,0) output_signal(7,6,2,1) output_signal(7,7,2,0) output_signal(7,8,2,0) output_signal(7,9,2,1) output_signal(7,10,2,0) output_signal(3,0,2,0) output_signal(3,1,2,0) output_signal(3,2,2,0) output_signal(3,3,2,0) output_signal(3,4,2,1) output_signal(3,5,2,1) output_signal(3,6,2,1) output_signal(3,7,2,1) output_signal(3,8,2,0) output_signal(3,9,2,0) output_signal(3,10,2,0) output_signal(1,0,2,0) output_signal(1,1,2,1) output_signal(1,2,2,0) output_signal(1,3,2,1) output_signal(1,4,2,1) output_signal(1,5,2,0) output_signal(1,6,2,1) output_signal(1,7,2,0) output_signal(1,8,2,0) output_signal(1,9,2,1) output_signal(1,10,2,0) output_signal(0,0,2,0) output_signal(0,1,2,0) output_signal(0,2,2,0) output_signal(0,3,2,0) output_signal(0,4,2,1) output_signal(0,5,2,1) output_signal(0,6,2,1) output_signal(0,7,2,1) output_signal(0,8,2,0) output_signal(0,9,2,0) output_signal(0,10,2,0) output_signal(9,0,3,0) output_signal(9,1,3,1) output_signal(9,2,3,1) output_signal(9,3,3,0) output_signal(9,4,3,0) output_signal(9,5,3,0) output_signal(9,6,3,1) output_signal(9,7,3,1) output_signal(9,8,3,1) output_signal(9,9,3,0) output_signal(9,10,3,0) output_signal(8,0,3,0) output_signal(8,1,3,1) output_signal(8,2,3,0) output_signal(8,3,3,1) output_signal(8,4,3,0) output_signal(8,5,3,1) output_signal(8,6,3,0) output_signal(8,7,3,1) output_signal(8,8,3,1) output_signal(8,9,3,0) output_signal(8,10,3,1) output_signal(7,0,3,0) output_signal(7,1,3,0) output_signal(7,2,3,1) output_signal(7,3,3,1) output_signal(7,4,3,0) output_signal(7,5,3,1) output_signal(7,6,3,1) output_signal(7,7,3,0) output_signal(7,8,3,1) output_signal(7,9,3,1) output_signal(7,10,3,0) output_signal(3,0,3,0) output_signal(3,1,3,0) output_signal(3,2,3,0) output_signal(3,3,3,0) output_signal(3,4,3,0) output_signal(3,5,3,0) output_signal(3,6,3,0) output_signal(3,7,3,0) output_signal(3,8,3,1) output_signal(3,9,3,1) output_signal(3,10,3,1) output_signal(1,0,3,0) output_signal(1,1,3,1) output_signal(1,2,3,1) output_signal(1,3,3,0) output_signal(1,4,3,0) output_signal(1,5,3,0) output_signal(1,6,3,1) output_signal(1,7,3,1) output_signal(1,8,3,1) output_signal(1,9,3,0) output_signal(1,10,3,0) output_signal(0,0,3,0) output_signal(0,1,3,1) output_signal(0,2,3,0) output_signal(0,3,3,1) output_signal(0,4,3,0) output_signal(0,5,3,1) output_signal(0,6,3,0) output_signal(0,7,3,1) output_signal(0,8,3,1) output_signal(0,9,3,0) output_signal(0,10,3,1) output_signal(9,0,4,0) output_signal(9,1,4,0) output_signal(9,2,4,1) output_signal(9,3,4,0) output_signal(9,4,4,1) output_signal(9,5,4,0) output_signal(9,6,4,0) output_signal(9,7,4,1) output_signal(9,8,4,0) output_signal(9,9,4,1) output_signal(9,10,4,0) output_signal(8,0,4,0) output_signal(8,1,4,0) output_signal(8,2,4,1) output_signal(8,3,4,1) output_signal(8,4,4,0) output_signal(8,5,4,0) output_signal(8,6,4,1) output_signal(8,7,4,1) output_signal(8,8,4,0) output_signal(8,9,4,1) output_signal(8,10,4,1) output_signal(7,0,4,0) output_signal(7,1,4,1) output_signal(7,2,4,0) output_signal(7,3,4,1) output_signal(7,4,4,1) output_signal(7,5,4,0) output_signal(7,6,4,1) output_signal(7,7,4,1) output_signal(7,8,4,0) output_signal(7,9,4,1) output_signal(7,10,4,1) output_signal(3,0,4,0) output_signal(3,1,4,1) output_signal(3,2,4,0) output_signal(3,3,4,1) output_signal(3,4,4,0) output_signal(3,5,4,1) output_signal(3,6,4,0) output_signal(3,7,4,1) output_signal(3,8,4,0) output_signal(3,9,4,1) output_signal(3,10,4,0) output_signal(1,0,4,0) output_signal(1,1,4,1) output_signal(1,2,4,1) output_signal(1,3,4,1) output_signal(1,4,4,1) output_signal(1,5,4,1) output_signal(1,6,4,0) output_signal(1,7,4,0) output_signal(1,8,4,0) output_signal(1,9,4,0) output_signal(1,10,4,0) output_signal(0,0,4,0) output_signal(0,1,4,1) output_signal(0,2,4,1) output_signal(0,3,4,0) output_signal(0,4,4,0) output_signal(0,5,4,1) output_signal(0,6,4,1) output_signal(0,7,4,0) output_signal(0,8,4,0) output_signal(0,9,4,0) output_signal(0,10,4,1) output_signal(9,0,5,0) output_signal(9,1,5,0) output_signal(9,2,5,0) output_signal(9,3,5,1) output_signal(9,4,5,1) output_signal(9,5,5,0) output_signal(9,6,5,0) output_signal(9,7,5,0) output_signal(9,8,5,1) output_signal(9,9,5,1) output_signal(9,10,5,0) output_signal(8,0,5,0) output_signal(8,1,5,1) output_signal(8,2,5,0) output_signal(8,3,5,1) output_signal(8,4,5,1) output_signal(8,5,5,0) output_signal(8,6,5,1) output_signal(8,7,5,0) output_signal(8,8,5,0) output_signal(8,9,5,1) output_signal(8,10,5,0) output_signal(7,0,5,0) output_signal(7,1,5,0) output_signal(7,2,5,1) output_signal(7,3,5,1) output_signal(7,4,5,0) output_signal(7,5,5,1) output_signal(7,6,5,1) output_signal(7,7,5,0) output_signal(7,8,5,1) output_signal(7,9,5,1) output_signal(7,10,5,0) output_signal(3,0,5,0) output_signal(3,1,5,0) output_signal(3,2,5,1) output_signal(3,3,5,1) output_signal(3,4,5,0) output_signal(3,5,5,0) output_signal(3,6,5,1) output_signal(3,7,5,1) output_signal(3,8,5,0) output_signal(3,9,5,0) output_signal(3,10,5,1) output_signal(1,0,5,0) output_signal(1,1,5,0) output_signal(1,2,5,1) output_signal(1,3,5,0) output_signal(1,4,5,1) output_signal(1,5,5,0) output_signal(1,6,5,1) output_signal(1,7,5,0) output_signal(1,8,5,1) output_signal(1,9,5,0) output_signal(1,10,5,1) output_signal(0,0,5,0) output_signal(0,1,5,1) output_signal(0,2,5,1) output_signal(0,3,5,1) output_signal(0,4,5,1) output_signal(0,5,5,0) output_signal(0,6,5,0) output_signal(0,7,5,0) output_signal(0,8,5,0) output_signal(0,9,5,0) output_signal(0,10,5,1) output_signal(9,0,6,0) output_signal(9,1,6,0) output_signal(9,2,6,0) output_signal(9,3,6,0) output_signal(9,4,6,0) output_signal(9,5,6,1) output_signal(9,6,6,1) output_signal(9,7,6,1) output_signal(9,8,6,1) output_signal(9,9,6,1) output_signal(9,10,6,0) output_signal(8,0,6,0) output_signal(8,1,6,0) output_signal(8,2,6,1) output_signal(8,3,6,1) output_signal(8,4,6,0) output_signal(8,5,6,1) output_signal(8,6,6,1) output_signal(8,7,6,0) output_signal(8,8,6,1) output_signal(8,9,6,1) output_signal(8,10,6,0) output_signal(7,0,6,0) output_signal(7,1,6,0) output_signal(7,2,6,0) output_signal(7,3,6,0) output_signal(7,4,6,1) output_signal(7,5,6,1) output_signal(7,6,6,1) output_signal(7,7,6,0) output_signal(7,8,6,0) output_signal(7,9,6,0) output_signal(7,10,6,1) output_signal(3,0,6,0) output_signal(3,1,6,0) output_signal(3,2,6,0) output_signal(3,3,6,0) output_signal(3,4,6,1) output_signal(3,5,6,1) output_signal(3,6,6,1) output_signal(3,7,6,1) output_signal(3,8,6,0) output_signal(3,9,6,0) output_signal(3,10,6,0) output_signal(1,0,6,0) output_signal(1,1,6,1) output_signal(1,2,6,0) output_signal(1,3,6,0) output_signal(1,4,6,1) output_signal(1,5,6,1) output_signal(1,6,6,0) output_signal(1,7,6,0) output_signal(1,8,6,1) output_signal(1,9,6,1) output_signal(1,10,6,0) output_signal(0,0,6,0) output_signal(0,1,6,0) output_signal(0,2,6,1) output_signal(0,3,6,0) output_signal(0,4,6,1) output_signal(0,5,6,0) output_signal(0,6,6,1) output_signal(0,7,6,0) output_signal(0,8,6,1) output_signal(0,9,6,0) output_signal(0,10,6,0) output_signal(9,0,7,0) output_signal(9,1,7,0) output_signal(9,2,7,0) output_signal(9,3,7,0) output_signal(9,4,7,0) output_signal(9,5,7,0) output_signal(9,6,7,0) output_signal(9,7,7,0) output_signal(9,8,7,0) output_signal(9,9,7,0) output_signal(9,10,7,1) output_signal(8,0,7,0) output_signal(8,1,7,1) output_signal(8,2,7,0) output_signal(8,3,7,1) output_signal(8,4,7,1) output_signal(8,5,7,0) output_signal(8,6,7,1) output_signal(8,7,7,1) output_signal(8,8,7,0) output_signal(8,9,7,1) output_signal(8,10,7,1) output_signal(7,0,7,0) output_signal(7,1,7,1) output_signal(7,2,7,0) output_signal(7,3,7,1) output_signal(7,4,7,0) output_signal(7,5,7,1) output_signal(7,6,7,0) output_signal(7,7,7,0) output_signal(7,8,7,1) output_signal(7,9,7,0) output_signal(7,10,7,1) output_signal(3,0,7,0) output_signal(3,1,7,1) output_signal(3,2,7,0) output_signal(3,3,7,1) output_signal(3,4,7,0) output_signal(3,5,7,1) output_signal(3,6,7,0) output_signal(3,7,7,1) output_signal(3,8,7,1) output_signal(3,9,7,0) output_signal(3,10,7,1) output_signal(1,0,7,0) output_signal(1,1,7,0) output_signal(1,2,7,1) output_signal(1,3,7,0) output_signal(1,4,7,0) output_signal(1,5,7,1) output_signal(1,6,7,0) output_signal(1,7,7,1) output_signal(1,8,7,1) output_signal(1,9,7,0) output_signal(1,10,7,1) output_signal(0,0,7,0) output_signal(0,1,7,1) output_signal(0,2,7,0) output_signal(0,3,7,0) output_signal(0,4,7,1) output_signal(0,5,7,1) output_signal(0,6,7,0) output_signal(0,7,7,0) output_signal(0,8,7,1) output_signal(0,9,7,1) output_signal(0,10,7,0)\r\n",
      "Answer: 6\r\n",
      "edge(0,1) edge(1,3) edge(3,7) op(7,key) op(0,mul13) op(1,mul13) op(3,mul13) output_signal(0,10,1,1) output_signal(0,7,1,1) output_signal(0,6,1,1) output_signal(0,3,1,1) output_signal(0,2,1,1) output_signal(0,9,1,0) output_signal(0,8,1,0) output_signal(0,5,1,0) output_signal(0,4,1,0) output_signal(0,1,1,0) output_signal(0,0,1,0) output_signal(0,9,0,1) output_signal(0,7,0,1) output_signal(0,5,0,1) output_signal(0,3,0,1) output_signal(0,1,0,1) output_signal(0,10,0,0) output_signal(0,8,0,0) output_signal(0,6,0,0) output_signal(0,4,0,0) output_signal(0,2,0,0) output_signal(0,0,0,0) output_signal(1,10,1,1) output_signal(1,7,1,1) output_signal(1,6,1,1) output_signal(1,3,1,1) output_signal(1,2,1,1) output_signal(1,9,1,0) output_signal(1,8,1,0) output_signal(1,5,1,0) output_signal(1,4,1,0) output_signal(1,1,1,0) output_signal(1,0,1,0) output_signal(1,9,0,1) output_signal(1,7,0,1) output_signal(1,5,0,1) output_signal(1,3,0,1) output_signal(1,1,0,1) output_signal(1,10,0,0) output_signal(1,8,0,0) output_signal(1,6,0,0) output_signal(1,4,0,0) output_signal(1,2,0,0) output_signal(1,0,0,0) output_signal(3,10,1,1) output_signal(3,7,1,1) output_signal(3,6,1,1) output_signal(3,3,1,1) output_signal(3,2,1,1) output_signal(3,9,1,0) output_signal(3,8,1,0) output_signal(3,5,1,0) output_signal(3,4,1,0) output_signal(3,1,1,0) output_signal(3,0,1,0) output_signal(3,9,0,1) output_signal(3,7,0,1) output_signal(3,5,0,1) output_signal(3,3,0,1) output_signal(3,1,0,1) output_signal(3,10,0,0) output_signal(3,8,0,0) output_signal(3,6,0,0) output_signal(3,4,0,0) output_signal(3,2,0,0) output_signal(3,0,0,0) output_signal(3,0,2,0) output_signal(3,1,2,1) output_signal(3,2,2,0) output_signal(3,3,2,1) output_signal(3,4,2,1) output_signal(3,5,2,0) output_signal(3,6,2,1) output_signal(3,7,2,0) output_signal(3,8,2,0) output_signal(3,9,2,1) output_signal(3,10,2,0) output_signal(1,0,2,0) output_signal(1,1,2,0) output_signal(1,2,2,0) output_signal(1,3,2,0) output_signal(1,4,2,1) output_signal(1,5,2,1) output_signal(1,6,2,1) output_signal(1,7,2,1) output_signal(1,8,2,0) output_signal(1,9,2,0) output_signal(1,10,2,0) output_signal(0,0,2,0) output_signal(0,1,2,1) output_signal(0,2,2,0) output_signal(0,3,2,1) output_signal(0,4,2,1) output_signal(0,5,2,0) output_signal(0,6,2,1) output_signal(0,7,2,0) output_signal(0,8,2,0) output_signal(0,9,2,1) output_signal(0,10,2,0) output_signal(3,0,3,0) output_signal(3,1,3,1) output_signal(3,2,3,1) output_signal(3,3,3,0) output_signal(3,4,3,0) output_signal(3,5,3,0) output_signal(3,6,3,1) output_signal(3,7,3,1) output_signal(3,8,3,1) output_signal(3,9,3,0) output_signal(3,10,3,0) output_signal(1,0,3,0) output_signal(1,1,3,1) output_signal(1,2,3,0) output_signal(1,3,3,1) output_signal(1,4,3,0) output_signal(1,5,3,1) output_signal(1,6,3,0) output_signal(1,7,3,1) output_signal(1,8,3,1) output_signal(1,9,3,0) output_signal(1,10,3,1) output_signal(0,0,3,0) output_signal(0,1,3,0) output_signal(0,2,3,1) output_signal(0,3,3,1) output_signal(0,4,3,0) output_signal(0,5,3,1) output_signal(0,6,3,1) output_signal(0,7,3,0) output_signal(0,8,3,1) output_signal(0,9,3,1) output_signal(0,10,3,0) output_signal(3,0,4,0) output_signal(3,1,4,0) output_signal(3,2,4,1) output_signal(3,3,4,0) output_signal(3,4,4,1) output_signal(3,5,4,0) output_signal(3,6,4,0) output_signal(3,7,4,1) output_signal(3,8,4,0) output_signal(3,9,4,1) output_signal(3,10,4,0) output_signal(1,0,4,0) output_signal(1,1,4,0) output_signal(1,2,4,1) output_signal(1,3,4,1) output_signal(1,4,4,0) output_signal(1,5,4,0) output_signal(1,6,4,1) output_signal(1,7,4,1) output_signal(1,8,4,0) output_signal(1,9,4,1) output_signal(1,10,4,1) output_signal(0,0,4,0) output_signal(0,1,4,1) output_signal(0,2,4,0) output_signal(0,3,4,1) output_signal(0,4,4,1) output_signal(0,5,4,0) output_signal(0,6,4,1) output_signal(0,7,4,1) output_signal(0,8,4,0) output_signal(0,9,4,1) output_signal(0,10,4,1) output_signal(3,0,5,0) output_signal(3,1,5,0) output_signal(3,2,5,0) output_signal(3,3,5,1) output_signal(3,4,5,1) output_signal(3,5,5,0) output_signal(3,6,5,0) output_signal(3,7,5,0) output_signal(3,8,5,1) output_signal(3,9,5,1) output_signal(3,10,5,0) output_signal(1,0,5,0) output_signal(1,1,5,1) output_signal(1,2,5,0) output_signal(1,3,5,1) output_signal(1,4,5,1) output_signal(1,5,5,0) output_signal(1,6,5,1) output_signal(1,7,5,0) output_signal(1,8,5,0) output_signal(1,9,5,1) output_signal(1,10,5,0) output_signal(0,0,5,0) output_signal(0,1,5,0) output_signal(0,2,5,1) output_signal(0,3,5,1) output_signal(0,4,5,0) output_signal(0,5,5,1) output_signal(0,6,5,1) output_signal(0,7,5,0) output_signal(0,8,5,1) output_signal(0,9,5,1) output_signal(0,10,5,0) output_signal(3,0,6,0) output_signal(3,1,6,0) output_signal(3,2,6,0) output_signal(3,3,6,0) output_signal(3,4,6,0) output_signal(3,5,6,1) output_signal(3,6,6,1) output_signal(3,7,6,1) output_signal(3,8,6,1) output_signal(3,9,6,1) output_signal(3,10,6,0) output_signal(1,0,6,0) output_signal(1,1,6,0) output_signal(1,2,6,1) output_signal(1,3,6,1) output_signal(1,4,6,0) output_signal(1,5,6,1) output_signal(1,6,6,1) output_signal(1,7,6,0) output_signal(1,8,6,1) output_signal(1,9,6,1) output_signal(1,10,6,0) output_signal(0,0,6,0) output_signal(0,1,6,0) output_signal(0,2,6,0) output_signal(0,3,6,0) output_signal(0,4,6,1) output_signal(0,5,6,1) output_signal(0,6,6,1) output_signal(0,7,6,0) output_signal(0,8,6,0) output_signal(0,9,6,0) output_signal(0,10,6,1) output_signal(3,0,7,0) output_signal(3,1,7,0) output_signal(3,2,7,0) output_signal(3,3,7,0) output_signal(3,4,7,0) output_signal(3,5,7,0) output_signal(3,6,7,0) output_signal(3,7,7,0) output_signal(3,8,7,0) output_signal(3,9,7,0) output_signal(3,10,7,1) output_signal(1,0,7,0) output_signal(1,1,7,1) output_signal(1,2,7,0) output_signal(1,3,7,1) output_signal(1,4,7,1) output_signal(1,5,7,0) output_signal(1,6,7,1) output_signal(1,7,7,1) output_signal(1,8,7,0) output_signal(1,9,7,1) output_signal(1,10,7,1) output_signal(0,0,7,0) output_signal(0,1,7,1) output_signal(0,2,7,0) output_signal(0,3,7,1) output_signal(0,4,7,0) output_signal(0,5,7,1) output_signal(0,6,7,0) output_signal(0,7,7,0) output_signal(0,8,7,1) output_signal(0,9,7,0) output_signal(0,10,7,1)\r\n",
      "Answer: 7\r\n",
      "edge(0,1) edge(1,3) edge(3,7) edge(7,10) op(10,key) op(0,mul13) op(1,mul13) op(3,mul13) op(7,mul13) output_signal(0,10,1,1) output_signal(0,7,1,1) output_signal(0,6,1,1) output_signal(0,3,1,1) output_signal(0,2,1,1) output_signal(0,9,1,0) output_signal(0,8,1,0) output_signal(0,5,1,0) output_signal(0,4,1,0) output_signal(0,1,1,0) output_signal(0,0,1,0) output_signal(0,9,0,1) output_signal(0,7,0,1) output_signal(0,5,0,1) output_signal(0,3,0,1) output_signal(0,1,0,1) output_signal(0,10,0,0) output_signal(0,8,0,0) output_signal(0,6,0,0) output_signal(0,4,0,0) output_signal(0,2,0,0) output_signal(0,0,0,0) output_signal(1,10,1,1) output_signal(1,7,1,1) output_signal(1,6,1,1) output_signal(1,3,1,1) output_signal(1,2,1,1) output_signal(1,9,1,0) output_signal(1,8,1,0) output_signal(1,5,1,0) output_signal(1,4,1,0) output_signal(1,1,1,0) output_signal(1,0,1,0) output_signal(1,9,0,1) output_signal(1,7,0,1) output_signal(1,5,0,1) output_signal(1,3,0,1) output_signal(1,1,0,1) output_signal(1,10,0,0) output_signal(1,8,0,0) output_signal(1,6,0,0) output_signal(1,4,0,0) output_signal(1,2,0,0) output_signal(1,0,0,0) output_signal(3,10,1,1) output_signal(3,7,1,1) output_signal(3,6,1,1) output_signal(3,3,1,1) output_signal(3,2,1,1) output_signal(3,9,1,0) output_signal(3,8,1,0) output_signal(3,5,1,0) output_signal(3,4,1,0) output_signal(3,1,1,0) output_signal(3,0,1,0) output_signal(3,9,0,1) output_signal(3,7,0,1) output_signal(3,5,0,1) output_signal(3,3,0,1) output_signal(3,1,0,1) output_signal(3,10,0,0) output_signal(3,8,0,0) output_signal(3,6,0,0) output_signal(3,4,0,0) output_signal(3,2,0,0) output_signal(3,0,0,0) output_signal(7,10,1,1) output_signal(7,7,1,1) output_signal(7,6,1,1) output_signal(7,3,1,1) output_signal(7,2,1,1) output_signal(7,9,1,0) output_signal(7,8,1,0) output_signal(7,5,1,0) output_signal(7,4,1,0) output_signal(7,1,1,0) output_signal(7,0,1,0) output_signal(7,9,0,1) output_signal(7,7,0,1) output_signal(7,5,0,1) output_signal(7,3,0,1) output_signal(7,1,0,1) output_signal(7,10,0,0) output_signal(7,8,0,0) output_signal(7,6,0,0) output_signal(7,4,0,0) output_signal(7,2,0,0) output_signal(7,0,0,0) output_signal(7,0,2,0) output_signal(7,1,2,1) output_signal(7,2,2,0) output_signal(7,3,2,1) output_signal(7,4,2,1) output_signal(7,5,2,0) output_signal(7,6,2,1) output_signal(7,7,2,0) output_signal(7,8,2,0) output_signal(7,9,2,1) output_signal(7,10,2,0) output_signal(3,0,2,0) output_signal(3,1,2,0) output_signal(3,2,2,0) output_signal(3,3,2,0) output_signal(3,4,2,1) output_signal(3,5,2,1) output_signal(3,6,2,1) output_signal(3,7,2,1) output_signal(3,8,2,0) output_signal(3,9,2,0) output_signal(3,10,2,0) output_signal(1,0,2,0) output_signal(1,1,2,1) output_signal(1,2,2,0) output_signal(1,3,2,1) output_signal(1,4,2,1) output_signal(1,5,2,0) output_signal(1,6,2,1) output_signal(1,7,2,0) output_signal(1,8,2,0) output_signal(1,9,2,1) output_signal(1,10,2,0) output_signal(0,0,2,0) output_signal(0,1,2,0) output_signal(0,2,2,0) output_signal(0,3,2,0) output_signal(0,4,2,1) output_signal(0,5,2,1) output_signal(0,6,2,1) output_signal(0,7,2,1) output_signal(0,8,2,0) output_signal(0,9,2,0) output_signal(0,10,2,0) output_signal(7,0,3,0) output_signal(7,1,3,1) output_signal(7,2,3,1) output_signal(7,3,3,0) output_signal(7,4,3,0) output_signal(7,5,3,0) output_signal(7,6,3,1) output_signal(7,7,3,1) output_signal(7,8,3,1) output_signal(7,9,3,0) output_signal(7,10,3,0) output_signal(3,0,3,0) output_signal(3,1,3,1) output_signal(3,2,3,0) output_signal(3,3,3,1) output_signal(3,4,3,0) output_signal(3,5,3,1) output_signal(3,6,3,0) output_signal(3,7,3,1) output_signal(3,8,3,1) output_signal(3,9,3,0) output_signal(3,10,3,1) output_signal(1,0,3,0) output_signal(1,1,3,0) output_signal(1,2,3,1) output_signal(1,3,3,1) output_signal(1,4,3,0) output_signal(1,5,3,1) output_signal(1,6,3,1) output_signal(1,7,3,0) output_signal(1,8,3,1) output_signal(1,9,3,1) output_signal(1,10,3,0) output_signal(0,0,3,0) output_signal(0,1,3,0) output_signal(0,2,3,0) output_signal(0,3,3,0) output_signal(0,4,3,0) output_signal(0,5,3,0) output_signal(0,6,3,0) output_signal(0,7,3,0) output_signal(0,8,3,1) output_signal(0,9,3,1) output_signal(0,10,3,1) output_signal(7,0,4,0) output_signal(7,1,4,0) output_signal(7,2,4,1) output_signal(7,3,4,0) output_signal(7,4,4,1) output_signal(7,5,4,0) output_signal(7,6,4,0) output_signal(7,7,4,1) output_signal(7,8,4,0) output_signal(7,9,4,1) output_signal(7,10,4,0) output_signal(3,0,4,0) output_signal(3,1,4,0) output_signal(3,2,4,1) output_signal(3,3,4,1) output_signal(3,4,4,0) output_signal(3,5,4,0) output_signal(3,6,4,1) output_signal(3,7,4,1) output_signal(3,8,4,0) output_signal(3,9,4,1) output_signal(3,10,4,1) output_signal(1,0,4,0) output_signal(1,1,4,1) output_signal(1,2,4,0) output_signal(1,3,4,1) output_signal(1,4,4,1) output_signal(1,5,4,0) output_signal(1,6,4,1) output_signal(1,7,4,1) output_signal(1,8,4,0) output_signal(1,9,4,1) output_signal(1,10,4,1) output_signal(0,0,4,0) output_signal(0,1,4,1) output_signal(0,2,4,0) output_signal(0,3,4,1) output_signal(0,4,4,0) output_signal(0,5,4,1) output_signal(0,6,4,0) output_signal(0,7,4,1) output_signal(0,8,4,0) output_signal(0,9,4,1) output_signal(0,10,4,0) output_signal(7,0,5,0) output_signal(7,1,5,0) output_signal(7,2,5,0) output_signal(7,3,5,1) output_signal(7,4,5,1) output_signal(7,5,5,0) output_signal(7,6,5,0) output_signal(7,7,5,0) output_signal(7,8,5,1) output_signal(7,9,5,1) output_signal(7,10,5,0) output_signal(3,0,5,0) output_signal(3,1,5,1) output_signal(3,2,5,0) output_signal(3,3,5,1) output_signal(3,4,5,1) output_signal(3,5,5,0) output_signal(3,6,5,1) output_signal(3,7,5,0) output_signal(3,8,5,0) output_signal(3,9,5,1) output_signal(3,10,5,0) output_signal(1,0,5,0) output_signal(1,1,5,0) output_signal(1,2,5,1) output_signal(1,3,5,1) output_signal(1,4,5,0) output_signal(1,5,5,1) output_signal(1,6,5,1) output_signal(1,7,5,0) output_signal(1,8,5,1) output_signal(1,9,5,1) output_signal(1,10,5,0) output_signal(0,0,5,0) output_signal(0,1,5,0) output_signal(0,2,5,1) output_signal(0,3,5,1) output_signal(0,4,5,0) output_signal(0,5,5,0) output_signal(0,6,5,1) output_signal(0,7,5,1) output_signal(0,8,5,0) output_signal(0,9,5,0) output_signal(0,10,5,1) output_signal(7,0,6,0) output_signal(7,1,6,0) output_signal(7,2,6,0) output_signal(7,3,6,0) output_signal(7,4,6,0) output_signal(7,5,6,1) output_signal(7,6,6,1) output_signal(7,7,6,1) output_signal(7,8,6,1) output_signal(7,9,6,1) output_signal(7,10,6,0) output_signal(3,0,6,0) output_signal(3,1,6,0) output_signal(3,2,6,1) output_signal(3,3,6,1) output_signal(3,4,6,0) output_signal(3,5,6,1) output_signal(3,6,6,1) output_signal(3,7,6,0) output_signal(3,8,6,1) output_signal(3,9,6,1) output_signal(3,10,6,0) output_signal(1,0,6,0) output_signal(1,1,6,0) output_signal(1,2,6,0) output_signal(1,3,6,0) output_signal(1,4,6,1) output_signal(1,5,6,1) output_signal(1,6,6,1) output_signal(1,7,6,0) output_signal(1,8,6,0) output_signal(1,9,6,0) output_signal(1,10,6,1) output_signal(0,0,6,0) output_signal(0,1,6,0) output_signal(0,2,6,0) output_signal(0,3,6,0) output_signal(0,4,6,1) output_signal(0,5,6,1) output_signal(0,6,6,1) output_signal(0,7,6,1) output_signal(0,8,6,0) output_signal(0,9,6,0) output_signal(0,10,6,0) output_signal(7,0,7,0) output_signal(7,1,7,0) output_signal(7,2,7,0) output_signal(7,3,7,0) output_signal(7,4,7,0) output_signal(7,5,7,0) output_signal(7,6,7,0) output_signal(7,7,7,0) output_signal(7,8,7,0) output_signal(7,9,7,0) output_signal(7,10,7,1) output_signal(3,0,7,0) output_signal(3,1,7,1) output_signal(3,2,7,0) output_signal(3,3,7,1) output_signal(3,4,7,1) output_signal(3,5,7,0) output_signal(3,6,7,1) output_signal(3,7,7,1) output_signal(3,8,7,0) output_signal(3,9,7,1) output_signal(3,10,7,1) output_signal(1,0,7,0) output_signal(1,1,7,1) output_signal(1,2,7,0) output_signal(1,3,7,1) output_signal(1,4,7,0) output_signal(1,5,7,1) output_signal(1,6,7,0) output_signal(1,7,7,0) output_signal(1,8,7,1) output_signal(1,9,7,0) output_signal(1,10,7,1) output_signal(0,0,7,0) output_signal(0,1,7,1) output_signal(0,2,7,0) output_signal(0,3,7,1) output_signal(0,4,7,0) output_signal(0,5,7,1) output_signal(0,6,7,0) output_signal(0,7,7,1) output_signal(0,8,7,1) output_signal(0,9,7,0) output_signal(0,10,7,1)\r\n",
      "Answer: 8\r\n",
      "edge(0,1) edge(1,3) edge(3,7) edge(7,8) op(8,key) op(0,mul13) op(1,mul13) op(3,mul13) op(7,mul13) output_signal(0,10,1,1) output_signal(0,7,1,1) output_signal(0,6,1,1) output_signal(0,3,1,1) output_signal(0,2,1,1) output_signal(0,9,1,0) output_signal(0,8,1,0) output_signal(0,5,1,0) output_signal(0,4,1,0) output_signal(0,1,1,0) output_signal(0,0,1,0) output_signal(0,9,0,1) output_signal(0,7,0,1) output_signal(0,5,0,1) output_signal(0,3,0,1) output_signal(0,1,0,1) output_signal(0,10,0,0) output_signal(0,8,0,0) output_signal(0,6,0,0) output_signal(0,4,0,0) output_signal(0,2,0,0) output_signal(0,0,0,0) output_signal(1,10,1,1) output_signal(1,7,1,1) output_signal(1,6,1,1) output_signal(1,3,1,1) output_signal(1,2,1,1) output_signal(1,9,1,0) output_signal(1,8,1,0) output_signal(1,5,1,0) output_signal(1,4,1,0) output_signal(1,1,1,0) output_signal(1,0,1,0) output_signal(1,9,0,1) output_signal(1,7,0,1) output_signal(1,5,0,1) output_signal(1,3,0,1) output_signal(1,1,0,1) output_signal(1,10,0,0) output_signal(1,8,0,0) output_signal(1,6,0,0) output_signal(1,4,0,0) output_signal(1,2,0,0) output_signal(1,0,0,0) output_signal(3,10,1,1) output_signal(3,7,1,1) output_signal(3,6,1,1) output_signal(3,3,1,1) output_signal(3,2,1,1) output_signal(3,9,1,0) output_signal(3,8,1,0) output_signal(3,5,1,0) output_signal(3,4,1,0) output_signal(3,1,1,0) output_signal(3,0,1,0) output_signal(3,9,0,1) output_signal(3,7,0,1) output_signal(3,5,0,1) output_signal(3,3,0,1) output_signal(3,1,0,1) output_signal(3,10,0,0) output_signal(3,8,0,0) output_signal(3,6,0,0) output_signal(3,4,0,0) output_signal(3,2,0,0) output_signal(3,0,0,0) output_signal(7,10,1,1) output_signal(7,7,1,1) output_signal(7,6,1,1) output_signal(7,3,1,1) output_signal(7,2,1,1) output_signal(7,9,1,0) output_signal(7,8,1,0) output_signal(7,5,1,0) output_signal(7,4,1,0) output_signal(7,1,1,0) output_signal(7,0,1,0) output_signal(7,9,0,1) output_signal(7,7,0,1) output_signal(7,5,0,1) output_signal(7,3,0,1) output_signal(7,1,0,1) output_signal(7,10,0,0) output_signal(7,8,0,0) output_signal(7,6,0,0) output_signal(7,4,0,0) output_signal(7,2,0,0) output_signal(7,0,0,0) output_signal(7,0,2,0) output_signal(7,1,2,1) output_signal(7,2,2,0) output_signal(7,3,2,1) output_signal(7,4,2,1) output_signal(7,5,2,0) output_signal(7,6,2,1) output_signal(7,7,2,0) output_signal(7,8,2,0) output_signal(7,9,2,1) output_signal(7,10,2,0) output_signal(3,0,2,0) output_signal(3,1,2,0) output_signal(3,2,2,0) output_signal(3,3,2,0) output_signal(3,4,2,1) output_signal(3,5,2,1) output_signal(3,6,2,1) output_signal(3,7,2,1) output_signal(3,8,2,0) output_signal(3,9,2,0) output_signal(3,10,2,0) output_signal(1,0,2,0) output_signal(1,1,2,1) output_signal(1,2,2,0) output_signal(1,3,2,1) output_signal(1,4,2,1) output_signal(1,5,2,0) output_signal(1,6,2,1) output_signal(1,7,2,0) output_signal(1,8,2,0) output_signal(1,9,2,1) output_signal(1,10,2,0) output_signal(0,0,2,0) output_signal(0,1,2,0) output_signal(0,2,2,0) output_signal(0,3,2,0) output_signal(0,4,2,1) output_signal(0,5,2,1) output_signal(0,6,2,1) output_signal(0,7,2,1) output_signal(0,8,2,0) output_signal(0,9,2,0) output_signal(0,10,2,0) output_signal(7,0,3,0) output_signal(7,1,3,1) output_signal(7,2,3,1) output_signal(7,3,3,0) output_signal(7,4,3,0) output_signal(7,5,3,0) output_signal(7,6,3,1) output_signal(7,7,3,1) output_signal(7,8,3,1) output_signal(7,9,3,0) output_signal(7,10,3,0) output_signal(3,0,3,0) output_signal(3,1,3,1) output_signal(3,2,3,0) output_signal(3,3,3,1) output_signal(3,4,3,0) output_signal(3,5,3,1) output_signal(3,6,3,0) output_signal(3,7,3,1) output_signal(3,8,3,1) output_signal(3,9,3,0) output_signal(3,10,3,1) output_signal(1,0,3,0) output_signal(1,1,3,0) output_signal(1,2,3,1) output_signal(1,3,3,1) output_signal(1,4,3,0) output_signal(1,5,3,1) output_signal(1,6,3,1) output_signal(1,7,3,0) output_signal(1,8,3,1) output_signal(1,9,3,1) output_signal(1,10,3,0) output_signal(0,0,3,0) output_signal(0,1,3,0) output_signal(0,2,3,0) output_signal(0,3,3,0) output_signal(0,4,3,0) output_signal(0,5,3,0) output_signal(0,6,3,0) output_signal(0,7,3,0) output_signal(0,8,3,1) output_signal(0,9,3,1) output_signal(0,10,3,1) output_signal(7,0,4,0) output_signal(7,1,4,0) output_signal(7,2,4,1) output_signal(7,3,4,0) output_signal(7,4,4,1) output_signal(7,5,4,0) output_signal(7,6,4,0) output_signal(7,7,4,1) output_signal(7,8,4,0) output_signal(7,9,4,1) output_signal(7,10,4,0) output_signal(3,0,4,0) output_signal(3,1,4,0) output_signal(3,2,4,1) output_signal(3,3,4,1) output_signal(3,4,4,0) output_signal(3,5,4,0) output_signal(3,6,4,1) output_signal(3,7,4,1) output_signal(3,8,4,0) output_signal(3,9,4,1) output_signal(3,10,4,1) output_signal(1,0,4,0) output_signal(1,1,4,1) output_signal(1,2,4,0) output_signal(1,3,4,1) output_signal(1,4,4,1) output_signal(1,5,4,0) output_signal(1,6,4,1) output_signal(1,7,4,1) output_signal(1,8,4,0) output_signal(1,9,4,1) output_signal(1,10,4,1) output_signal(0,0,4,0) output_signal(0,1,4,1) output_signal(0,2,4,0) output_signal(0,3,4,1) output_signal(0,4,4,0) output_signal(0,5,4,1) output_signal(0,6,4,0) output_signal(0,7,4,1) output_signal(0,8,4,0) output_signal(0,9,4,1) output_signal(0,10,4,0) output_signal(7,0,5,0) output_signal(7,1,5,0) output_signal(7,2,5,0) output_signal(7,3,5,1) output_signal(7,4,5,1) output_signal(7,5,5,0) output_signal(7,6,5,0) output_signal(7,7,5,0) output_signal(7,8,5,1) output_signal(7,9,5,1) output_signal(7,10,5,0) output_signal(3,0,5,0) output_signal(3,1,5,1) output_signal(3,2,5,0) output_signal(3,3,5,1) output_signal(3,4,5,1) output_signal(3,5,5,0) output_signal(3,6,5,1) output_signal(3,7,5,0) output_signal(3,8,5,0) output_signal(3,9,5,1) output_signal(3,10,5,0) output_signal(1,0,5,0) output_signal(1,1,5,0) output_signal(1,2,5,1) output_signal(1,3,5,1) output_signal(1,4,5,0) output_signal(1,5,5,1) output_signal(1,6,5,1) output_signal(1,7,5,0) output_signal(1,8,5,1) output_signal(1,9,5,1) output_signal(1,10,5,0) output_signal(0,0,5,0) output_signal(0,1,5,0) output_signal(0,2,5,1) output_signal(0,3,5,1) output_signal(0,4,5,0) output_signal(0,5,5,0) output_signal(0,6,5,1) output_signal(0,7,5,1) output_signal(0,8,5,0) output_signal(0,9,5,0) output_signal(0,10,5,1) output_signal(7,0,6,0) output_signal(7,1,6,0) output_signal(7,2,6,0) output_signal(7,3,6,0) output_signal(7,4,6,0) output_signal(7,5,6,1) output_signal(7,6,6,1) output_signal(7,7,6,1) output_signal(7,8,6,1) output_signal(7,9,6,1) output_signal(7,10,6,0) output_signal(3,0,6,0) output_signal(3,1,6,0) output_signal(3,2,6,1) output_signal(3,3,6,1) output_signal(3,4,6,0) output_signal(3,5,6,1) output_signal(3,6,6,1) output_signal(3,7,6,0) output_signal(3,8,6,1) output_signal(3,9,6,1) output_signal(3,10,6,0) output_signal(1,0,6,0) output_signal(1,1,6,0) output_signal(1,2,6,0) output_signal(1,3,6,0) output_signal(1,4,6,1) output_signal(1,5,6,1) output_signal(1,6,6,1) output_signal(1,7,6,0) output_signal(1,8,6,0) output_signal(1,9,6,0) output_signal(1,10,6,1) output_signal(0,0,6,0) output_signal(0,1,6,0) output_signal(0,2,6,0) output_signal(0,3,6,0) output_signal(0,4,6,1) output_signal(0,5,6,1) output_signal(0,6,6,1) output_signal(0,7,6,1) output_signal(0,8,6,0) output_signal(0,9,6,0) output_signal(0,10,6,0) output_signal(7,0,7,0) output_signal(7,1,7,0) output_signal(7,2,7,0) output_signal(7,3,7,0) output_signal(7,4,7,0) output_signal(7,5,7,0) output_signal(7,6,7,0) output_signal(7,7,7,0) output_signal(7,8,7,0) output_signal(7,9,7,0) output_signal(7,10,7,1) output_signal(3,0,7,0) output_signal(3,1,7,1) output_signal(3,2,7,0) output_signal(3,3,7,1) output_signal(3,4,7,1) output_signal(3,5,7,0) output_signal(3,6,7,1) output_signal(3,7,7,1) output_signal(3,8,7,0) output_signal(3,9,7,1) output_signal(3,10,7,1) output_signal(1,0,7,0) output_signal(1,1,7,1) output_signal(1,2,7,0) output_signal(1,3,7,1) output_signal(1,4,7,0) output_signal(1,5,7,1) output_signal(1,6,7,0) output_signal(1,7,7,0) output_signal(1,8,7,1) output_signal(1,9,7,0) output_signal(1,10,7,1) output_signal(0,0,7,0) output_signal(0,1,7,1) output_signal(0,2,7,0) output_signal(0,3,7,1) output_signal(0,4,7,0) output_signal(0,5,7,1) output_signal(0,6,7,0) output_signal(0,7,7,1) output_signal(0,8,7,1) output_signal(0,9,7,0) output_signal(0,10,7,1)\r\n",
      "Answer: 9\r\n",
      "edge(0,1) edge(1,3) edge(3,7) edge(7,9) op(9,key) op(0,mul13) op(1,mul13) op(3,mul13) op(7,mul13) output_signal(0,10,1,1) output_signal(0,7,1,1) output_signal(0,6,1,1) output_signal(0,3,1,1) output_signal(0,2,1,1) output_signal(0,9,1,0) output_signal(0,8,1,0) output_signal(0,5,1,0) output_signal(0,4,1,0) output_signal(0,1,1,0) output_signal(0,0,1,0) output_signal(0,9,0,1) output_signal(0,7,0,1) output_signal(0,5,0,1) output_signal(0,3,0,1) output_signal(0,1,0,1) output_signal(0,10,0,0) output_signal(0,8,0,0) output_signal(0,6,0,0) output_signal(0,4,0,0) output_signal(0,2,0,0) output_signal(0,0,0,0) output_signal(1,10,1,1) output_signal(1,7,1,1) output_signal(1,6,1,1) output_signal(1,3,1,1) output_signal(1,2,1,1) output_signal(1,9,1,0) output_signal(1,8,1,0) output_signal(1,5,1,0) output_signal(1,4,1,0) output_signal(1,1,1,0) output_signal(1,0,1,0) output_signal(1,9,0,1) output_signal(1,7,0,1) output_signal(1,5,0,1) output_signal(1,3,0,1) output_signal(1,1,0,1) output_signal(1,10,0,0) output_signal(1,8,0,0) output_signal(1,6,0,0) output_signal(1,4,0,0) output_signal(1,2,0,0) output_signal(1,0,0,0) output_signal(3,10,1,1) output_signal(3,7,1,1) output_signal(3,6,1,1) output_signal(3,3,1,1) output_signal(3,2,1,1) output_signal(3,9,1,0) output_signal(3,8,1,0) output_signal(3,5,1,0) output_signal(3,4,1,0) output_signal(3,1,1,0) output_signal(3,0,1,0) output_signal(3,9,0,1) output_signal(3,7,0,1) output_signal(3,5,0,1) output_signal(3,3,0,1) output_signal(3,1,0,1) output_signal(3,10,0,0) output_signal(3,8,0,0) output_signal(3,6,0,0) output_signal(3,4,0,0) output_signal(3,2,0,0) output_signal(3,0,0,0) output_signal(7,10,1,1) output_signal(7,7,1,1) output_signal(7,6,1,1) output_signal(7,3,1,1) output_signal(7,2,1,1) output_signal(7,9,1,0) output_signal(7,8,1,0) output_signal(7,5,1,0) output_signal(7,4,1,0) output_signal(7,1,1,0) output_signal(7,0,1,0) output_signal(7,9,0,1) output_signal(7,7,0,1) output_signal(7,5,0,1) output_signal(7,3,0,1) output_signal(7,1,0,1) output_signal(7,10,0,0) output_signal(7,8,0,0) output_signal(7,6,0,0) output_signal(7,4,0,0) output_signal(7,2,0,0) output_signal(7,0,0,0) output_signal(7,0,2,0) output_signal(7,1,2,1) output_signal(7,2,2,0) output_signal(7,3,2,1) output_signal(7,4,2,1) output_signal(7,5,2,0) output_signal(7,6,2,1) output_signal(7,7,2,0) output_signal(7,8,2,0) output_signal(7,9,2,1) output_signal(7,10,2,0) output_signal(3,0,2,0) output_signal(3,1,2,0) output_signal(3,2,2,0) output_signal(3,3,2,0) output_signal(3,4,2,1) output_signal(3,5,2,1) output_signal(3,6,2,1) output_signal(3,7,2,1) output_signal(3,8,2,0) output_signal(3,9,2,0) output_signal(3,10,2,0) output_signal(1,0,2,0) output_signal(1,1,2,1) output_signal(1,2,2,0) output_signal(1,3,2,1) output_signal(1,4,2,1) output_signal(1,5,2,0) output_signal(1,6,2,1) output_signal(1,7,2,0) output_signal(1,8,2,0) output_signal(1,9,2,1) output_signal(1,10,2,0) output_signal(0,0,2,0) output_signal(0,1,2,0) output_signal(0,2,2,0) output_signal(0,3,2,0) output_signal(0,4,2,1) output_signal(0,5,2,1) output_signal(0,6,2,1) output_signal(0,7,2,1) output_signal(0,8,2,0) output_signal(0,9,2,0) output_signal(0,10,2,0) output_signal(7,0,3,0) output_signal(7,1,3,1) output_signal(7,2,3,1) output_signal(7,3,3,0) output_signal(7,4,3,0) output_signal(7,5,3,0) output_signal(7,6,3,1) output_signal(7,7,3,1) output_signal(7,8,3,1) output_signal(7,9,3,0) output_signal(7,10,3,0) output_signal(3,0,3,0) output_signal(3,1,3,1) output_signal(3,2,3,0) output_signal(3,3,3,1) output_signal(3,4,3,0) output_signal(3,5,3,1) output_signal(3,6,3,0) output_signal(3,7,3,1) output_signal(3,8,3,1) output_signal(3,9,3,0) output_signal(3,10,3,1) output_signal(1,0,3,0) output_signal(1,1,3,0) output_signal(1,2,3,1) output_signal(1,3,3,1) output_signal(1,4,3,0) output_signal(1,5,3,1) output_signal(1,6,3,1) output_signal(1,7,3,0) output_signal(1,8,3,1) output_signal(1,9,3,1) output_signal(1,10,3,0) output_signal(0,0,3,0) output_signal(0,1,3,0) output_signal(0,2,3,0) output_signal(0,3,3,0) output_signal(0,4,3,0) output_signal(0,5,3,0) output_signal(0,6,3,0) output_signal(0,7,3,0) output_signal(0,8,3,1) output_signal(0,9,3,1) output_signal(0,10,3,1) output_signal(7,0,4,0) output_signal(7,1,4,0) output_signal(7,2,4,1) output_signal(7,3,4,0) output_signal(7,4,4,1) output_signal(7,5,4,0) output_signal(7,6,4,0) output_signal(7,7,4,1) output_signal(7,8,4,0) output_signal(7,9,4,1) output_signal(7,10,4,0) output_signal(3,0,4,0) output_signal(3,1,4,0) output_signal(3,2,4,1) output_signal(3,3,4,1) output_signal(3,4,4,0) output_signal(3,5,4,0) output_signal(3,6,4,1) output_signal(3,7,4,1) output_signal(3,8,4,0) output_signal(3,9,4,1) output_signal(3,10,4,1) output_signal(1,0,4,0) output_signal(1,1,4,1) output_signal(1,2,4,0) output_signal(1,3,4,1) output_signal(1,4,4,1) output_signal(1,5,4,0) output_signal(1,6,4,1) output_signal(1,7,4,1) output_signal(1,8,4,0) output_signal(1,9,4,1) output_signal(1,10,4,1) output_signal(0,0,4,0) output_signal(0,1,4,1) output_signal(0,2,4,0) output_signal(0,3,4,1) output_signal(0,4,4,0) output_signal(0,5,4,1) output_signal(0,6,4,0) output_signal(0,7,4,1) output_signal(0,8,4,0) output_signal(0,9,4,1) output_signal(0,10,4,0) output_signal(7,0,5,0) output_signal(7,1,5,0) output_signal(7,2,5,0) output_signal(7,3,5,1) output_signal(7,4,5,1) output_signal(7,5,5,0) output_signal(7,6,5,0) output_signal(7,7,5,0) output_signal(7,8,5,1) output_signal(7,9,5,1) output_signal(7,10,5,0) output_signal(3,0,5,0) output_signal(3,1,5,1) output_signal(3,2,5,0) output_signal(3,3,5,1) output_signal(3,4,5,1) output_signal(3,5,5,0) output_signal(3,6,5,1) output_signal(3,7,5,0) output_signal(3,8,5,0) output_signal(3,9,5,1) output_signal(3,10,5,0) output_signal(1,0,5,0) output_signal(1,1,5,0) output_signal(1,2,5,1) output_signal(1,3,5,1) output_signal(1,4,5,0) output_signal(1,5,5,1) output_signal(1,6,5,1) output_signal(1,7,5,0) output_signal(1,8,5,1) output_signal(1,9,5,1) output_signal(1,10,5,0) output_signal(0,0,5,0) output_signal(0,1,5,0) output_signal(0,2,5,1) output_signal(0,3,5,1) output_signal(0,4,5,0) output_signal(0,5,5,0) output_signal(0,6,5,1) output_signal(0,7,5,1) output_signal(0,8,5,0) output_signal(0,9,5,0) output_signal(0,10,5,1) output_signal(7,0,6,0) output_signal(7,1,6,0) output_signal(7,2,6,0) output_signal(7,3,6,0) output_signal(7,4,6,0) output_signal(7,5,6,1) output_signal(7,6,6,1) output_signal(7,7,6,1) output_signal(7,8,6,1) output_signal(7,9,6,1) output_signal(7,10,6,0) output_signal(3,0,6,0) output_signal(3,1,6,0) output_signal(3,2,6,1) output_signal(3,3,6,1) output_signal(3,4,6,0) output_signal(3,5,6,1) output_signal(3,6,6,1) output_signal(3,7,6,0) output_signal(3,8,6,1) output_signal(3,9,6,1) output_signal(3,10,6,0) output_signal(1,0,6,0) output_signal(1,1,6,0) output_signal(1,2,6,0) output_signal(1,3,6,0) output_signal(1,4,6,1) output_signal(1,5,6,1) output_signal(1,6,6,1) output_signal(1,7,6,0) output_signal(1,8,6,0) output_signal(1,9,6,0) output_signal(1,10,6,1) output_signal(0,0,6,0) output_signal(0,1,6,0) output_signal(0,2,6,0) output_signal(0,3,6,0) output_signal(0,4,6,1) output_signal(0,5,6,1) output_signal(0,6,6,1) output_signal(0,7,6,1) output_signal(0,8,6,0) output_signal(0,9,6,0) output_signal(0,10,6,0) output_signal(7,0,7,0) output_signal(7,1,7,0) output_signal(7,2,7,0) output_signal(7,3,7,0) output_signal(7,4,7,0) output_signal(7,5,7,0) output_signal(7,6,7,0) output_signal(7,7,7,0) output_signal(7,8,7,0) output_signal(7,9,7,0) output_signal(7,10,7,1) output_signal(3,0,7,0) output_signal(3,1,7,1) output_signal(3,2,7,0) output_signal(3,3,7,1) output_signal(3,4,7,1) output_signal(3,5,7,0) output_signal(3,6,7,1) output_signal(3,7,7,1) output_signal(3,8,7,0) output_signal(3,9,7,1) output_signal(3,10,7,1) output_signal(1,0,7,0) output_signal(1,1,7,1) output_signal(1,2,7,0) output_signal(1,3,7,1) output_signal(1,4,7,0) output_signal(1,5,7,1) output_signal(1,6,7,0) output_signal(1,7,7,0) output_signal(1,8,7,1) output_signal(1,9,7,0) output_signal(1,10,7,1) output_signal(0,0,7,0) output_signal(0,1,7,1) output_signal(0,2,7,0) output_signal(0,3,7,1) output_signal(0,4,7,0) output_signal(0,5,7,1) output_signal(0,6,7,0) output_signal(0,7,7,1) output_signal(0,8,7,1) output_signal(0,9,7,0) output_signal(0,10,7,1)\r\n",
      "Answer: 10\r\n",
      "edge(0,1) edge(1,3) edge(3,7) edge(7,9) edge(9,10) op(10,key) op(0,mul13) op(1,mul13) op(3,mul13) op(7,mul13) op(9,mul13) output_signal(0,10,1,1) output_signal(0,7,1,1) output_signal(0,6,1,1) output_signal(0,3,1,1) output_signal(0,2,1,1) output_signal(0,9,1,0) output_signal(0,8,1,0) output_signal(0,5,1,0) output_signal(0,4,1,0) output_signal(0,1,1,0) output_signal(0,0,1,0) output_signal(0,9,0,1) output_signal(0,7,0,1) output_signal(0,5,0,1) output_signal(0,3,0,1) output_signal(0,1,0,1) output_signal(0,10,0,0) output_signal(0,8,0,0) output_signal(0,6,0,0) output_signal(0,4,0,0) output_signal(0,2,0,0) output_signal(0,0,0,0) output_signal(1,10,1,1) output_signal(1,7,1,1) output_signal(1,6,1,1) output_signal(1,3,1,1) output_signal(1,2,1,1) output_signal(1,9,1,0) output_signal(1,8,1,0) output_signal(1,5,1,0) output_signal(1,4,1,0) output_signal(1,1,1,0) output_signal(1,0,1,0) output_signal(1,9,0,1) output_signal(1,7,0,1) output_signal(1,5,0,1) output_signal(1,3,0,1) output_signal(1,1,0,1) output_signal(1,10,0,0) output_signal(1,8,0,0) output_signal(1,6,0,0) output_signal(1,4,0,0) output_signal(1,2,0,0) output_signal(1,0,0,0) output_signal(3,10,1,1) output_signal(3,7,1,1) output_signal(3,6,1,1) output_signal(3,3,1,1) output_signal(3,2,1,1) output_signal(3,9,1,0) output_signal(3,8,1,0) output_signal(3,5,1,0) output_signal(3,4,1,0) output_signal(3,1,1,0) output_signal(3,0,1,0) output_signal(3,9,0,1) output_signal(3,7,0,1) output_signal(3,5,0,1) output_signal(3,3,0,1) output_signal(3,1,0,1) output_signal(3,10,0,0) output_signal(3,8,0,0) output_signal(3,6,0,0) output_signal(3,4,0,0) output_signal(3,2,0,0) output_signal(3,0,0,0) output_signal(7,10,1,1) output_signal(7,7,1,1) output_signal(7,6,1,1) output_signal(7,3,1,1) output_signal(7,2,1,1) output_signal(7,9,1,0) output_signal(7,8,1,0) output_signal(7,5,1,0) output_signal(7,4,1,0) output_signal(7,1,1,0) output_signal(7,0,1,0) output_signal(7,9,0,1) output_signal(7,7,0,1) output_signal(7,5,0,1) output_signal(7,3,0,1) output_signal(7,1,0,1) output_signal(7,10,0,0) output_signal(7,8,0,0) output_signal(7,6,0,0) output_signal(7,4,0,0) output_signal(7,2,0,0) output_signal(7,0,0,0) output_signal(9,10,1,1) output_signal(9,7,1,1) output_signal(9,6,1,1) output_signal(9,3,1,1) output_signal(9,2,1,1) output_signal(9,9,1,0) output_signal(9,8,1,0) output_signal(9,5,1,0) output_signal(9,4,1,0) output_signal(9,1,1,0) output_signal(9,0,1,0) output_signal(9,9,0,1) output_signal(9,7,0,1) output_signal(9,5,0,1) output_signal(9,3,0,1) output_signal(9,1,0,1) output_signal(9,10,0,0) output_signal(9,8,0,0) output_signal(9,6,0,0) output_signal(9,4,0,0) output_signal(9,2,0,0) output_signal(9,0,0,0) output_signal(9,0,2,0) output_signal(9,1,2,1) output_signal(9,2,2,0) output_signal(9,3,2,1) output_signal(9,4,2,1) output_signal(9,5,2,0) output_signal(9,6,2,1) output_signal(9,7,2,0) output_signal(9,8,2,0) output_signal(9,9,2,1) output_signal(9,10,2,0) output_signal(7,0,2,0) output_signal(7,1,2,0) output_signal(7,2,2,0) output_signal(7,3,2,0) output_signal(7,4,2,1) output_signal(7,5,2,1) output_signal(7,6,2,1) output_signal(7,7,2,1) output_signal(7,8,2,0) output_signal(7,9,2,0) output_signal(7,10,2,0) output_signal(3,0,2,0) output_signal(3,1,2,1) output_signal(3,2,2,0) output_signal(3,3,2,1) output_signal(3,4,2,1) output_signal(3,5,2,0) output_signal(3,6,2,1) output_signal(3,7,2,0) output_signal(3,8,2,0) output_signal(3,9,2,1) output_signal(3,10,2,0) output_signal(1,0,2,0) output_signal(1,1,2,0) output_signal(1,2,2,0) output_signal(1,3,2,0) output_signal(1,4,2,1) output_signal(1,5,2,1) output_signal(1,6,2,1) output_signal(1,7,2,1) output_signal(1,8,2,0) output_signal(1,9,2,0) output_signal(1,10,2,0) output_signal(0,0,2,0) output_signal(0,1,2,1) output_signal(0,2,2,0) output_signal(0,3,2,1) output_signal(0,4,2,1) output_signal(0,5,2,0) output_signal(0,6,2,1) output_signal(0,7,2,0) output_signal(0,8,2,0) output_signal(0,9,2,1) output_signal(0,10,2,0) output_signal(9,0,3,0) output_signal(9,1,3,1) output_signal(9,2,3,1) output_signal(9,3,3,0) output_signal(9,4,3,0) output_signal(9,5,3,0) output_signal(9,6,3,1) output_signal(9,7,3,1) output_signal(9,8,3,1) output_signal(9,9,3,0) output_signal(9,10,3,0) output_signal(7,0,3,0) output_signal(7,1,3,1) output_signal(7,2,3,0) output_signal(7,3,3,1) output_signal(7,4,3,0) output_signal(7,5,3,1) output_signal(7,6,3,0) output_signal(7,7,3,1) output_signal(7,8,3,1) output_signal(7,9,3,0) output_signal(7,10,3,1) output_signal(3,0,3,0) output_signal(3,1,3,0) output_signal(3,2,3,1) output_signal(3,3,3,1) output_signal(3,4,3,0) output_signal(3,5,3,1) output_signal(3,6,3,1) output_signal(3,7,3,0) output_signal(3,8,3,1) output_signal(3,9,3,1) output_signal(3,10,3,0) output_signal(1,0,3,0) output_signal(1,1,3,0) output_signal(1,2,3,0) output_signal(1,3,3,0) output_signal(1,4,3,0) output_signal(1,5,3,0) output_signal(1,6,3,0) output_signal(1,7,3,0) output_signal(1,8,3,1) output_signal(1,9,3,1) output_signal(1,10,3,1) output_signal(0,0,3,0) output_signal(0,1,3,1) output_signal(0,2,3,1) output_signal(0,3,3,0) output_signal(0,4,3,0) output_signal(0,5,3,0) output_signal(0,6,3,1) output_signal(0,7,3,1) output_signal(0,8,3,1) output_signal(0,9,3,0) output_signal(0,10,3,0) output_signal(9,0,4,0) output_signal(9,1,4,0) output_signal(9,2,4,1) output_signal(9,3,4,0) output_signal(9,4,4,1) output_signal(9,5,4,0) output_signal(9,6,4,0) output_signal(9,7,4,1) output_signal(9,8,4,0) output_signal(9,9,4,1) output_signal(9,10,4,0) output_signal(7,0,4,0) output_signal(7,1,4,0) output_signal(7,2,4,1) output_signal(7,3,4,1) output_signal(7,4,4,0) output_signal(7,5,4,0) output_signal(7,6,4,1) output_signal(7,7,4,1) output_signal(7,8,4,0) output_signal(7,9,4,1) output_signal(7,10,4,1) output_signal(3,0,4,0) output_signal(3,1,4,1) output_signal(3,2,4,0) output_signal(3,3,4,1) output_signal(3,4,4,1) output_signal(3,5,4,0) output_signal(3,6,4,1) output_signal(3,7,4,1) output_signal(3,8,4,0) output_signal(3,9,4,1) output_signal(3,10,4,1) output_signal(1,0,4,0) output_signal(1,1,4,1) output_signal(1,2,4,0) output_signal(1,3,4,1) output_signal(1,4,4,0) output_signal(1,5,4,1) output_signal(1,6,4,0) output_signal(1,7,4,1) output_signal(1,8,4,0) output_signal(1,9,4,1) output_signal(1,10,4,0) output_signal(0,0,4,0) output_signal(0,1,4,1) output_signal(0,2,4,1) output_signal(0,3,4,1) output_signal(0,4,4,1) output_signal(0,5,4,1) output_signal(0,6,4,0) output_signal(0,7,4,0) output_signal(0,8,4,0) output_signal(0,9,4,0) output_signal(0,10,4,0) output_signal(9,0,5,0) output_signal(9,1,5,0) output_signal(9,2,5,0) output_signal(9,3,5,1) output_signal(9,4,5,1) output_signal(9,5,5,0) output_signal(9,6,5,0) output_signal(9,7,5,0) output_signal(9,8,5,1) output_signal(9,9,5,1) output_signal(9,10,5,0) output_signal(7,0,5,0) output_signal(7,1,5,1) output_signal(7,2,5,0) output_signal(7,3,5,1) output_signal(7,4,5,1) output_signal(7,5,5,0) output_signal(7,6,5,1) output_signal(7,7,5,0) output_signal(7,8,5,0) output_signal(7,9,5,1) output_signal(7,10,5,0) output_signal(3,0,5,0) output_signal(3,1,5,0) output_signal(3,2,5,1) output_signal(3,3,5,1) output_signal(3,4,5,0) output_signal(3,5,5,1) output_signal(3,6,5,1) output_signal(3,7,5,0) output_signal(3,8,5,1) output_signal(3,9,5,1) output_signal(3,10,5,0) output_signal(1,0,5,0) output_signal(1,1,5,0) output_signal(1,2,5,1) output_signal(1,3,5,1) output_signal(1,4,5,0) output_signal(1,5,5,0) output_signal(1,6,5,1) output_signal(1,7,5,1) output_signal(1,8,5,0) output_signal(1,9,5,0) output_signal(1,10,5,1) output_signal(0,0,5,0) output_signal(0,1,5,0) output_signal(0,2,5,1) output_signal(0,3,5,0) output_signal(0,4,5,1) output_signal(0,5,5,0) output_signal(0,6,5,1) output_signal(0,7,5,0) output_signal(0,8,5,1) output_signal(0,9,5,0) output_signal(0,10,5,1) output_signal(9,0,6,0) output_signal(9,1,6,0) output_signal(9,2,6,0) output_signal(9,3,6,0) output_signal(9,4,6,0) output_signal(9,5,6,1) output_signal(9,6,6,1) output_signal(9,7,6,1) output_signal(9,8,6,1) output_signal(9,9,6,1) output_signal(9,10,6,0) output_signal(7,0,6,0) output_signal(7,1,6,0) output_signal(7,2,6,1) output_signal(7,3,6,1) output_signal(7,4,6,0) output_signal(7,5,6,1) output_signal(7,6,6,1) output_signal(7,7,6,0) output_signal(7,8,6,1) output_signal(7,9,6,1) output_signal(7,10,6,0) output_signal(3,0,6,0) output_signal(3,1,6,0) output_signal(3,2,6,0) output_signal(3,3,6,0) output_signal(3,4,6,1) output_signal(3,5,6,1) output_signal(3,6,6,1) output_signal(3,7,6,0) output_signal(3,8,6,0) output_signal(3,9,6,0) output_signal(3,10,6,1) output_signal(1,0,6,0) output_signal(1,1,6,0) output_signal(1,2,6,0) output_signal(1,3,6,0) output_signal(1,4,6,1) output_signal(1,5,6,1) output_signal(1,6,6,1) output_signal(1,7,6,1) output_signal(1,8,6,0) output_signal(1,9,6,0) output_signal(1,10,6,0) output_signal(0,0,6,0) output_signal(0,1,6,1) output_signal(0,2,6,0) output_signal(0,3,6,0) output_signal(0,4,6,1) output_signal(0,5,6,1) output_signal(0,6,6,0) output_signal(0,7,6,0) output_signal(0,8,6,1) output_signal(0,9,6,1) output_signal(0,10,6,0) output_signal(9,0,7,0) output_signal(9,1,7,0) output_signal(9,2,7,0) output_signal(9,3,7,0) output_signal(9,4,7,0) output_signal(9,5,7,0) output_signal(9,6,7,0) output_signal(9,7,7,0) output_signal(9,8,7,0) output_signal(9,9,7,0) output_signal(9,10,7,1) output_signal(7,0,7,0) output_signal(7,1,7,1) output_signal(7,2,7,0) output_signal(7,3,7,1) output_signal(7,4,7,1) output_signal(7,5,7,0) output_signal(7,6,7,1) output_signal(7,7,7,1) output_signal(7,8,7,0) output_signal(7,9,7,1) output_signal(7,10,7,1) output_signal(3,0,7,0) output_signal(3,1,7,1) output_signal(3,2,7,0) output_signal(3,3,7,1) output_signal(3,4,7,0) output_signal(3,5,7,1) output_signal(3,6,7,0) output_signal(3,7,7,0) output_signal(3,8,7,1) output_signal(3,9,7,0) output_signal(3,10,7,1) output_signal(1,0,7,0) output_signal(1,1,7,1) output_signal(1,2,7,0) output_signal(1,3,7,1) output_signal(1,4,7,0) output_signal(1,5,7,1) output_signal(1,6,7,0) output_signal(1,7,7,1) output_signal(1,8,7,1) output_signal(1,9,7,0) output_signal(1,10,7,1) output_signal(0,0,7,0) output_signal(0,1,7,0) output_signal(0,2,7,1) output_signal(0,3,7,0) output_signal(0,4,7,0) output_signal(0,5,7,1) output_signal(0,6,7,0) output_signal(0,7,7,1) output_signal(0,8,7,1) output_signal(0,9,7,0) output_signal(0,10,7,1)\r\n",
      "Answer: 11\r\n"
     ]
    },
    {
     "name": "stdout",
     "output_type": "stream",
     "text": [
      "edge(0,1) edge(1,3) edge(3,4) edge(4,9) op(9,key) op(0,mul13) op(1,mul13) op(3,mul13) op(4,mul13) output_signal(0,10,1,1) output_signal(0,7,1,1) output_signal(0,6,1,1) output_signal(0,3,1,1) output_signal(0,2,1,1) output_signal(0,9,1,0) output_signal(0,8,1,0) output_signal(0,5,1,0) output_signal(0,4,1,0) output_signal(0,1,1,0) output_signal(0,0,1,0) output_signal(0,9,0,1) output_signal(0,7,0,1) output_signal(0,5,0,1) output_signal(0,3,0,1) output_signal(0,1,0,1) output_signal(0,10,0,0) output_signal(0,8,0,0) output_signal(0,6,0,0) output_signal(0,4,0,0) output_signal(0,2,0,0) output_signal(0,0,0,0) output_signal(1,10,1,1) output_signal(1,7,1,1) output_signal(1,6,1,1) output_signal(1,3,1,1) output_signal(1,2,1,1) output_signal(1,9,1,0) output_signal(1,8,1,0) output_signal(1,5,1,0) output_signal(1,4,1,0) output_signal(1,1,1,0) output_signal(1,0,1,0) output_signal(1,9,0,1) output_signal(1,7,0,1) output_signal(1,5,0,1) output_signal(1,3,0,1) output_signal(1,1,0,1) output_signal(1,10,0,0) output_signal(1,8,0,0) output_signal(1,6,0,0) output_signal(1,4,0,0) output_signal(1,2,0,0) output_signal(1,0,0,0) output_signal(3,10,1,1) output_signal(3,7,1,1) output_signal(3,6,1,1) output_signal(3,3,1,1) output_signal(3,2,1,1) output_signal(3,9,1,0) output_signal(3,8,1,0) output_signal(3,5,1,0) output_signal(3,4,1,0) output_signal(3,1,1,0) output_signal(3,0,1,0) output_signal(3,9,0,1) output_signal(3,7,0,1) output_signal(3,5,0,1) output_signal(3,3,0,1) output_signal(3,1,0,1) output_signal(3,10,0,0) output_signal(3,8,0,0) output_signal(3,6,0,0) output_signal(3,4,0,0) output_signal(3,2,0,0) output_signal(3,0,0,0) output_signal(4,10,1,1) output_signal(4,7,1,1) output_signal(4,6,1,1) output_signal(4,3,1,1) output_signal(4,2,1,1) output_signal(4,9,1,0) output_signal(4,8,1,0) output_signal(4,5,1,0) output_signal(4,4,1,0) output_signal(4,1,1,0) output_signal(4,0,1,0) output_signal(4,9,0,1) output_signal(4,7,0,1) output_signal(4,5,0,1) output_signal(4,3,0,1) output_signal(4,1,0,1) output_signal(4,10,0,0) output_signal(4,8,0,0) output_signal(4,6,0,0) output_signal(4,4,0,0) output_signal(4,2,0,0) output_signal(4,0,0,0) output_signal(4,0,2,0) output_signal(4,1,2,1) output_signal(4,2,2,0) output_signal(4,3,2,1) output_signal(4,4,2,1) output_signal(4,5,2,0) output_signal(4,6,2,1) output_signal(4,7,2,0) output_signal(4,8,2,0) output_signal(4,9,2,1) output_signal(4,10,2,0) output_signal(3,0,2,0) output_signal(3,1,2,0) output_signal(3,2,2,0) output_signal(3,3,2,0) output_signal(3,4,2,1) output_signal(3,5,2,1) output_signal(3,6,2,1) output_signal(3,7,2,1) output_signal(3,8,2,0) output_signal(3,9,2,0) output_signal(3,10,2,0) output_signal(1,0,2,0) output_signal(1,1,2,1) output_signal(1,2,2,0) output_signal(1,3,2,1) output_signal(1,4,2,1) output_signal(1,5,2,0) output_signal(1,6,2,1) output_signal(1,7,2,0) output_signal(1,8,2,0) output_signal(1,9,2,1) output_signal(1,10,2,0) output_signal(0,0,2,0) output_signal(0,1,2,0) output_signal(0,2,2,0) output_signal(0,3,2,0) output_signal(0,4,2,1) output_signal(0,5,2,1) output_signal(0,6,2,1) output_signal(0,7,2,1) output_signal(0,8,2,0) output_signal(0,9,2,0) output_signal(0,10,2,0) output_signal(4,0,3,0) output_signal(4,1,3,1) output_signal(4,2,3,1) output_signal(4,3,3,0) output_signal(4,4,3,0) output_signal(4,5,3,0) output_signal(4,6,3,1) output_signal(4,7,3,1) output_signal(4,8,3,1) output_signal(4,9,3,0) output_signal(4,10,3,0) output_signal(3,0,3,0) output_signal(3,1,3,1) output_signal(3,2,3,0) output_signal(3,3,3,1) output_signal(3,4,3,0) output_signal(3,5,3,1) output_signal(3,6,3,0) output_signal(3,7,3,1) output_signal(3,8,3,1) output_signal(3,9,3,0) output_signal(3,10,3,1) output_signal(1,0,3,0) output_signal(1,1,3,0) output_signal(1,2,3,1) output_signal(1,3,3,1) output_signal(1,4,3,0) output_signal(1,5,3,1) output_signal(1,6,3,1) output_signal(1,7,3,0) output_signal(1,8,3,1) output_signal(1,9,3,1) output_signal(1,10,3,0) output_signal(0,0,3,0) output_signal(0,1,3,0) output_signal(0,2,3,0) output_signal(0,3,3,0) output_signal(0,4,3,0) output_signal(0,5,3,0) output_signal(0,6,3,0) output_signal(0,7,3,0) output_signal(0,8,3,1) output_signal(0,9,3,1) output_signal(0,10,3,1) output_signal(4,0,4,0) output_signal(4,1,4,0) output_signal(4,2,4,1) output_signal(4,3,4,0) output_signal(4,4,4,1) output_signal(4,5,4,0) output_signal(4,6,4,0) output_signal(4,7,4,1) output_signal(4,8,4,0) output_signal(4,9,4,1) output_signal(4,10,4,0) output_signal(3,0,4,0) output_signal(3,1,4,0) output_signal(3,2,4,1) output_signal(3,3,4,1) output_signal(3,4,4,0) output_signal(3,5,4,0) output_signal(3,6,4,1) output_signal(3,7,4,1) output_signal(3,8,4,0) output_signal(3,9,4,1) output_signal(3,10,4,1) output_signal(1,0,4,0) output_signal(1,1,4,1) output_signal(1,2,4,0) output_signal(1,3,4,1) output_signal(1,4,4,1) output_signal(1,5,4,0) output_signal(1,6,4,1) output_signal(1,7,4,1) output_signal(1,8,4,0) output_signal(1,9,4,1) output_signal(1,10,4,1) output_signal(0,0,4,0) output_signal(0,1,4,1) output_signal(0,2,4,0) output_signal(0,3,4,1) output_signal(0,4,4,0) output_signal(0,5,4,1) output_signal(0,6,4,0) output_signal(0,7,4,1) output_signal(0,8,4,0) output_signal(0,9,4,1) output_signal(0,10,4,0) output_signal(4,0,5,0) output_signal(4,1,5,0) output_signal(4,2,5,0) output_signal(4,3,5,1) output_signal(4,4,5,1) output_signal(4,5,5,0) output_signal(4,6,5,0) output_signal(4,7,5,0) output_signal(4,8,5,1) output_signal(4,9,5,1) output_signal(4,10,5,0) output_signal(3,0,5,0) output_signal(3,1,5,1) output_signal(3,2,5,0) output_signal(3,3,5,1) output_signal(3,4,5,1) output_signal(3,5,5,0) output_signal(3,6,5,1) output_signal(3,7,5,0) output_signal(3,8,5,0) output_signal(3,9,5,1) output_signal(3,10,5,0) output_signal(1,0,5,0) output_signal(1,1,5,0) output_signal(1,2,5,1) output_signal(1,3,5,1) output_signal(1,4,5,0) output_signal(1,5,5,1) output_signal(1,6,5,1) output_signal(1,7,5,0) output_signal(1,8,5,1) output_signal(1,9,5,1) output_signal(1,10,5,0) output_signal(0,0,5,0) output_signal(0,1,5,0) output_signal(0,2,5,1) output_signal(0,3,5,1) output_signal(0,4,5,0) output_signal(0,5,5,0) output_signal(0,6,5,1) output_signal(0,7,5,1) output_signal(0,8,5,0) output_signal(0,9,5,0) output_signal(0,10,5,1) output_signal(4,0,6,0) output_signal(4,1,6,0) output_signal(4,2,6,0) output_signal(4,3,6,0) output_signal(4,4,6,0) output_signal(4,5,6,1) output_signal(4,6,6,1) output_signal(4,7,6,1) output_signal(4,8,6,1) output_signal(4,9,6,1) output_signal(4,10,6,0) output_signal(3,0,6,0) output_signal(3,1,6,0) output_signal(3,2,6,1) output_signal(3,3,6,1) output_signal(3,4,6,0) output_signal(3,5,6,1) output_signal(3,6,6,1) output_signal(3,7,6,0) output_signal(3,8,6,1) output_signal(3,9,6,1) output_signal(3,10,6,0) output_signal(1,0,6,0) output_signal(1,1,6,0) output_signal(1,2,6,0) output_signal(1,3,6,0) output_signal(1,4,6,1) output_signal(1,5,6,1) output_signal(1,6,6,1) output_signal(1,7,6,0) output_signal(1,8,6,0) output_signal(1,9,6,0) output_signal(1,10,6,1) output_signal(0,0,6,0) output_signal(0,1,6,0) output_signal(0,2,6,0) output_signal(0,3,6,0) output_signal(0,4,6,1) output_signal(0,5,6,1) output_signal(0,6,6,1) output_signal(0,7,6,1) output_signal(0,8,6,0) output_signal(0,9,6,0) output_signal(0,10,6,0) output_signal(4,0,7,0) output_signal(4,1,7,0) output_signal(4,2,7,0) output_signal(4,3,7,0) output_signal(4,4,7,0) output_signal(4,5,7,0) output_signal(4,6,7,0) output_signal(4,7,7,0) output_signal(4,8,7,0) output_signal(4,9,7,0) output_signal(4,10,7,1) output_signal(3,0,7,0) output_signal(3,1,7,1) output_signal(3,2,7,0) output_signal(3,3,7,1) output_signal(3,4,7,1) output_signal(3,5,7,0) output_signal(3,6,7,1) output_signal(3,7,7,1) output_signal(3,8,7,0) output_signal(3,9,7,1) output_signal(3,10,7,1) output_signal(1,0,7,0) output_signal(1,1,7,1) output_signal(1,2,7,0) output_signal(1,3,7,1) output_signal(1,4,7,0) output_signal(1,5,7,1) output_signal(1,6,7,0) output_signal(1,7,7,0) output_signal(1,8,7,1) output_signal(1,9,7,0) output_signal(1,10,7,1) output_signal(0,0,7,0) output_signal(0,1,7,1) output_signal(0,2,7,0) output_signal(0,3,7,1) output_signal(0,4,7,0) output_signal(0,5,7,1) output_signal(0,6,7,0) output_signal(0,7,7,1) output_signal(0,8,7,1) output_signal(0,9,7,0) output_signal(0,10,7,1)\r\n",
      "Answer: 12\r\n",
      "edge(0,1) edge(1,3) edge(3,4) edge(4,9) edge(9,10) op(10,key) op(0,mul13) op(1,mul13) op(3,mul13) op(4,mul13) op(9,mul13) output_signal(0,10,1,1) output_signal(0,7,1,1) output_signal(0,6,1,1) output_signal(0,3,1,1) output_signal(0,2,1,1) output_signal(0,9,1,0) output_signal(0,8,1,0) output_signal(0,5,1,0) output_signal(0,4,1,0) output_signal(0,1,1,0) output_signal(0,0,1,0) output_signal(0,9,0,1) output_signal(0,7,0,1) output_signal(0,5,0,1) output_signal(0,3,0,1) output_signal(0,1,0,1) output_signal(0,10,0,0) output_signal(0,8,0,0) output_signal(0,6,0,0) output_signal(0,4,0,0) output_signal(0,2,0,0) output_signal(0,0,0,0) output_signal(1,10,1,1) output_signal(1,7,1,1) output_signal(1,6,1,1) output_signal(1,3,1,1) output_signal(1,2,1,1) output_signal(1,9,1,0) output_signal(1,8,1,0) output_signal(1,5,1,0) output_signal(1,4,1,0) output_signal(1,1,1,0) output_signal(1,0,1,0) output_signal(1,9,0,1) output_signal(1,7,0,1) output_signal(1,5,0,1) output_signal(1,3,0,1) output_signal(1,1,0,1) output_signal(1,10,0,0) output_signal(1,8,0,0) output_signal(1,6,0,0) output_signal(1,4,0,0) output_signal(1,2,0,0) output_signal(1,0,0,0) output_signal(3,10,1,1) output_signal(3,7,1,1) output_signal(3,6,1,1) output_signal(3,3,1,1) output_signal(3,2,1,1) output_signal(3,9,1,0) output_signal(3,8,1,0) output_signal(3,5,1,0) output_signal(3,4,1,0) output_signal(3,1,1,0) output_signal(3,0,1,0) output_signal(3,9,0,1) output_signal(3,7,0,1) output_signal(3,5,0,1) output_signal(3,3,0,1) output_signal(3,1,0,1) output_signal(3,10,0,0) output_signal(3,8,0,0) output_signal(3,6,0,0) output_signal(3,4,0,0) output_signal(3,2,0,0) output_signal(3,0,0,0) output_signal(4,10,1,1) output_signal(4,7,1,1) output_signal(4,6,1,1) output_signal(4,3,1,1) output_signal(4,2,1,1) output_signal(4,9,1,0) output_signal(4,8,1,0) output_signal(4,5,1,0) output_signal(4,4,1,0) output_signal(4,1,1,0) output_signal(4,0,1,0) output_signal(4,9,0,1) output_signal(4,7,0,1) output_signal(4,5,0,1) output_signal(4,3,0,1) output_signal(4,1,0,1) output_signal(4,10,0,0) output_signal(4,8,0,0) output_signal(4,6,0,0) output_signal(4,4,0,0) output_signal(4,2,0,0) output_signal(4,0,0,0) output_signal(9,10,1,1) output_signal(9,7,1,1) output_signal(9,6,1,1) output_signal(9,3,1,1) output_signal(9,2,1,1) output_signal(9,9,1,0) output_signal(9,8,1,0) output_signal(9,5,1,0) output_signal(9,4,1,0) output_signal(9,1,1,0) output_signal(9,0,1,0) output_signal(9,9,0,1) output_signal(9,7,0,1) output_signal(9,5,0,1) output_signal(9,3,0,1) output_signal(9,1,0,1) output_signal(9,10,0,0) output_signal(9,8,0,0) output_signal(9,6,0,0) output_signal(9,4,0,0) output_signal(9,2,0,0) output_signal(9,0,0,0) output_signal(9,0,2,0) output_signal(9,1,2,1) output_signal(9,2,2,0) output_signal(9,3,2,1) output_signal(9,4,2,1) output_signal(9,5,2,0) output_signal(9,6,2,1) output_signal(9,7,2,0) output_signal(9,8,2,0) output_signal(9,9,2,1) output_signal(9,10,2,0) output_signal(4,0,2,0) output_signal(4,1,2,0) output_signal(4,2,2,0) output_signal(4,3,2,0) output_signal(4,4,2,1) output_signal(4,5,2,1) output_signal(4,6,2,1) output_signal(4,7,2,1) output_signal(4,8,2,0) output_signal(4,9,2,0) output_signal(4,10,2,0) output_signal(3,0,2,0) output_signal(3,1,2,1) output_signal(3,2,2,0) output_signal(3,3,2,1) output_signal(3,4,2,1) output_signal(3,5,2,0) output_signal(3,6,2,1) output_signal(3,7,2,0) output_signal(3,8,2,0) output_signal(3,9,2,1) output_signal(3,10,2,0) output_signal(1,0,2,0) output_signal(1,1,2,0) output_signal(1,2,2,0) output_signal(1,3,2,0) output_signal(1,4,2,1) output_signal(1,5,2,1) output_signal(1,6,2,1) output_signal(1,7,2,1) output_signal(1,8,2,0) output_signal(1,9,2,0) output_signal(1,10,2,0) output_signal(0,0,2,0) output_signal(0,1,2,1) output_signal(0,2,2,0) output_signal(0,3,2,1) output_signal(0,4,2,1) output_signal(0,5,2,0) output_signal(0,6,2,1) output_signal(0,7,2,0) output_signal(0,8,2,0) output_signal(0,9,2,1) output_signal(0,10,2,0) output_signal(9,0,3,0) output_signal(9,1,3,1) output_signal(9,2,3,1) output_signal(9,3,3,0) output_signal(9,4,3,0) output_signal(9,5,3,0) output_signal(9,6,3,1) output_signal(9,7,3,1) output_signal(9,8,3,1) output_signal(9,9,3,0) output_signal(9,10,3,0) output_signal(4,0,3,0) output_signal(4,1,3,1) output_signal(4,2,3,0) output_signal(4,3,3,1) output_signal(4,4,3,0) output_signal(4,5,3,1) output_signal(4,6,3,0) output_signal(4,7,3,1) output_signal(4,8,3,1) output_signal(4,9,3,0) output_signal(4,10,3,1) output_signal(3,0,3,0) output_signal(3,1,3,0) output_signal(3,2,3,1) output_signal(3,3,3,1) output_signal(3,4,3,0) output_signal(3,5,3,1) output_signal(3,6,3,1) output_signal(3,7,3,0) output_signal(3,8,3,1) output_signal(3,9,3,1) output_signal(3,10,3,0) output_signal(1,0,3,0) output_signal(1,1,3,0) output_signal(1,2,3,0) output_signal(1,3,3,0) output_signal(1,4,3,0) output_signal(1,5,3,0) output_signal(1,6,3,0) output_signal(1,7,3,0) output_signal(1,8,3,1) output_signal(1,9,3,1) output_signal(1,10,3,1) output_signal(0,0,3,0) output_signal(0,1,3,1) output_signal(0,2,3,1) output_signal(0,3,3,0) output_signal(0,4,3,0) output_signal(0,5,3,0) output_signal(0,6,3,1) output_signal(0,7,3,1) output_signal(0,8,3,1) output_signal(0,9,3,0) output_signal(0,10,3,0) output_signal(9,0,4,0) output_signal(9,1,4,0) output_signal(9,2,4,1) output_signal(9,3,4,0) output_signal(9,4,4,1) output_signal(9,5,4,0) output_signal(9,6,4,0) output_signal(9,7,4,1) output_signal(9,8,4,0) output_signal(9,9,4,1) output_signal(9,10,4,0) output_signal(4,0,4,0) output_signal(4,1,4,0) output_signal(4,2,4,1) output_signal(4,3,4,1) output_signal(4,4,4,0) output_signal(4,5,4,0) output_signal(4,6,4,1) output_signal(4,7,4,1) output_signal(4,8,4,0) output_signal(4,9,4,1) output_signal(4,10,4,1) output_signal(3,0,4,0) output_signal(3,1,4,1) output_signal(3,2,4,0) output_signal(3,3,4,1) output_signal(3,4,4,1) output_signal(3,5,4,0) output_signal(3,6,4,1) output_signal(3,7,4,1) output_signal(3,8,4,0) output_signal(3,9,4,1) output_signal(3,10,4,1) output_signal(1,0,4,0) output_signal(1,1,4,1) output_signal(1,2,4,0) output_signal(1,3,4,1) output_signal(1,4,4,0) output_signal(1,5,4,1) output_signal(1,6,4,0) output_signal(1,7,4,1) output_signal(1,8,4,0) output_signal(1,9,4,1) output_signal(1,10,4,0) output_signal(0,0,4,0) output_signal(0,1,4,1) output_signal(0,2,4,1) output_signal(0,3,4,1) output_signal(0,4,4,1) output_signal(0,5,4,1) output_signal(0,6,4,0) output_signal(0,7,4,0) output_signal(0,8,4,0) output_signal(0,9,4,0) output_signal(0,10,4,0) output_signal(9,0,5,0) output_signal(9,1,5,0) output_signal(9,2,5,0) output_signal(9,3,5,1) output_signal(9,4,5,1) output_signal(9,5,5,0) output_signal(9,6,5,0) output_signal(9,7,5,0) output_signal(9,8,5,1) output_signal(9,9,5,1) output_signal(9,10,5,0) output_signal(4,0,5,0) output_signal(4,1,5,1) output_signal(4,2,5,0) output_signal(4,3,5,1) output_signal(4,4,5,1) output_signal(4,5,5,0) output_signal(4,6,5,1) output_signal(4,7,5,0) output_signal(4,8,5,0) output_signal(4,9,5,1) output_signal(4,10,5,0) output_signal(3,0,5,0) output_signal(3,1,5,0) output_signal(3,2,5,1) output_signal(3,3,5,1) output_signal(3,4,5,0) output_signal(3,5,5,1) output_signal(3,6,5,1) output_signal(3,7,5,0) output_signal(3,8,5,1) output_signal(3,9,5,1) output_signal(3,10,5,0) output_signal(1,0,5,0) output_signal(1,1,5,0) output_signal(1,2,5,1) output_signal(1,3,5,1) output_signal(1,4,5,0) output_signal(1,5,5,0) output_signal(1,6,5,1) output_signal(1,7,5,1) output_signal(1,8,5,0) output_signal(1,9,5,0) output_signal(1,10,5,1) output_signal(0,0,5,0) output_signal(0,1,5,0) output_signal(0,2,5,1) output_signal(0,3,5,0) output_signal(0,4,5,1) output_signal(0,5,5,0) output_signal(0,6,5,1) output_signal(0,7,5,0) output_signal(0,8,5,1) output_signal(0,9,5,0) output_signal(0,10,5,1) output_signal(9,0,6,0) output_signal(9,1,6,0) output_signal(9,2,6,0) output_signal(9,3,6,0) output_signal(9,4,6,0) output_signal(9,5,6,1) output_signal(9,6,6,1) output_signal(9,7,6,1) output_signal(9,8,6,1) output_signal(9,9,6,1) output_signal(9,10,6,0) output_signal(4,0,6,0) output_signal(4,1,6,0) output_signal(4,2,6,1) output_signal(4,3,6,1) output_signal(4,4,6,0) output_signal(4,5,6,1) output_signal(4,6,6,1) output_signal(4,7,6,0) output_signal(4,8,6,1) output_signal(4,9,6,1) output_signal(4,10,6,0) output_signal(3,0,6,0) output_signal(3,1,6,0) output_signal(3,2,6,0) output_signal(3,3,6,0) output_signal(3,4,6,1) output_signal(3,5,6,1) output_signal(3,6,6,1) output_signal(3,7,6,0) output_signal(3,8,6,0) output_signal(3,9,6,0) output_signal(3,10,6,1) output_signal(1,0,6,0) output_signal(1,1,6,0) output_signal(1,2,6,0) output_signal(1,3,6,0) output_signal(1,4,6,1) output_signal(1,5,6,1) output_signal(1,6,6,1) output_signal(1,7,6,1) output_signal(1,8,6,0) output_signal(1,9,6,0) output_signal(1,10,6,0) output_signal(0,0,6,0) output_signal(0,1,6,1) output_signal(0,2,6,0) output_signal(0,3,6,0) output_signal(0,4,6,1) output_signal(0,5,6,1) output_signal(0,6,6,0) output_signal(0,7,6,0) output_signal(0,8,6,1) output_signal(0,9,6,1) output_signal(0,10,6,0) output_signal(9,0,7,0) output_signal(9,1,7,0) output_signal(9,2,7,0) output_signal(9,3,7,0) output_signal(9,4,7,0) output_signal(9,5,7,0) output_signal(9,6,7,0) output_signal(9,7,7,0) output_signal(9,8,7,0) output_signal(9,9,7,0) output_signal(9,10,7,1) output_signal(4,0,7,0) output_signal(4,1,7,1) output_signal(4,2,7,0) output_signal(4,3,7,1) output_signal(4,4,7,1) output_signal(4,5,7,0) output_signal(4,6,7,1) output_signal(4,7,7,1) output_signal(4,8,7,0) output_signal(4,9,7,1) output_signal(4,10,7,1) output_signal(3,0,7,0) output_signal(3,1,7,1) output_signal(3,2,7,0) output_signal(3,3,7,1) output_signal(3,4,7,0) output_signal(3,5,7,1) output_signal(3,6,7,0) output_signal(3,7,7,0) output_signal(3,8,7,1) output_signal(3,9,7,0) output_signal(3,10,7,1) output_signal(1,0,7,0) output_signal(1,1,7,1) output_signal(1,2,7,0) output_signal(1,3,7,1) output_signal(1,4,7,0) output_signal(1,5,7,1) output_signal(1,6,7,0) output_signal(1,7,7,1) output_signal(1,8,7,1) output_signal(1,9,7,0) output_signal(1,10,7,1) output_signal(0,0,7,0) output_signal(0,1,7,0) output_signal(0,2,7,1) output_signal(0,3,7,0) output_signal(0,4,7,0) output_signal(0,5,7,1) output_signal(0,6,7,0) output_signal(0,7,7,1) output_signal(0,8,7,1) output_signal(0,9,7,0) output_signal(0,10,7,1)\r\n",
      "SATISFIABLE\r\n",
      "\r\n",
      "Models       : 12+\r\n",
      "Calls        : 1\r\n",
      "Time         : 0.653s (Solving: 0.31s 1st Model: 0.01s Unsat: 0.00s)\r\n",
      "CPU Time     : 0.617s\r\n"
     ]
    }
   ],
   "source": [
    "!clingo ast.lp keys.lp circuits.lp multiplier.lp 12"
   ]
  },
  {
   "cell_type": "code",
   "execution_count": 7,
   "metadata": {},
   "outputs": [
    {
     "name": "stdout",
     "output_type": "stream",
     "text": [
      "Overwriting keys.lp\n"
     ]
    }
   ],
   "source": [
    "%%file keys.lp\n",
    "\n",
    "\n",
    "\n",
    "key(0..10).\n",
    "%key(56).\n",
    "%key(342).\n",
    "%key(33).\n",
    "\n",
    "#script (python)\n",
    "def bit_values(k,n):\n",
    "    k = k.number\n",
    "    n = n.number\n",
    "    results = []\n",
    "    for i in range(n):\n",
    "        b = i\n",
    "        v = 1 if (1<<i)&k else 0\n",
    "        results.append((b,v))\n",
    "    return results\n",
    "#end.\n",
    "\n",
    "key_bit(I,B,V) :- key(I), (B,V)=@bit_values(I,bits)."
   ]
  },
  {
   "cell_type": "code",
   "execution_count": 8,
   "metadata": {},
   "outputs": [
    {
     "name": "stdout",
     "output_type": "stream",
     "text": [
      "clingo version 5.2.1\r\n",
      "Reading from keys.lp\r\n",
      "*** ERROR: (clingo): keys.lp:21:33-52: error: error calling python function:\r\n",
      "  Traceback (most recent call last):\r\n",
      "    File \"<keys.lp:9:1-19:6>\", line 6, in bit_values\r\n",
      "  TypeError: range() integer end argument expected, got NoneType.\r\n",
      "\r\n",
      "UNKNOWN\r\n",
      "\r\n",
      "Models       : 0+\r\n",
      "Calls        : 1\r\n",
      "Time         : 0.019s (Solving: 0.00s 1st Model: 0.00s Unsat: 0.00s)\r\n",
      "CPU Time     : 0.018s\r\n"
     ]
    }
   ],
   "source": [
    "!clingo keys.lp"
   ]
  },
  {
   "cell_type": "code",
   "execution_count": null,
   "metadata": {
    "collapsed": true
   },
   "outputs": [],
   "source": []
  },
  {
   "cell_type": "markdown",
   "metadata": {},
   "source": [
    "# Everything below is garbage"
   ]
  },
  {
   "cell_type": "code",
   "execution_count": null,
   "metadata": {
    "collapsed": true
   },
   "outputs": [],
   "source": []
  },
  {
   "cell_type": "code",
   "execution_count": 9,
   "metadata": {
    "scrolled": true
   },
   "outputs": [
    {
     "name": "stdout",
     "output_type": "stream",
     "text": [
      "clingo version 5.2.1\n",
      "Reading from items.lp ...\n",
      "Solving...\n",
      "Answer: 1\n",
      "item(123) item(23) item(55) item(67) item(100) item(34234) item(23123) item(1) item(2) item(3) item(4) item(5) item(6) item(7) item(8) item(9) item(10) coef(79) mod(83)\n",
      "SATISFIABLE\n",
      "\n",
      "Models       : 1+\n",
      "Calls        : 1\n",
      "Time         : 0.842s (Solving: 0.00s 1st Model: 0.00s Unsat: 0.00s)\n",
      "CPU Time     : 0.714s\n"
     ]
    }
   ],
   "source": [
    "!clingo items.lp perfect.lp"
   ]
  },
  {
   "cell_type": "code",
   "execution_count": 10,
   "metadata": {},
   "outputs": [
    {
     "name": "stdout",
     "output_type": "stream",
     "text": [
      "Overwriting genhash.lp\n"
     ]
    }
   ],
   "source": [
    "%%file genhash.lp\n",
    "\n",
    "#const corange = 10.\n",
    "constant(1..corange).\n",
    "input(1..5).\n",
    "\n",
    "\n",
    "idrange(0..10).\n",
    "\n",
    "\n",
    "\n",
    "%%% piece(id,child_id_1,child_id_2).\n",
    "2 {piece(A,B,C):idrange(A),idrange(B),idrange(C)}.\n",
    "\n",
    "%%% At most one piece per id\n",
    ":- idrange(A), not 0 #sum{1,B,C:piece(A,B,C)} 1.\n",
    "        \n",
    "%%% Piece appears at most once as a child\n",
    ":- idrange(P), not 0 #sum{1,A,C,left:piece(A,P,C); 1,A,B,right:piece(A,B,P)} 1.\n",
    "    \n",
    "%%% Piece can not be its own child\n",
    ":- idrange(P), piece(P,P,_).\n",
    ":- idrange(P), piece(P,_,P).\n",
    "    \n",
    "%%% If a piece appears as a child, it exists\n",
    "%TODO\n",
    "    \n",
    "\n",
    "    \n",
    "%:- idrange(B), not 0 #sum{1,A,C:piece(A,B,C)} 1.\n",
    "%:- idrange(C), not 0 #sum{1,A,B:piece(A,B,C)} 1.\n",
    "\n",
    "%cnt(X, A) :- idrange(A), X = #sum{1,B,C:piece(A,B,C)}.\n",
    "    \n",
    "    "
   ]
  },
  {
   "cell_type": "code",
   "execution_count": 11,
   "metadata": {},
   "outputs": [
    {
     "name": "stdout",
     "output_type": "stream",
     "text": [
      "Overwriting perfect.lp\n"
     ]
    }
   ],
   "source": [
    "%%file perfect.lp\n",
    "\n",
    "%%% Attempts to perfectly hash keys given as item(number)\n",
    "\n",
    "#const corange = 10.\n",
    "constant(1..corange).\n",
    "    \n",
    "%%%operation(type, item, in1, in2, output)\n",
    "operation(xor, I, A, B, A^B) :- item(I), output(I,A), output(I,B).       \n",
    "operation(and, I, A, B, A&B) :- item(I), output(I,A), output(I,B). \n",
    "operation(or , I, A, B, A?B) :- item(I), output(I,A), output(I,B). \n",
    "    \n",
    "\n",
    "hash(I,X) :- item(I), input(I,V1), input(I,V2), operation(T,I,V1,V2,X).\n",
    "    \n",
    "    \n",
    "output(I,I) :- item(I).\n",
    "output(I,X) :- item(I), constant(X).\n",
    "output(I,X) :- item(I), output(I,V1), output(I,V2), operation(T,I,V1,V2,X).\n",
    "    \n",
    "    \n",
    ":- item(A), item(B), A != B, hash(A,X), hash(B,X). \n",
    "    \n",
    "    \n",
    "    \n",
    "%%% input constant or item\n",
    "input(I) :- item(I).\n",
    "input(I) :- constant(I).\n",
    "    \n",
    "    \n",
    "%:- item(A), item(B), operation(T,ID,) \n",
    "    \n",
    "    \n",
    "%%output(I,X) :- input(I), operation(T, )\n",
    "    \n",
    "\n",
    "\n"
   ]
  },
  {
   "cell_type": "code",
   "execution_count": 12,
   "metadata": {},
   "outputs": [
    {
     "name": "stdout",
     "output_type": "stream",
     "text": [
      "Overwriting minimal.lp\n"
     ]
    }
   ],
   "source": [
    "%%file minimal.lp\n",
    "\n",
    "%%% Minimize the range of hashed values\n",
    "maxhash(X) :- coef(A), mod(M), exp(E), X = #max{ @axbmodc(A,I,E,M):item(I) }.\n",
    "minhash(X) :- coef(A), mod(M), exp(E), X = #min{ @axbmodc(A,I,E,M):item(I) }.\n",
    "diff(X) :- maxhash(A), minhash(B), X = A-B.\n",
    "#minimize{ X:diff(X) }."
   ]
  },
  {
   "cell_type": "code",
   "execution_count": 13,
   "metadata": {},
   "outputs": [
    {
     "name": "stdout",
     "output_type": "stream",
     "text": [
      "Overwriting ordered.lp\n"
     ]
    }
   ],
   "source": [
    "%%file ordered.lp\n",
    "\n",
    "%%% Reject if items are out of order when hashed\n",
    ":- item(I1), item(I2), I1 < I2, coef(A), mod(M),  A*I1\\M > A*I2\\M.\n",
    ":- #true."
   ]
  },
  {
   "cell_type": "code",
   "execution_count": 14,
   "metadata": {
    "scrolled": false
   },
   "outputs": [
    {
     "name": "stdout",
     "output_type": "stream",
     "text": [
      "clingo version 5.2.1\r\n",
      "Reading from genhash.lp\r\n",
      "Solving...\r\n",
      "Answer: 1\r\n",
      "constant(1) constant(2) constant(3) constant(4) constant(5) constant(6) constant(7) constant(8) constant(9) constant(10) input(1) input(2) input(3) input(4) input(5) idrange(0) idrange(1) idrange(2) idrange(3) idrange(4) idrange(5) idrange(6) idrange(7) idrange(8) idrange(9) idrange(10) piece(0,1,2) piece(2,0,3)\r\n",
      "SATISFIABLE\r\n",
      "\r\n",
      "Models       : 1+\r\n",
      "Calls        : 1\r\n",
      "Time         : 0.032s (Solving: 0.00s 1st Model: 0.00s Unsat: 0.00s)\r\n",
      "CPU Time     : 0.031s\r\n"
     ]
    }
   ],
   "source": [
    "!clingo genhash.lp"
   ]
  },
  {
   "cell_type": "code",
   "execution_count": 15,
   "metadata": {},
   "outputs": [
    {
     "name": "stdout",
     "output_type": "stream",
     "text": [
      "Overwriting process.py\n"
     ]
    }
   ],
   "source": [
    "%%file process.py\n",
    "\n",
    "import json\n",
    "import sys\n",
    "import re\n",
    "\n",
    "\n",
    "result = json.load(sys.stdin)\n",
    "atoms = result['Call'][0]['Witnesses'][0]['Value']\n",
    "\n",
    "items = []\n",
    "modulus = 0\n",
    "coef = 0\n",
    "exponent = 0\n",
    "\n",
    "for a in atoms:\n",
    "    match = re.match('item\\(([0-9]*)\\)', a)\n",
    "    if match:\n",
    "        items += [int(match.group(1))]\n",
    "    \n",
    "    match = re.match('mod\\(([0-9]*)\\)', a)\n",
    "    if match:\n",
    "        modulus = int(match.group(1))\n",
    "\n",
    "    match = re.match('exp\\(([0-9]*)\\)', a)\n",
    "    if match:\n",
    "        exponent = int(match.group(1))\n",
    "        \n",
    "    match = re.match('coef\\(([0-9]*)\\)', a)\n",
    "    if match:\n",
    "        coef = int(match.group(1))\n",
    "\n",
    "        \n",
    "table = [(item*coef**exponent%modulus, item) for item in items]\n",
    "table.sort()\n",
    "\n",
    "print \"Hash function: %dx^%d mod %d\" %(coef,exponent,modulus)\n",
    "\n",
    "print \"%7s %7s\" % (\"hash\", \"item\")\n",
    "for item in table:\n",
    "    print \"%7d %7d\" % item"
   ]
  },
  {
   "cell_type": "code",
   "execution_count": 16,
   "metadata": {
    "scrolled": true
   },
   "outputs": [
    {
     "name": "stdout",
     "output_type": "stream",
     "text": [
      "Traceback (most recent call last):\r\n",
      "  File \"process.py\", line 33, in <module>\r\n",
      "    table = [(item*coef**exponent%modulus, item) for item in items]\r\n",
      "ZeroDivisionError: integer division or modulo by zero\r\n"
     ]
    }
   ],
   "source": [
    "!clingo items.lp perfect.lp minimal.lp -t 8 --outf=2 --quiet=1 2>/dev/null | python2 process.py"
   ]
  },
  {
   "cell_type": "code",
   "execution_count": 17,
   "metadata": {
    "scrolled": true
   },
   "outputs": [
    {
     "name": "stdout",
     "output_type": "stream",
     "text": [
      "Overwriting gen.py\n"
     ]
    }
   ],
   "source": [
    "%%file gen.py\n",
    "import random\n",
    "\n",
    "seen = {}\n",
    "i = 0\n",
    "while i < 5:\n",
    "    x = random.randint(10,100)\n",
    "    if x not in seen:\n",
    "        print \"item(%d).\" % (x)\n",
    "        seen[x] = 1\n",
    "        i+=1"
   ]
  },
  {
   "cell_type": "code",
   "execution_count": 18,
   "metadata": {
    "scrolled": false
   },
   "outputs": [
    {
     "name": "stdout",
     "output_type": "stream",
     "text": [
      "Traceback (most recent call last):\r\n",
      "  File \"process.py\", line 8, in <module>\r\n",
      "    atoms = result['Call'][0]['Witnesses'][0]['Value']\r\n",
      "KeyError: 'Witnesses'\r\n"
     ]
    }
   ],
   "source": [
    "!python2 gen.py > gen.lp; clingo gen.lp perfect.lp minimal.lp ordered.lp quiet.lp --outf=2 --quiet=1 2>/dev/null | python2 process.py"
   ]
  },
  {
   "cell_type": "code",
   "execution_count": 19,
   "metadata": {},
   "outputs": [
    {
     "name": "stdout",
     "output_type": "stream",
     "text": [
      "Traceback (most recent call last):\r\n",
      "  File \"process.py\", line 33, in <module>\r\n",
      "    table = [(item*coef**exponent%modulus, item) for item in items]\r\n",
      "ZeroDivisionError: integer division or modulo by zero\r\n"
     ]
    }
   ],
   "source": [
    "!python2 gen.py > gen.lp; clingo gen.lp perfect.lp minimal.lp -t 8 --outf=2 --quiet=1 2>/dev/null | python2 process.py"
   ]
  },
  {
   "cell_type": "code",
   "execution_count": null,
   "metadata": {
    "collapsed": true
   },
   "outputs": [],
   "source": []
  }
 ],
 "metadata": {
  "kernelspec": {
   "display_name": "Python 2",
   "language": "python",
   "name": "python2"
  },
  "language_info": {
   "codemirror_mode": {
    "name": "ipython",
    "version": 2
   },
   "file_extension": ".py",
   "mimetype": "text/x-python",
   "name": "python",
   "nbconvert_exporter": "python",
   "pygments_lexer": "ipython2",
   "version": "2.7.13"
  }
 },
 "nbformat": 4,
 "nbformat_minor": 2
}
