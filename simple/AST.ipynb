{
 "cells": [
  {
   "cell_type": "code",
   "execution_count": 620,
   "metadata": {},
   "outputs": [
    {
     "name": "stdout",
     "output_type": "stream",
     "text": [
      "Overwriting ast.lp\n"
     ]
    }
   ],
   "source": [
    "%%file ast.lp\n",
    "\n",
    "#const corange = 100.\n",
    "bit(0;1).\n",
    "%constant(1..corange).\n",
    "%input(1..5).\n",
    "\n",
    "#const bits=4.\n",
    "\n",
    "bit_index(0..bits-1).\n",
    "\n",
    "\n",
    "input(X) :- key(X).\n",
    "input(X) :- constant(X).\n",
    "\n",
    "\n",
    "id(0..10).\n",
    "\n",
    " \n",
    "rooted(0).\n",
    "rooted(B) :- rooted(A), edge(A,B).\n",
    ":- node(B), not rooted(B).\n",
    "\n",
    "\n",
    "\n",
    "%%% Each edge has 0-2 children and is connected to the root\n",
    "%%% Childen have greater ids than their parents\n",
    "0 { edge(A,B):id(B),B>A} 2 :- rooted(A).\n",
    "\n",
    "%%% Children cant have multiple parents\n",
    "%%% It might actually be useful to allow this, so not really an AST anymore\n",
    "%%% :- id(I), not 0 #sum{1,P:edge(P,I)} 1.\n",
    "          \n",
    "%%% TODO:\n",
    "% All subdags contain at least one key item if the head of the tree is an operation\n",
    "%%%\n",
    "\n",
    "    \n",
    "node(I) :- rooted(I).\n",
    "binary(I) :- node(I), 2{edge(I,C)}2.\n",
    "unary(I) :- node(I), 1{edge(I,C)}1.\n",
    "leaf(I) :- node(I), 0{edge(I,C)}0.\n",
    "      \n",
    "bin_op(xor;and).\n",
    "un_op(neg).\n",
    "null_op(const;key).\n",
    "\n",
    "type(T) :- bin_op(T).\n",
    "type(T) :- un_op(T).\n",
    "type(T) :- null_op(T).\n",
    "    \n",
    "%%%Choose one operation for each node\n",
    "1{op(I, T):bin_op(T)}1 :- binary(I).\n",
    "1{op(I, T):un_op(T)}1 :- unary(I).\n",
    "1{op(I, T):null_op(T)}1 :- leaf(I).\n",
    "    \n",
    "\n",
    "%%%Create constants\n",
    "1 {const_bit(I,B,0..1)} 1 :- op(I,const),bit_index(B).\n",
    "\n",
    "%side(left;right).\n",
    "    \n",
    "%eval(and,)\n",
    "\n",
    "%%%Evaluate the tree, (Key, Id, Bit, Value)\n",
    "\n",
    "\n",
    "%val(K,I,V1-V2) :- op(I,sub),edge(I,I1),edge(I,I2),I1 < I2, val(K,I1,V1), val(K,I1,V2).\n",
    "%val(K,I,V1\\V2) :- V2!=0, op(I,mod),edge(I,I1),edge(I,I2),I1 < I2, val(K,I1,V1), val(K,I1,V2).\n",
    "%val(K,I,0) :- V2=0, op(I,mod),edge(I,I1),edge(I,I2),I1 < I2, val(K,I1,V1), val(K,I1,V2).\n",
    "\n",
    "val_bit(K,I,B,V1&V2) :- op(I,and),edge(I,I1),edge(I,I2),I1 < I2, val(K,I1,B,V1), val(K,I1,B,V2).\n",
    "val_bit(K,I,B,V1^V2) :- op(I,xor),edge(I,I1),edge(I,I2),I1 < I2, val(K,I1,B,V1), val(K,I1,B,V2).\n",
    "val_bit(K,I,B,1-V1) :- op(I,neg),edge(I,I1),val(K,I1,B,V1).\n",
    "val_bit(K,I,B,V) :- key(K), op(I,const), const_bit(I,B,V).\n",
    "val_bit(K,I,B,V) :- key_bit(K,B,V), op(I,key).\n",
    "\n",
    "hash(K,B,V) :- val(K,0,B,V).\n",
    "\n",
    "%occupied(B,V) :- hash(K,B,V).\n",
    "%collision :- occupied(V), 2 {hash(K,V)}.\n",
    "\n",
    "%\n",
    "    \n",
    "%%%collision :- key(K1), key(K2), K1!=K2, hash(K1,V), hash(K2,V).\n",
    "    \n",
    "%%% Maybe we can use a custom theory progagator for to ignore quagratic cost here\n",
    "collision(K1,K2) :- \n",
    "    key(K1), \n",
    "    key(K2), \n",
    "    K1 < K2, \n",
    "    0 = #sum {V*2**B,v1:hash(K1,B,V); -V*2**B,v2:hash(K2,B,V)}.\n",
    ":- collision(K1,K2).\n",
    "    \n",
    "%:- hash(K,V), V >100.\n",
    "%:- hash(K,V), V < 0.\n",
    "    \n",
    "%#minimize{V:node(V)}.\n",
    "    \n",
    "%%% Visualization rules\n",
    "\n",
    "%#show children(I,N) : node(I), N = #count{C:edge(I,C)}.\n",
    "%#show op_count(I, X) : node(I), X = #count{T:op(I,T),type(T)}.\n",
    "    \n",
    "#show hash/2.\n",
    "#show key/1.\n",
    "#show edge/2.\n",
    "#show op/2.\n",
    "%#show edge/1.\n",
    "%#show op/3.\n",
    "%#show cnt/2.\n",
    "%#show children/2."
   ]
  },
  {
   "cell_type": "markdown",
   "metadata": {},
   "source": [
    "I guess the above would make the basic structure of the AST, but still need some way assign values to the leaf nodes and allow those to be evaluated. No obivous way how to do that."
   ]
  },
  {
   "cell_type": "code",
   "execution_count": 610,
   "metadata": {},
   "outputs": [
    {
     "name": "stdout",
     "output_type": "stream",
     "text": [
      "Overwriting keys.lp\n"
     ]
    }
   ],
   "source": [
    "%%file keys.lp\n",
    "\n",
    "\n",
    "\n",
    "key(0..10).\n",
    "%key(56).\n",
    "%key(342).\n",
    "%key(33).\n",
    "\n",
    "#script (python)\n",
    "def bit_values(k,n):\n",
    "    k = k.number\n",
    "    n = n.number\n",
    "    results = []\n",
    "    for i in range(n):\n",
    "        b = i\n",
    "        v = 1 if (1<<i)&k else 0\n",
    "        results.append((b,v))\n",
    "    return results\n",
    "#end.\n",
    "\n",
    "key_bit(I,B,V) :- key(I), (B,V)=@bit_values(I,bits)."
   ]
  },
  {
   "cell_type": "code",
   "execution_count": 607,
   "metadata": {},
   "outputs": [
    {
     "name": "stdout",
     "output_type": "stream",
     "text": [
      "clingo version 5.2.0\r\n",
      "Reading from keys.lp\r\n",
      "Solving...\r\n",
      "Answer: 1\r\n",
      "key(56) key(342) key(33) key(0) key(1) key(2) key(3) key(4) key(5) key(6) key(7) key(8) key(9) key(10) key_bit(56,0,0) key_bit(56,1,0) key_bit(56,2,0) key_bit(56,3,1) key_bit(56,4,1) key_bit(56,5,1) key_bit(56,6,0) key_bit(56,7,0) key_bit(56,8,0) key_bit(56,9,0) key_bit(56,10,0) key_bit(56,11,0) key_bit(56,12,0) key_bit(56,13,0) key_bit(56,14,0) key_bit(56,15,0) key_bit(342,0,0) key_bit(342,1,1) key_bit(342,2,1) key_bit(342,3,0) key_bit(342,4,1) key_bit(342,5,0) key_bit(342,6,1) key_bit(342,7,0) key_bit(342,8,1) key_bit(342,9,0) key_bit(342,10,0) key_bit(342,11,0) key_bit(342,12,0) key_bit(342,13,0) key_bit(342,14,0) key_bit(342,15,0) key_bit(33,0,1) key_bit(33,1,0) key_bit(33,2,0) key_bit(33,3,0) key_bit(33,4,0) key_bit(33,5,1) key_bit(33,6,0) key_bit(33,7,0) key_bit(33,8,0) key_bit(33,9,0) key_bit(33,10,0) key_bit(33,11,0) key_bit(33,12,0) key_bit(33,13,0) key_bit(33,14,0) key_bit(33,15,0) key_bit(0,0,0) key_bit(0,1,0) key_bit(0,2,0) key_bit(0,3,0) key_bit(0,4,0) key_bit(0,5,0) key_bit(0,6,0) key_bit(0,7,0) key_bit(0,8,0) key_bit(0,9,0) key_bit(0,10,0) key_bit(0,11,0) key_bit(0,12,0) key_bit(0,13,0) key_bit(0,14,0) key_bit(0,15,0) key_bit(1,0,1) key_bit(1,1,0) key_bit(1,2,0) key_bit(1,3,0) key_bit(1,4,0) key_bit(1,5,0) key_bit(1,6,0) key_bit(1,7,0) key_bit(1,8,0) key_bit(1,9,0) key_bit(1,10,0) key_bit(1,11,0) key_bit(1,12,0) key_bit(1,13,0) key_bit(1,14,0) key_bit(1,15,0) key_bit(2,0,0) key_bit(2,1,1) key_bit(2,2,0) key_bit(2,3,0) key_bit(2,4,0) key_bit(2,5,0) key_bit(2,6,0) key_bit(2,7,0) key_bit(2,8,0) key_bit(2,9,0) key_bit(2,10,0) key_bit(2,11,0) key_bit(2,12,0) key_bit(2,13,0) key_bit(2,14,0) key_bit(2,15,0) key_bit(3,0,1) key_bit(3,1,1) key_bit(3,2,0) key_bit(3,3,0) key_bit(3,4,0) key_bit(3,5,0) key_bit(3,6,0) key_bit(3,7,0) key_bit(3,8,0) key_bit(3,9,0) key_bit(3,10,0) key_bit(3,11,0) key_bit(3,12,0) key_bit(3,13,0) key_bit(3,14,0) key_bit(3,15,0) key_bit(4,0,0) key_bit(4,1,0) key_bit(4,2,1) key_bit(4,3,0) key_bit(4,4,0) key_bit(4,5,0) key_bit(4,6,0) key_bit(4,7,0) key_bit(4,8,0) key_bit(4,9,0) key_bit(4,10,0) key_bit(4,11,0) key_bit(4,12,0) key_bit(4,13,0) key_bit(4,14,0) key_bit(4,15,0) key_bit(5,0,1) key_bit(5,1,0) key_bit(5,2,1) key_bit(5,3,0) key_bit(5,4,0) key_bit(5,5,0) key_bit(5,6,0) key_bit(5,7,0) key_bit(5,8,0) key_bit(5,9,0) key_bit(5,10,0) key_bit(5,11,0) key_bit(5,12,0) key_bit(5,13,0) key_bit(5,14,0) key_bit(5,15,0) key_bit(6,0,0) key_bit(6,1,1) key_bit(6,2,1) key_bit(6,3,0) key_bit(6,4,0) key_bit(6,5,0) key_bit(6,6,0) key_bit(6,7,0) key_bit(6,8,0) key_bit(6,9,0) key_bit(6,10,0) key_bit(6,11,0) key_bit(6,12,0) key_bit(6,13,0) key_bit(6,14,0) key_bit(6,15,0) key_bit(7,0,1) key_bit(7,1,1) key_bit(7,2,1) key_bit(7,3,0) key_bit(7,4,0) key_bit(7,5,0) key_bit(7,6,0) key_bit(7,7,0) key_bit(7,8,0) key_bit(7,9,0) key_bit(7,10,0) key_bit(7,11,0) key_bit(7,12,0) key_bit(7,13,0) key_bit(7,14,0) key_bit(7,15,0) key_bit(8,0,0) key_bit(8,1,0) key_bit(8,2,0) key_bit(8,3,1) key_bit(8,4,0) key_bit(8,5,0) key_bit(8,6,0) key_bit(8,7,0) key_bit(8,8,0) key_bit(8,9,0) key_bit(8,10,0) key_bit(8,11,0) key_bit(8,12,0) key_bit(8,13,0) key_bit(8,14,0) key_bit(8,15,0) key_bit(9,0,1) key_bit(9,1,0) key_bit(9,2,0) key_bit(9,3,1) key_bit(9,4,0) key_bit(9,5,0) key_bit(9,6,0) key_bit(9,7,0) key_bit(9,8,0) key_bit(9,9,0) key_bit(9,10,0) key_bit(9,11,0) key_bit(9,12,0) key_bit(9,13,0) key_bit(9,14,0) key_bit(9,15,0) key_bit(10,0,0) key_bit(10,1,1) key_bit(10,2,0) key_bit(10,3,1) key_bit(10,4,0) key_bit(10,5,0) key_bit(10,6,0) key_bit(10,7,0) key_bit(10,8,0) key_bit(10,9,0) key_bit(10,10,0) key_bit(10,11,0) key_bit(10,12,0) key_bit(10,13,0) key_bit(10,14,0) key_bit(10,15,0)\r\n",
      "SATISFIABLE\r\n",
      "\r\n",
      "Models       : 1\r\n",
      "Calls        : 1\r\n",
      "Time         : 0.010s (Solving: 0.00s 1st Model: 0.00s Unsat: 0.00s)\r\n",
      "CPU Time     : 0.010s\r\n"
     ]
    }
   ],
   "source": [
    "!clingo keys.lp"
   ]
  },
  {
   "cell_type": "code",
   "execution_count": 599,
   "metadata": {
    "scrolled": true
   },
   "outputs": [
    {
     "name": "stdout",
     "output_type": "stream",
     "text": [
      "clingo version 5.2.0\r\n",
      "Reading from ast.lp ...\r\n",
      "ast.lp:57:64-76: info: atom does not occur in any rule head:\r\n",
      "  val(K,I1,V1)\r\n",
      "\r\n",
      "ast.lp:57:78-90: info: atom does not occur in any rule head:\r\n",
      "  val(K,I1,V2)\r\n",
      "\r\n",
      "ast.lp:58:64-76: info: atom does not occur in any rule head:\r\n",
      "  val(K,I1,V1)\r\n",
      "\r\n",
      "ast.lp:58:78-90: info: atom does not occur in any rule head:\r\n",
      "  val(K,I1,V2)\r\n",
      "\r\n",
      "ast.lp:62:42-54: info: atom does not occur in any rule head:\r\n",
      "  val(K,I1,V1)\r\n",
      "\r\n",
      "ast.lp:66:14-24: info: atom does not occur in any rule head:\r\n",
      "  val(K,0,V)\r\n",
      "\r\n",
      "Solving...\r\n",
      "Answer: 1\r\n",
      "key(56) key(342) key(33) key(0) key(1) key(2) key(3) key(4) key(5) key(6) key(7) key(8) key(9) key(10) op(0,key)\r\n",
      "Answer: 2\r\n",
      "key(56) key(342) key(33) key(0) key(1) key(2) key(3) key(4) key(5) key(6) key(7) key(8) key(9) key(10) op(0,const)\r\n",
      "SATISFIABLE\r\n",
      "\r\n",
      "Models       : 2+\r\n",
      "Calls        : 1\r\n",
      "Time         : 0.030s (Solving: 0.00s 1st Model: 0.00s Unsat: 0.00s)\r\n",
      "CPU Time     : 0.030s\r\n"
     ]
    }
   ],
   "source": [
    "!clingo ast.lp keys.lp 2"
   ]
  },
  {
   "cell_type": "code",
   "execution_count": null,
   "metadata": {
    "collapsed": true
   },
   "outputs": [],
   "source": []
  },
  {
   "cell_type": "markdown",
   "metadata": {},
   "source": [
    "# Everything below is garbage"
   ]
  },
  {
   "cell_type": "code",
   "execution_count": null,
   "metadata": {
    "collapsed": true
   },
   "outputs": [],
   "source": []
  },
  {
   "cell_type": "code",
   "execution_count": null,
   "metadata": {
    "scrolled": true
   },
   "outputs": [
    {
     "name": "stdout",
     "output_type": "stream",
     "text": [
      "clingo version 5.2.0\r\n",
      "Reading from items.lp ...\r\n"
     ]
    }
   ],
   "source": [
    "!clingo items.lp perfect.lp"
   ]
  },
  {
   "cell_type": "code",
   "execution_count": 187,
   "metadata": {},
   "outputs": [
    {
     "name": "stdout",
     "output_type": "stream",
     "text": [
      "Overwriting genhash.lp\n"
     ]
    }
   ],
   "source": [
    "%%file genhash.lp\n",
    "\n",
    "#const corange = 10.\n",
    "constant(1..corange).\n",
    "input(1..5).\n",
    "\n",
    "\n",
    "idrange(0..10).\n",
    "\n",
    "\n",
    "\n",
    "%%% piece(id,child_id_1,child_id_2).\n",
    "2 {piece(A,B,C):idrange(A),idrange(B),idrange(C)}.\n",
    "\n",
    "%%% At most one piece per id\n",
    ":- idrange(A), not 0 #sum{1,B,C:piece(A,B,C)} 1.\n",
    "        \n",
    "%%% Piece appears at most once as a child\n",
    ":- idrange(P), not 0 #sum{1,A,C,left:piece(A,P,C); 1,A,B,right:piece(A,B,P)} 1.\n",
    "    \n",
    "%%% Piece can not be its own child\n",
    ":- idrange(P), piece(P,P,_).\n",
    ":- idrange(P), piece(P,_,P).\n",
    "    \n",
    "%%% If a piece appears as a child, it exists\n",
    "%TODO\n",
    "    \n",
    "\n",
    "    \n",
    "%:- idrange(B), not 0 #sum{1,A,C:piece(A,B,C)} 1.\n",
    "%:- idrange(C), not 0 #sum{1,A,B:piece(A,B,C)} 1.\n",
    "\n",
    "%cnt(X, A) :- idrange(A), X = #sum{1,B,C:piece(A,B,C)}.\n",
    "    \n",
    "    "
   ]
  },
  {
   "cell_type": "code",
   "execution_count": 21,
   "metadata": {},
   "outputs": [
    {
     "name": "stdout",
     "output_type": "stream",
     "text": [
      "Overwriting perfect.lp\n"
     ]
    }
   ],
   "source": [
    "%%file perfect.lp\n",
    "\n",
    "%%% Attempts to perfectly hash keys given as item(number)\n",
    "\n",
    "#const corange = 10.\n",
    "constant(1..corange).\n",
    "    \n",
    "%%%operation(type, item, in1, in2, output)\n",
    "operation(xor, I, A, B, A^B) :- item(I), output(I,A), output(I,B).       \n",
    "operation(and, I, A, B, A&B) :- item(I), output(I,A), output(I,B). \n",
    "operation(or , I, A, B, A?B) :- item(I), output(I,A), output(I,B). \n",
    "    \n",
    "\n",
    "hash(I,X) :- item(I), input(I,V1), input(I,V2), operation(T,I,V1,V2,X).\n",
    "    \n",
    "    \n",
    "output(I,I) :- item(I).\n",
    "output(I,X) :- item(I), constant(X).\n",
    "output(I,X) :- item(I), output(I,V1), output(I,V2), operation(T,I,V1,V2,X).\n",
    "    \n",
    "    \n",
    ":- item(A), item(B), A != B, hash(A,X), hash(B,X). \n",
    "    \n",
    "    \n",
    "    \n",
    "%%% input constant or item\n",
    "input(I) :- item(I).\n",
    "input(I) :- constant(I).\n",
    "    \n",
    "    \n",
    "%:- item(A), item(B), operation(T,ID,) \n",
    "    \n",
    "    \n",
    "%%output(I,X) :- input(I), operation(T, )\n",
    "    \n",
    "\n",
    "\n"
   ]
  },
  {
   "cell_type": "code",
   "execution_count": 12,
   "metadata": {},
   "outputs": [
    {
     "name": "stdout",
     "output_type": "stream",
     "text": [
      "Overwriting minimal.lp\n"
     ]
    }
   ],
   "source": [
    "%%file minimal.lp\n",
    "\n",
    "%%% Minimize the range of hashed values\n",
    "maxhash(X) :- coef(A), mod(M), exp(E), X = #max{ @axbmodc(A,I,E,M):item(I) }.\n",
    "minhash(X) :- coef(A), mod(M), exp(E), X = #min{ @axbmodc(A,I,E,M):item(I) }.\n",
    "diff(X) :- maxhash(A), minhash(B), X = A-B.\n",
    "#minimize{ X:diff(X) }."
   ]
  },
  {
   "cell_type": "code",
   "execution_count": 45,
   "metadata": {},
   "outputs": [
    {
     "name": "stdout",
     "output_type": "stream",
     "text": [
      "Overwriting ordered.lp\n"
     ]
    }
   ],
   "source": [
    "%%file ordered.lp\n",
    "\n",
    "%%% Reject if items are out of order when hashed\n",
    ":- item(I1), item(I2), I1 < I2, coef(A), mod(M),  A*I1\\M > A*I2\\M.\n",
    ":- #true."
   ]
  },
  {
   "cell_type": "code",
   "execution_count": 186,
   "metadata": {
    "scrolled": false
   },
   "outputs": [
    {
     "name": "stdout",
     "output_type": "stream",
     "text": [
      "clingo version 5.2.0\n",
      "Reading from genhash.lp\n",
      "Solving...\n",
      "Answer: 1\n",
      "constant(1) constant(2) constant(3) constant(4) constant(5) constant(6) constant(7) constant(8) constant(9) constant(10) input(1) input(2) input(3) input(4) input(5) idrange(0) idrange(1) idrange(2) idrange(3) idrange(4) idrange(5) idrange(6) idrange(7) idrange(8) idrange(9) idrange(10) piece(0,7,10) piece(7,0,1)\n",
      "SATISFIABLE\n",
      "\n",
      "Models       : 1+\n",
      "Calls        : 1\n",
      "Time         : 0.437s (Solving: 0.01s 1st Model: 0.01s Unsat: 0.00s)\n",
      "CPU Time     : 0.430s\n"
     ]
    }
   ],
   "source": [
    "!clingo genhash.lp"
   ]
  },
  {
   "cell_type": "code",
   "execution_count": 38,
   "metadata": {},
   "outputs": [
    {
     "name": "stdout",
     "output_type": "stream",
     "text": [
      "Overwriting process.py\n"
     ]
    }
   ],
   "source": [
    "%%file process.py\n",
    "\n",
    "import json\n",
    "import sys\n",
    "import re\n",
    "\n",
    "\n",
    "result = json.load(sys.stdin)\n",
    "atoms = result['Call'][0]['Witnesses'][0]['Value']\n",
    "\n",
    "items = []\n",
    "modulus = 0\n",
    "coef = 0\n",
    "exponent = 0\n",
    "\n",
    "for a in atoms:\n",
    "    match = re.match('item\\(([0-9]*)\\)', a)\n",
    "    if match:\n",
    "        items += [int(match.group(1))]\n",
    "    \n",
    "    match = re.match('mod\\(([0-9]*)\\)', a)\n",
    "    if match:\n",
    "        modulus = int(match.group(1))\n",
    "\n",
    "    match = re.match('exp\\(([0-9]*)\\)', a)\n",
    "    if match:\n",
    "        exponent = int(match.group(1))\n",
    "        \n",
    "    match = re.match('coef\\(([0-9]*)\\)', a)\n",
    "    if match:\n",
    "        coef = int(match.group(1))\n",
    "\n",
    "        \n",
    "table = [(item*coef**exponent%modulus, item) for item in items]\n",
    "table.sort()\n",
    "\n",
    "print \"Hash function: %dx^%d mod %d\" %(coef,exponent,modulus)\n",
    "\n",
    "print \"%7s %7s\" % (\"hash\", \"item\")\n",
    "for item in table:\n",
    "    print \"%7d %7d\" % item"
   ]
  },
  {
   "cell_type": "code",
   "execution_count": 69,
   "metadata": {
    "scrolled": true
   },
   "outputs": [
    {
     "name": "stdout",
     "output_type": "stream",
     "text": [
      "Hash function: 49x^1 mod 36\r\n",
      "   hash    item\r\n",
      "      3       3\r\n",
      "      4     100\r\n",
      "      6       6\r\n",
      "      7      67\r\n",
      "      9       9\r\n",
      "     10   34234\r\n",
      "     11      23\r\n",
      "     13       1\r\n",
      "     15     123\r\n",
      "     16       4\r\n",
      "     19       7\r\n",
      "     22      10\r\n",
      "     26       2\r\n",
      "     29       5\r\n",
      "     31      55\r\n",
      "     32       8\r\n",
      "     35   23123\r\n"
     ]
    }
   ],
   "source": [
    "!clingo items.lp perfect.lp minimal.lp -t 8 --outf=2 --quiet=1 2>/dev/null | python2 process.py"
   ]
  },
  {
   "cell_type": "code",
   "execution_count": 12,
   "metadata": {
    "scrolled": true
   },
   "outputs": [
    {
     "name": "stdout",
     "output_type": "stream",
     "text": [
      "Overwriting gen.py\n"
     ]
    }
   ],
   "source": [
    "%%file gen.py\n",
    "import random\n",
    "\n",
    "seen = {}\n",
    "i = 0\n",
    "while i < 5:\n",
    "    x = random.randint(10,100)\n",
    "    if x not in seen:\n",
    "        print \"item(%d).\" % (x)\n",
    "        seen[x] = 1\n",
    "        i+=1"
   ]
  },
  {
   "cell_type": "code",
   "execution_count": 154,
   "metadata": {
    "scrolled": false
   },
   "outputs": [
    {
     "name": "stdout",
     "output_type": "stream",
     "text": [
      "Hash function: 55x mod 57\r\n",
      "   hash    item\r\n",
      "     25      16\r\n",
      "     38      38\r\n",
      "     44     149\r\n",
      "     45     291\r\n",
      "     49     631\r\n"
     ]
    }
   ],
   "source": [
    "!python2 gen.py > gen.lp; clingo gen.lp perfect.lp minimal.lp ordered.lp quiet.lp --outf=2 --quiet=1 2>/dev/null | python2 process.py"
   ]
  },
  {
   "cell_type": "code",
   "execution_count": 67,
   "metadata": {},
   "outputs": [
    {
     "name": "stdout",
     "output_type": "stream",
     "text": [
      "Hash function: 24x^1 mod 11\r\n",
      "   hash    item\r\n",
      "      3      62\r\n",
      "      4      90\r\n",
      "      5      96\r\n",
      "      6      91\r\n",
      "      8      81\r\n"
     ]
    }
   ],
   "source": [
    "!python2 gen.py > gen.lp; clingo gen.lp perfect.lp minimal.lp -t 8 --outf=2 --quiet=1 2>/dev/null | python2 process.py"
   ]
  },
  {
   "cell_type": "code",
   "execution_count": null,
   "metadata": {
    "collapsed": true
   },
   "outputs": [],
   "source": []
  }
 ],
 "metadata": {
  "kernelspec": {
   "display_name": "Python 2",
   "language": "python2",
   "name": "python2"
  },
  "language_info": {
   "codemirror_mode": {
    "name": "ipython",
    "version": 2
   },
   "file_extension": ".py",
   "mimetype": "text/x-python",
   "name": "python",
   "nbconvert_exporter": "python",
   "pygments_lexer": "ipython2",
   "version": "2.7.13"
  }
 },
 "nbformat": 4,
 "nbformat_minor": 2
}
