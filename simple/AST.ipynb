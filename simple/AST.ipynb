{
 "cells": [
  {
   "cell_type": "markdown",
   "metadata": {},
   "source": [
    "# Circuit Generation\n",
    "\n",
    "the below python script builds an arbitrarily large multiplier using yosys and a verilog design"
   ]
  },
  {
   "cell_type": "code",
   "execution_count": 24,
   "metadata": {},
   "outputs": [
    {
     "name": "stdout",
     "output_type": "stream",
     "text": [
      "Overwriting circuit-gen.py\n"
     ]
    }
   ],
   "source": [
    "%%file circuit-gen.py\n",
    "import sys, subprocess, json, os\n",
    "try:\n",
    "    width = int(sys.argv[1])\n",
    "except:\n",
    "    print 'usage: python circuit-gen.py port-width'\n",
    "    exit()\n",
    "    \n",
    "verilog_src = \\\n",
    "\"\"\"\n",
    "module multiplier(a, b, out);\n",
    "    parameter WIDTH = {};\n",
    "    input [WIDTH-1:0] a;\n",
    "    input [WIDTH-1:0] b; \n",
    "    output [WIDTH-1:0] out;\n",
    "    \n",
    "    assign out = a * b;\n",
    "endmodule\n",
    "\"\"\".format(width)\n",
    "\n",
    "yosys_cmd = \\\n",
    "\"\"\"\n",
    "yosys \\\n",
    "-p \"synth; abc -liberty mycells.lib; clean; write_json tmp.json\" \\\n",
    "-QT -f verilog tmp.v\n",
    "\"\"\"\n",
    "\n",
    "outfile = open('tmp.v','w')\n",
    "outfile.write(verilog_src)\n",
    "outfile.close()\n",
    "\n",
    "FNULL = open(os.devnull, 'w')\n",
    "subprocess.call(yosys_cmd,shell=True,stdout=FNULL)\n",
    "\n",
    "modules = json.load(open('tmp.json'))['modules']\n",
    "outfile = open('multiplier.lp','w')\n",
    "for m in modules:\n",
    "    outfile.write('device({}).\\n'.format(m))\n",
    "    dev = modules[m]\n",
    "    for p in dev['ports']:\n",
    "        port = dev['ports'][p]\n",
    "        outfile.write('device_port_direction({},{},{}).\\n'.format(m,p,port['direction']))\n",
    "        outfile.write('device_port_width({},{},{}).\\n'.format(m,p,len(port['bits'])))\n",
    "        for i,b in enumerate(port['bits']):\n",
    "            outfile.write('device_port_bit_wire({},{},{},{}).\\n'.format(m,p,i,b))\n",
    "    for c in dev['cells'].values():\n",
    "        con = c['connections']\n",
    "        if c['type'] == 'AND':\n",
    "            outfile.write('device_gate({},and_gate,({}, {}, {})).\\n'.format(m,con['A'][0],con['B'][0],con['Y'][0]))\n",
    "        if c['type'] == 'OR':\n",
    "            outfile.write('device_gate({},or_gate,({}, {}, {})).\\n'.format(m,con['A'][0],con['B'][0],con['Y'][0]))\n",
    "        if c['type'] == 'NOT':\n",
    "            outfile.write('device_gate({},not_gate,({}, {})).\\n'.format(m,con['A'][0],con['Y'][0])) \n",
    "outfile.close()\n",
    "os.remove('tmp.v')\n",
    "os.remove('tmp.json')"
   ]
  },
  {
   "cell_type": "code",
   "execution_count": 25,
   "metadata": {},
   "outputs": [
    {
     "name": "stdout",
     "output_type": "stream",
     "text": [
      "    6159 multiplier.lp\r\n"
     ]
    }
   ],
   "source": [
    "!python2 circuit-gen.py 32\n",
    "!wc -l multiplier.lp"
   ]
  },
  {
   "cell_type": "code",
   "execution_count": 1,
   "metadata": {},
   "outputs": [
    {
     "name": "stdout",
     "output_type": "stream",
     "text": [
      "Overwriting ast.lp\n"
     ]
    }
   ],
   "source": [
    "%%file ast.lp\n",
    "\n",
    "#const corange = 100.\n",
    "bit(0;1).\n",
    "%constant(1..corange).\n",
    "%input(1..5).\n",
    "\n",
    "#const bits=4.\n",
    "\n",
    "bit_index(0..bits-1).\n",
    "\n",
    "\n",
    "input(X) :- key(X).\n",
    "input(X) :- constant(X).\n",
    "\n",
    "\n",
    "id(0..10).\n",
    "\n",
    " \n",
    "rooted(0).\n",
    "rooted(B) :- rooted(A), edge(A,B).\n",
    ":- node(B), not rooted(B).\n",
    "\n",
    "\n",
    "\n",
    "%%% Each edge has 0-2 children and is connected to the root\n",
    "%%% Childen have greater ids than their parents\n",
    "0 { edge(A,B):id(B),B>A} 2 :- rooted(A).\n",
    "\n",
    "%%% Children cant have multiple parents\n",
    "%%% It might actually be useful to allow this, so not really an AST anymore\n",
    "%%% :- id(I), not 0 #sum{1,P:edge(P,I)} 1.\n",
    "          \n",
    "%%% TODO:\n",
    "% All subdags contain at least one key item if the head of the tree is an operation\n",
    "%%%\n",
    "\n",
    "    \n",
    "node(I) :- rooted(I).\n",
    "binary(I) :- node(I), 2{edge(I,C)}2.\n",
    "unary(I) :- node(I), 1{edge(I,C)}1.\n",
    "leaf(I) :- node(I), 0{edge(I,C)}0.\n",
    "      \n",
    "bin_op(xor;and).\n",
    "un_op(neg).\n",
    "null_op(const;key).\n",
    "\n",
    "type(T) :- bin_op(T).\n",
    "type(T) :- un_op(T).\n",
    "type(T) :- null_op(T).\n",
    "    \n",
    "%%%Choose one operation for each node\n",
    "1{op(I, T):bin_op(T)}1 :- binary(I).\n",
    "1{op(I, T):un_op(T)}1 :- unary(I).\n",
    "1{op(I, T):null_op(T)}1 :- leaf(I).\n",
    "    \n",
    "\n",
    "%%%Create constants\n",
    "1 {const_bit(I,B,0..1)} 1 :- op(I,const),bit_index(B).\n",
    "\n",
    "%side(left;right).\n",
    "    \n",
    "%eval(and,)\n",
    "\n",
    "%%%Evaluate the tree, (Key, Id, Bit, Value)\n",
    "\n",
    "\n",
    "%val(K,I,V1-V2) :- op(I,sub),edge(I,I1),edge(I,I2),I1 < I2, val(K,I1,V1), val(K,I1,V2).\n",
    "%val(K,I,V1\\V2) :- V2!=0, op(I,mod),edge(I,I1),edge(I,I2),I1 < I2, val(K,I1,V1), val(K,I1,V2).\n",
    "%val(K,I,0) :- V2=0, op(I,mod),edge(I,I1),edge(I,I2),I1 < I2, val(K,I1,V1), val(K,I1,V2).\n",
    "\n",
    "val_bit(K,I,B,V1&V2) :- op(I,and),edge(I,I1),edge(I,I2),I1 < I2, val(K,I1,B,V1), val(K,I1,B,V2).\n",
    "val_bit(K,I,B,V1^V2) :- op(I,xor),edge(I,I1),edge(I,I2),I1 < I2, val(K,I1,B,V1), val(K,I1,B,V2).\n",
    "val_bit(K,I,B,1-V1) :- op(I,neg),edge(I,I1),val(K,I1,B,V1).\n",
    "val_bit(K,I,B,V) :- key(K), op(I,const), const_bit(I,B,V).\n",
    "val_bit(K,I,B,V) :- key_bit(K,B,V), op(I,key).\n",
    "\n",
    "hash(K,B,V) :- val(K,0,B,V).\n",
    "\n",
    "%occupied(B,V) :- hash(K,B,V).\n",
    "%collision :- occupied(V), 2 {hash(K,V)}.\n",
    "\n",
    "%\n",
    "    \n",
    "%%%collision :- key(K1), key(K2), K1!=K2, hash(K1,V), hash(K2,V).\n",
    "    \n",
    "%%% Maybe we can use a custom theory progagator for to ignore quagratic cost here\n",
    "collision(K1,K2) :- \n",
    "    key(K1), \n",
    "    key(K2), \n",
    "    K1 < K2, \n",
    "    0 = #sum {V*2**B,v1:hash(K1,B,V); -V*2**B,v2:hash(K2,B,V)}.\n",
    ":- collision(K1,K2).\n",
    "    \n",
    "%:- hash(K,V), V >100.\n",
    "%:- hash(K,V), V < 0.\n",
    "    \n",
    "%#minimize{V:node(V)}.\n",
    "    \n",
    "%%% Visualization rules\n",
    "\n",
    "%#show children(I,N) : node(I), N = #count{C:edge(I,C)}.\n",
    "%#show op_count(I, X) : node(I), X = #count{T:op(I,T),type(T)}.\n",
    "    \n",
    "#show hash/2.\n",
    "#show key/1.\n",
    "#show edge/2.\n",
    "#show op/2.\n",
    "%#show edge/1.\n",
    "%#show op/3.\n",
    "%#show cnt/2.\n",
    "%#show children/2."
   ]
  },
  {
   "cell_type": "markdown",
   "metadata": {},
   "source": [
    "I guess the above would make the basic structure of the AST, but still need some way assign values to the leaf nodes and allow those to be evaluated. No obivous way how to do that."
   ]
  },
  {
   "cell_type": "code",
   "execution_count": 2,
   "metadata": {},
   "outputs": [
    {
     "name": "stdout",
     "output_type": "stream",
     "text": [
      "Writing keys.lp\n"
     ]
    }
   ],
   "source": [
    "%%file keys.lp\n",
    "\n",
    "\n",
    "\n",
    "key(0..10).\n",
    "%key(56).\n",
    "%key(342).\n",
    "%key(33).\n",
    "\n",
    "#script (python)\n",
    "def bit_values(k,n):\n",
    "    k = k.number\n",
    "    n = n.number\n",
    "    results = []\n",
    "    for i in range(n):\n",
    "        b = i\n",
    "        v = 1 if (1<<i)&k else 0\n",
    "        results.append((b,v))\n",
    "    return results\n",
    "#end.\n",
    "\n",
    "key_bit(I,B,V) :- key(I), (B,V)=@bit_values(I,bits)."
   ]
  },
  {
   "cell_type": "code",
   "execution_count": 3,
   "metadata": {},
   "outputs": [
    {
     "name": "stdout",
     "output_type": "stream",
     "text": [
      "clingo version 5.2.0\r\n",
      "Reading from keys.lp\r\n",
      "keys.lp:9:1-19:6: error: python support not available\r\n",
      "\r\n",
      "*** ERROR: (clingo): fatal error\r\n",
      "UNKNOWN\r\n",
      "\r\n",
      "Models       : 0+\r\n",
      "Calls        : 1\r\n",
      "Time         : 0.005s (Solving: 0.00s 1st Model: 0.00s Unsat: 0.00s)\r\n",
      "CPU Time     : 0.002s\r\n"
     ]
    }
   ],
   "source": [
    "!clingo keys.lp"
   ]
  },
  {
   "cell_type": "code",
   "execution_count": 4,
   "metadata": {
    "scrolled": true
   },
   "outputs": [
    {
     "name": "stdout",
     "output_type": "stream",
     "text": [
      "clingo version 5.2.0\r\n",
      "Reading from ast.lp ...\r\n",
      "keys.lp:9:1-19:6: error: python support not available\r\n",
      "\r\n",
      "*** ERROR: (clingo): fatal error\r\n",
      "UNKNOWN\r\n",
      "\r\n",
      "Models       : 0+\r\n",
      "Calls        : 1\r\n",
      "Time         : 0.001s (Solving: 0.00s 1st Model: 0.00s Unsat: 0.00s)\r\n",
      "CPU Time     : 0.001s\r\n"
     ]
    }
   ],
   "source": [
    "!clingo ast.lp keys.lp 2"
   ]
  },
  {
   "cell_type": "code",
   "execution_count": null,
   "metadata": {
    "collapsed": true
   },
   "outputs": [],
   "source": []
  },
  {
   "cell_type": "markdown",
   "metadata": {},
   "source": [
    "# Everything below is garbage"
   ]
  },
  {
   "cell_type": "code",
   "execution_count": null,
   "metadata": {
    "collapsed": true
   },
   "outputs": [],
   "source": []
  },
  {
   "cell_type": "code",
   "execution_count": 5,
   "metadata": {
    "scrolled": true
   },
   "outputs": [
    {
     "name": "stdout",
     "output_type": "stream",
     "text": [
      "clingo version 5.2.0\n",
      "Reading from items.lp ...\n",
      "Solving...\n",
      "Answer: 1\n",
      "item(123) item(23) item(55) item(67) item(100) item(34234) item(23123) item(1) item(2) item(3) item(4) item(5) item(6) item(7) item(8) item(9) item(10) coef(79) mod(83)\n",
      "SATISFIABLE\n",
      "\n",
      "Models       : 1+\n",
      "Calls        : 1\n",
      "Time         : 0.512s (Solving: 0.00s 1st Model: 0.00s Unsat: 0.00s)\n",
      "CPU Time     : 0.501s\n"
     ]
    }
   ],
   "source": [
    "!clingo items.lp perfect.lp"
   ]
  },
  {
   "cell_type": "code",
   "execution_count": 6,
   "metadata": {},
   "outputs": [
    {
     "name": "stdout",
     "output_type": "stream",
     "text": [
      "Writing genhash.lp\n"
     ]
    }
   ],
   "source": [
    "%%file genhash.lp\n",
    "\n",
    "#const corange = 10.\n",
    "constant(1..corange).\n",
    "input(1..5).\n",
    "\n",
    "\n",
    "idrange(0..10).\n",
    "\n",
    "\n",
    "\n",
    "%%% piece(id,child_id_1,child_id_2).\n",
    "2 {piece(A,B,C):idrange(A),idrange(B),idrange(C)}.\n",
    "\n",
    "%%% At most one piece per id\n",
    ":- idrange(A), not 0 #sum{1,B,C:piece(A,B,C)} 1.\n",
    "        \n",
    "%%% Piece appears at most once as a child\n",
    ":- idrange(P), not 0 #sum{1,A,C,left:piece(A,P,C); 1,A,B,right:piece(A,B,P)} 1.\n",
    "    \n",
    "%%% Piece can not be its own child\n",
    ":- idrange(P), piece(P,P,_).\n",
    ":- idrange(P), piece(P,_,P).\n",
    "    \n",
    "%%% If a piece appears as a child, it exists\n",
    "%TODO\n",
    "    \n",
    "\n",
    "    \n",
    "%:- idrange(B), not 0 #sum{1,A,C:piece(A,B,C)} 1.\n",
    "%:- idrange(C), not 0 #sum{1,A,B:piece(A,B,C)} 1.\n",
    "\n",
    "%cnt(X, A) :- idrange(A), X = #sum{1,B,C:piece(A,B,C)}.\n",
    "    \n",
    "    "
   ]
  },
  {
   "cell_type": "code",
   "execution_count": 7,
   "metadata": {},
   "outputs": [
    {
     "name": "stdout",
     "output_type": "stream",
     "text": [
      "Overwriting perfect.lp\n"
     ]
    }
   ],
   "source": [
    "%%file perfect.lp\n",
    "\n",
    "%%% Attempts to perfectly hash keys given as item(number)\n",
    "\n",
    "#const corange = 10.\n",
    "constant(1..corange).\n",
    "    \n",
    "%%%operation(type, item, in1, in2, output)\n",
    "operation(xor, I, A, B, A^B) :- item(I), output(I,A), output(I,B).       \n",
    "operation(and, I, A, B, A&B) :- item(I), output(I,A), output(I,B). \n",
    "operation(or , I, A, B, A?B) :- item(I), output(I,A), output(I,B). \n",
    "    \n",
    "\n",
    "hash(I,X) :- item(I), input(I,V1), input(I,V2), operation(T,I,V1,V2,X).\n",
    "    \n",
    "    \n",
    "output(I,I) :- item(I).\n",
    "output(I,X) :- item(I), constant(X).\n",
    "output(I,X) :- item(I), output(I,V1), output(I,V2), operation(T,I,V1,V2,X).\n",
    "    \n",
    "    \n",
    ":- item(A), item(B), A != B, hash(A,X), hash(B,X). \n",
    "    \n",
    "    \n",
    "    \n",
    "%%% input constant or item\n",
    "input(I) :- item(I).\n",
    "input(I) :- constant(I).\n",
    "    \n",
    "    \n",
    "%:- item(A), item(B), operation(T,ID,) \n",
    "    \n",
    "    \n",
    "%%output(I,X) :- input(I), operation(T, )\n",
    "    \n",
    "\n",
    "\n"
   ]
  },
  {
   "cell_type": "code",
   "execution_count": 8,
   "metadata": {},
   "outputs": [
    {
     "name": "stdout",
     "output_type": "stream",
     "text": [
      "Overwriting minimal.lp\n"
     ]
    }
   ],
   "source": [
    "%%file minimal.lp\n",
    "\n",
    "%%% Minimize the range of hashed values\n",
    "maxhash(X) :- coef(A), mod(M), exp(E), X = #max{ @axbmodc(A,I,E,M):item(I) }.\n",
    "minhash(X) :- coef(A), mod(M), exp(E), X = #min{ @axbmodc(A,I,E,M):item(I) }.\n",
    "diff(X) :- maxhash(A), minhash(B), X = A-B.\n",
    "#minimize{ X:diff(X) }."
   ]
  },
  {
   "cell_type": "code",
   "execution_count": 9,
   "metadata": {},
   "outputs": [
    {
     "name": "stdout",
     "output_type": "stream",
     "text": [
      "Overwriting ordered.lp\n"
     ]
    }
   ],
   "source": [
    "%%file ordered.lp\n",
    "\n",
    "%%% Reject if items are out of order when hashed\n",
    ":- item(I1), item(I2), I1 < I2, coef(A), mod(M),  A*I1\\M > A*I2\\M.\n",
    ":- #true."
   ]
  },
  {
   "cell_type": "code",
   "execution_count": 10,
   "metadata": {
    "scrolled": false
   },
   "outputs": [
    {
     "name": "stdout",
     "output_type": "stream",
     "text": [
      "clingo version 5.2.0\r\n",
      "Reading from genhash.lp\r\n",
      "Solving...\r\n",
      "Answer: 1\r\n",
      "constant(1) constant(2) constant(3) constant(4) constant(5) constant(6) constant(7) constant(8) constant(9) constant(10) input(1) input(2) input(3) input(4) input(5) idrange(0) idrange(1) idrange(2) idrange(3) idrange(4) idrange(5) idrange(6) idrange(7) idrange(8) idrange(9) idrange(10) piece(0,1,2) piece(2,0,3)\r\n",
      "SATISFIABLE\r\n",
      "\r\n",
      "Models       : 1+\r\n",
      "Calls        : 1\r\n",
      "Time         : 0.026s (Solving: 0.00s 1st Model: 0.00s Unsat: 0.00s)\r\n",
      "CPU Time     : 0.025s\r\n"
     ]
    }
   ],
   "source": [
    "!clingo genhash.lp"
   ]
  },
  {
   "cell_type": "code",
   "execution_count": 11,
   "metadata": {},
   "outputs": [
    {
     "name": "stdout",
     "output_type": "stream",
     "text": [
      "Overwriting process.py\n"
     ]
    }
   ],
   "source": [
    "%%file process.py\n",
    "\n",
    "import json\n",
    "import sys\n",
    "import re\n",
    "\n",
    "\n",
    "result = json.load(sys.stdin)\n",
    "atoms = result['Call'][0]['Witnesses'][0]['Value']\n",
    "\n",
    "items = []\n",
    "modulus = 0\n",
    "coef = 0\n",
    "exponent = 0\n",
    "\n",
    "for a in atoms:\n",
    "    match = re.match('item\\(([0-9]*)\\)', a)\n",
    "    if match:\n",
    "        items += [int(match.group(1))]\n",
    "    \n",
    "    match = re.match('mod\\(([0-9]*)\\)', a)\n",
    "    if match:\n",
    "        modulus = int(match.group(1))\n",
    "\n",
    "    match = re.match('exp\\(([0-9]*)\\)', a)\n",
    "    if match:\n",
    "        exponent = int(match.group(1))\n",
    "        \n",
    "    match = re.match('coef\\(([0-9]*)\\)', a)\n",
    "    if match:\n",
    "        coef = int(match.group(1))\n",
    "\n",
    "        \n",
    "table = [(item*coef**exponent%modulus, item) for item in items]\n",
    "table.sort()\n",
    "\n",
    "print \"Hash function: %dx^%d mod %d\" %(coef,exponent,modulus)\n",
    "\n",
    "print \"%7s %7s\" % (\"hash\", \"item\")\n",
    "for item in table:\n",
    "    print \"%7d %7d\" % item"
   ]
  },
  {
   "cell_type": "code",
   "execution_count": 12,
   "metadata": {
    "scrolled": true
   },
   "outputs": [
    {
     "name": "stdout",
     "output_type": "stream",
     "text": [
      "Traceback (most recent call last):\r\n",
      "  File \"process.py\", line 33, in <module>\r\n",
      "    table = [(item*coef**exponent%modulus, item) for item in items]\r\n",
      "ZeroDivisionError: integer division or modulo by zero\r\n"
     ]
    }
   ],
   "source": [
    "!clingo items.lp perfect.lp minimal.lp -t 8 --outf=2 --quiet=1 2>/dev/null | python2 process.py"
   ]
  },
  {
   "cell_type": "code",
   "execution_count": 13,
   "metadata": {
    "scrolled": true
   },
   "outputs": [
    {
     "name": "stdout",
     "output_type": "stream",
     "text": [
      "Overwriting gen.py\n"
     ]
    }
   ],
   "source": [
    "%%file gen.py\n",
    "import random\n",
    "\n",
    "seen = {}\n",
    "i = 0\n",
    "while i < 5:\n",
    "    x = random.randint(10,100)\n",
    "    if x not in seen:\n",
    "        print \"item(%d).\" % (x)\n",
    "        seen[x] = 1\n",
    "        i+=1"
   ]
  },
  {
   "cell_type": "code",
   "execution_count": 14,
   "metadata": {
    "scrolled": false
   },
   "outputs": [
    {
     "name": "stdout",
     "output_type": "stream",
     "text": [
      "Traceback (most recent call last):\r\n",
      "  File \"process.py\", line 8, in <module>\r\n",
      "    atoms = result['Call'][0]['Witnesses'][0]['Value']\r\n",
      "KeyError: 'Witnesses'\r\n"
     ]
    }
   ],
   "source": [
    "!python2 gen.py > gen.lp; clingo gen.lp perfect.lp minimal.lp ordered.lp quiet.lp --outf=2 --quiet=1 2>/dev/null | python2 process.py"
   ]
  },
  {
   "cell_type": "code",
   "execution_count": 15,
   "metadata": {},
   "outputs": [
    {
     "name": "stdout",
     "output_type": "stream",
     "text": [
      "Traceback (most recent call last):\r\n",
      "  File \"process.py\", line 33, in <module>\r\n",
      "    table = [(item*coef**exponent%modulus, item) for item in items]\r\n",
      "ZeroDivisionError: integer division or modulo by zero\r\n"
     ]
    }
   ],
   "source": [
    "!python2 gen.py > gen.lp; clingo gen.lp perfect.lp minimal.lp -t 8 --outf=2 --quiet=1 2>/dev/null | python2 process.py"
   ]
  },
  {
   "cell_type": "code",
   "execution_count": null,
   "metadata": {
    "collapsed": true
   },
   "outputs": [],
   "source": []
  }
 ],
 "metadata": {
  "kernelspec": {
   "display_name": "Python 2",
   "language": "python",
   "name": "python2"
  },
  "language_info": {
   "codemirror_mode": {
    "name": "ipython",
    "version": 2
   },
   "file_extension": ".py",
   "mimetype": "text/x-python",
   "name": "python",
   "nbconvert_exporter": "python",
   "pygments_lexer": "ipython2",
   "version": "2.7.13"
  }
 },
 "nbformat": 4,
 "nbformat_minor": 2
}
