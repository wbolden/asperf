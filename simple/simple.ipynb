{
 "cells": [
  {
   "cell_type": "code",
   "execution_count": 21,
   "metadata": {},
   "outputs": [
    {
     "name": "stdout",
     "output_type": "stream",
     "text": [
      "Overwriting perfect.lp\n"
     ]
    }
   ],
   "source": [
    "%%file perfect.lp\n",
    "\n",
    "%%% Attempts to perfectly hash keys given as item(number)\n",
    "\n",
    "#const mod_range = 100.\n",
    "#const coef_range = 100.\n",
    "\n",
    "%%% Choose a modulus and coefficient\n",
    "1 {mod(1..mod_range)} 1.\n",
    "1 {coef(1..coef_range)} 1.\n",
    "\n",
    "%%% Reject collisions\n",
    ":- coef(A), mod(M), item(I1), item(I2),  I1 != I2,  A*I1\\M = A*I2\\M."
   ]
  },
  {
   "cell_type": "code",
   "execution_count": 3,
   "metadata": {},
   "outputs": [
    {
     "name": "stdout",
     "output_type": "stream",
     "text": [
      "Overwriting minimal.lp\n"
     ]
    }
   ],
   "source": [
    "%%file minimal.lp\n",
    "\n",
    "%%% Minimize the range of hashed values\n",
    "maxhash(X) :- coef(A), mod(M), X = #max{ A*I\\M:item(I) }.\n",
    "minhash(X) :- coef(A), mod(M), X = #min{ A*I\\M:item(I) }.\n",
    "diff(X) :- maxhash(A), minhash(B), X = A-B.\n",
    "#minimize{ X:diff(X) }."
   ]
  },
  {
   "cell_type": "code",
   "execution_count": 4,
   "metadata": {},
   "outputs": [
    {
     "name": "stdout",
     "output_type": "stream",
     "text": [
      "Overwriting ordered.lp\n"
     ]
    }
   ],
   "source": [
    "%%file ordered.lp\n",
    "\n",
    "%%% Reject if items are out of order when hashed\n",
    ":- item(I1), item(I2), I1 < I2, coef(A), mod(M),  A*I1\\M > A*I2\\M."
   ]
  },
  {
   "cell_type": "code",
   "execution_count": 8,
   "metadata": {},
   "outputs": [
    {
     "name": "stdout",
     "output_type": "stream",
     "text": [
      "Overwriting process.py\n"
     ]
    }
   ],
   "source": [
    "%%file process.py\n",
    "\n",
    "import json\n",
    "import sys\n",
    "import re\n",
    "\n",
    "\n",
    "result = json.load(sys.stdin)\n",
    "atoms = result['Call'][0]['Witnesses'][0]['Value']\n",
    "\n",
    "items = []\n",
    "modulus = 0\n",
    "coef = 0\n",
    "\n",
    "for a in atoms:\n",
    "    match = re.match('item\\(([0-9]*)\\)', a)\n",
    "    if match:\n",
    "        items += [int(match.group(1))]\n",
    "    \n",
    "    match = re.match('mod\\(([0-9]*)\\)', a)\n",
    "    if match:\n",
    "        modulus = int(match.group(1))\n",
    "        \n",
    "    match = re.match('coef\\(([0-9]*)\\)', a)\n",
    "    if match:\n",
    "        coef = int(match.group(1))\n",
    "\n",
    "        \n",
    "table = [(item*coef%modulus, item) for item in items]\n",
    "table.sort()\n",
    "\n",
    "print \"Hash function: %dx mod %d\" %(coef,modulus)\n",
    "\n",
    "print \"%7s %7s\" % (\"hash\", \"item\")\n",
    "for item in table:\n",
    "    print \"%7d %7d\" % item"
   ]
  },
  {
   "cell_type": "code",
   "execution_count": 22,
   "metadata": {
    "scrolled": false
   },
   "outputs": [
    {
     "name": "stdout",
     "output_type": "stream",
     "text": [
      "Hash function: 67x mod 36\r\n",
      "   hash    item\r\n",
      "      1       7\r\n",
      "      4     100\r\n",
      "      6       6\r\n",
      "     10   34234\r\n",
      "     11       5\r\n",
      "     13      55\r\n",
      "     16       4\r\n",
      "     17   23123\r\n",
      "     21       3\r\n",
      "     22      10\r\n",
      "     25      67\r\n",
      "     26       2\r\n",
      "     27       9\r\n",
      "     29      23\r\n",
      "     31       1\r\n",
      "     32       8\r\n",
      "     33     123\r\n"
     ]
    }
   ],
   "source": [
    "!clingo items.lp perfect.lp minimal.lp quiet.lp --outf=2 --quiet=1 2>/dev/null | python2 process.py"
   ]
  },
  {
   "cell_type": "code",
   "execution_count": 15,
   "metadata": {
    "scrolled": true
   },
   "outputs": [
    {
     "name": "stdout",
     "output_type": "stream",
     "text": [
      "Overwriting gen.py\n"
     ]
    }
   ],
   "source": [
    "%%file gen.py\n",
    "import random\n",
    "\n",
    "seen = {}\n",
    "for i in range(20):\n",
    "    x = random.randint(0,1000)\n",
    "    if x not in seen:\n",
    "        print \"item(%d).\" % (x)\n",
    "        seen[x] = 1\n",
    "    "
   ]
  },
  {
   "cell_type": "code",
   "execution_count": 154,
   "metadata": {
    "scrolled": false
   },
   "outputs": [
    {
     "name": "stdout",
     "output_type": "stream",
     "text": [
      "Hash function: 55x mod 57\r\n",
      "   hash    item\r\n",
      "     25      16\r\n",
      "     38      38\r\n",
      "     44     149\r\n",
      "     45     291\r\n",
      "     49     631\r\n"
     ]
    }
   ],
   "source": [
    "!python2 gen.py > gen.lp; clingo gen.lp perfect.lp minimal.lp ordered.lp quiet.lp --outf=2 --quiet=1 2>/dev/null | python2 process.py"
   ]
  },
  {
   "cell_type": "code",
   "execution_count": 23,
   "metadata": {
    "scrolled": true
   },
   "outputs": [
    {
     "name": "stdout",
     "output_type": "stream",
     "text": [
      "Hash function: 65x mod 82\r\n",
      "   hash    item\r\n",
      "     20     486\r\n",
      "     21     949\r\n",
      "     23     563\r\n",
      "     28     910\r\n",
      "     30     934\r\n",
      "     39     509\r\n",
      "     41     369\r\n",
      "     42     422\r\n",
      "     43     967\r\n",
      "     45     253\r\n",
      "     48     986\r\n",
      "     49      55\r\n",
      "     54     320\r\n",
      "     55     947\r\n",
      "     57     479\r\n",
      "     65     411\r\n",
      "     69     869\r\n",
      "     71     319\r\n",
      "     75     121\r\n",
      "     76     666\r\n"
     ]
    }
   ],
   "source": [
    "!python2 gen.py > gen.lp; clingo gen.lp perfect.lp minimal.lp quiet.lp --outf=2 --quiet=1 2>/dev/null | python2 process.py"
   ]
  },
  {
   "cell_type": "code",
   "execution_count": 19,
   "metadata": {},
   "outputs": [
    {
     "name": "stdout",
     "output_type": "stream",
     "text": [
      "clingo version 5.2.0\n",
      "Reading from gen.lp ...\n",
      "minimal.lp:3:42-43: info: global variable in tuple of aggregate element:\n",
      "  A\n",
      "\n",
      "minimal.lp:3:46-47: info: global variable in tuple of aggregate element:\n",
      "  M\n",
      "\n",
      "minimal.lp:4:42-43: info: global variable in tuple of aggregate element:\n",
      "  A\n",
      "\n",
      "minimal.lp:4:46-47: info: global variable in tuple of aggregate element:\n",
      "  M\n",
      "\n",
      "Solving...\n",
      "Answer: 1\n",
      "item(448) item(428) item(867) item(589) item(512) item(549) item(367) item(796) item(849) item(107) item(264) item(790) item(201) item(69) item(242) item(330) item(86) item(764) item(624) item(148) coef(180) maxhash(381) mod(389) minhash(3) diff(378)\n",
      "Optimization: 378\n",
      "Answer: 2\n",
      "item(448) item(428) item(867) item(589) item(512) item(549) item(367) item(796) item(849) item(107) item(264) item(790) item(201) item(69) item(242) item(330) item(86) item(764) item(624) item(148) coef(180) maxhash(337) mod(367) minhash(0) diff(337)\n",
      "Optimization: 337\n",
      "Answer: 3\n",
      "item(448) item(428) item(867) item(589) item(512) item(549) item(367) item(796) item(849) item(107) item(264) item(790) item(201) item(69) item(242) item(330) item(86) item(764) item(624) item(148) coef(360) maxhash(320) mod(331) minhash(15) diff(305)\n",
      "Optimization: 305\n",
      "Answer: 4\n",
      "item(448) item(428) item(867) item(589) item(512) item(549) item(367) item(796) item(849) item(107) item(264) item(790) item(201) item(69) item(242) item(330) item(86) item(764) item(624) item(148) coef(360) maxhash(246) mod(251) minhash(17) diff(229)\n",
      "Optimization: 229\n",
      "Answer: 5\n",
      "item(448) item(428) item(867) item(589) item(512) item(549) item(367) item(796) item(849) item(107) item(264) item(790) item(201) item(69) item(242) item(330) item(86) item(764) item(624) item(148) coef(360) maxhash(198) mod(211) minhash(7) diff(191)\n",
      "Optimization: 191\n",
      "Answer: 6\n",
      "item(448) item(428) item(867) item(589) item(512) item(549) item(367) item(796) item(849) item(107) item(264) item(790) item(201) item(69) item(242) item(330) item(86) item(764) item(624) item(148) coef(360) maxhash(134) mod(197) minhash(9) diff(125)\n",
      "Optimization: 125\n",
      "Answer: 7\n",
      "item(448) item(428) item(867) item(589) item(512) item(549) item(367) item(796) item(849) item(107) item(264) item(790) item(201) item(69) item(242) item(330) item(86) item(764) item(624) item(148) coef(300) mod(127) maxhash(126) minhash(2) diff(124)\n",
      "Optimization: 124\n",
      "Answer: 8\n",
      "item(448) item(428) item(867) item(589) item(512) item(549) item(367) item(796) item(849) item(107) item(264) item(790) item(201) item(69) item(242) item(330) item(86) item(764) item(624) item(148) coef(120) maxhash(117) mod(127) minhash(13) diff(104)\n",
      "Optimization: 104\n",
      "Answer: 9\n",
      "item(448) item(428) item(867) item(589) item(512) item(549) item(367) item(796) item(849) item(107) item(264) item(790) item(201) item(69) item(242) item(330) item(86) item(764) item(624) item(148) coef(270) maxhash(122) mod(127) minhash(21) diff(101)\n",
      "Optimization: 101\n",
      "Answer: 10\n",
      "item(448) item(428) item(867) item(589) item(512) item(549) item(367) item(796) item(849) item(107) item(264) item(790) item(201) item(69) item(242) item(330) item(86) item(764) item(624) item(148) coef(168) maxhash(53) mod(55) minhash(0) diff(53)\n",
      "Optimization: 53\n",
      "Answer: 11\n",
      "item(448) item(428) item(867) item(589) item(512) item(549) item(367) item(796) item(849) item(107) item(264) item(790) item(201) item(69) item(242) item(330) item(86) item(764) item(624) item(148) coef(370) maxhash(48) mod(51) minhash(0) diff(48)\n",
      "Optimization: 48\n",
      "Answer: 12\n",
      "item(448) item(428) item(867) item(589) item(512) item(549) item(367) item(796) item(849) item(107) item(264) item(790) item(201) item(69) item(242) item(330) item(86) item(764) item(624) item(148) coef(58) maxhash(44) mod(51) minhash(0) diff(44)\n",
      "Optimization: 44\n",
      "Answer: 13\n",
      "item(448) item(428) item(867) item(589) item(512) item(549) item(367) item(796) item(849) item(107) item(264) item(790) item(201) item(69) item(242) item(330) item(86) item(764) item(624) item(148) coef(79) maxhash(42) mod(55) minhash(0) diff(42)\n",
      "Optimization: 42\n",
      "Answer: 14\n",
      "item(448) item(428) item(867) item(589) item(512) item(549) item(367) item(796) item(849) item(107) item(264) item(790) item(201) item(69) item(242) item(330) item(86) item(764) item(624) item(148) coef(44) maxhash(40) mod(51) minhash(0) diff(40)\n",
      "Optimization: 40\n",
      "OPTIMUM FOUND\n",
      "\n",
      "Models       : 14\n",
      "  Optimum    : yes\n",
      "Optimization : 40\n",
      "Calls        : 1\n",
      "Time         : 42.059s (Solving: 31.20s 1st Model: 0.01s Unsat: 27.83s)\n",
      "CPU Time     : 42.050s\n"
     ]
    }
   ],
   "source": [
    "!clingo gen.lp perfect.lp minimal.lp"
   ]
  }
 ],
 "metadata": {
  "kernelspec": {
   "display_name": "Python 2",
   "language": "python2",
   "name": "python2"
  },
  "language_info": {
   "codemirror_mode": {
    "name": "ipython",
    "version": 2
   },
   "file_extension": ".py",
   "mimetype": "text/x-python",
   "name": "python",
   "nbconvert_exporter": "python",
   "pygments_lexer": "ipython2",
   "version": "2.7.13"
  }
 },
 "nbformat": 4,
 "nbformat_minor": 2
}
