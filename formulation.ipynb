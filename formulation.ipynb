{
 "cells": [
  {
   "cell_type": "markdown",
   "metadata": {},
   "source": [
    "# ASPerf: Perfect hasing with ASP\n"
   ]
  },
  {
   "cell_type": "code",
   "execution_count": 4,
   "metadata": {},
   "outputs": [
    {
     "name": "stdout",
     "output_type": "stream",
     "text": [
      "usage: asperf.py [-h] [--template TEMPLATE] [--yosys] [-b B] [-n N] [-p P]\r\n",
      "                 [keyfile]\r\n",
      "\r\n",
      "Generate a perfect hash function.\r\n",
      "\r\n",
      "positional arguments:\r\n",
      "  keyfile              a newline delimited array of keys to be hashed\r\n",
      "\r\n",
      "optional arguments:\r\n",
      "  -h, --help           show this help message and exit\r\n",
      "  --template TEMPLATE  a function template lp file for asperf to fill in\r\n",
      "  --yosys              generate a yosys circuit for additional operations\r\n",
      "  -b B                 number of bits per key\r\n",
      "  -n N                 number of operations\r\n",
      "  -p P                 parallel mode\r\n"
     ]
    }
   ],
   "source": [
    "!python2 asperf.py -h"
   ]
  },
  {
   "cell_type": "markdown",
   "metadata": {},
   "source": [
    "By default the utility uses a simplified hash function generator which is only allowed to use xor,and,not,and shr (mod n). Although this is powerful enough for many instances, problems such as the states hashing one which we are about to tackle prove very difficult to find good solutions for using these operations. In order to support more complex operations we updated the yosys code from P2 and used this to implement mod, mul, and sub of for arbitrary numbers of bits."
   ]
  },
  {
   "cell_type": "markdown",
   "metadata": {},
   "source": [
    "# Basic ASP formulation\n",
    "\n",
    "These basic rules define some global properties about the network and specify how to nondeterministically build it."
   ]
  },
  {
   "cell_type": "code",
   "execution_count": 8,
   "metadata": {},
   "outputs": [
    {
     "name": "stdout",
     "output_type": "stream",
     "text": [
      "\r\n",
      "bit(0;1).\r\n",
      "\r\n",
      "#const bits=16.\r\n",
      "#const nodes=5.\r\n",
      "\r\n",
      "bits(bits).\r\n",
      "\r\n",
      "bit_index(0..bits-1).\r\n",
      "\r\n",
      "id(0..nodes-1).\r\n",
      "\r\n",
      "rooted(0).\r\n",
      "rooted(B) :- rooted(A), edge(A,B).\r\n",
      "node(I) :- rooted(I)."
     ]
    }
   ],
   "source": [
    "!cat circuits/globals.lp"
   ]
  },
  {
   "cell_type": "code",
   "execution_count": 7,
   "metadata": {},
   "outputs": [
    {
     "name": "stdout",
     "output_type": "stream",
     "text": [
      "\r\n",
      "%%% Each node has 0-2 children and is connected to the root\r\n",
      "%%% Childen have greater ids than their parents\r\n",
      "0 {edge(A,B):id(B),B>A} 2 :- rooted(A).\r\n",
      "    \r\n",
      "%%%Choose one operation for each node\r\n",
      "\r\n",
      "1{op(I, T):bin_op(T)}1 :- binary(I).\r\n",
      "1{op(I, T):un_op(T)}1 :- unary(I).\r\n",
      "1{op(I, T):null_op(T)}1 :- leaf(I).\r\n",
      "    \r\n",
      "\r\n",
      "%%%Create constants\r\n",
      "1 {const_bit(I,B,0..1)} 1 :- op(I,const),bit_index(B).\r\n",
      "\r\n"
     ]
    }
   ],
   "source": [
    "!cat circuits/generate.lp"
   ]
  },
  {
   "cell_type": "markdown",
   "metadata": {},
   "source": [
    "# Verification and optimization\n",
    "\n",
    "Most of the verification and optimization code is in verify.lp, however we also include circuit_int.lp and circuit_lib.lp, which include the interpretation and representation code for yosys-generated circuits, respectively.\n",
    "\n",
    "Note also that the code for printing out the C functon is at the bottom of the verify.lp file and is called whenever a new model is generated."
   ]
  },
  {
   "cell_type": "code",
   "execution_count": 9,
   "metadata": {},
   "outputs": [
    {
     "name": "stdout",
     "output_type": "stream",
     "text": [
      "input_port(Port) :- device_port_direction(Device,Port,input,C).\r\n",
      "\r\n",
      "output_port(Port) :- device_port_direction(Device,Port,output,C).\r\n",
      "\r\n",
      "port_width(Port,Size) :-\r\n",
      "    device_port_width(Device,Port,Size).\r\n",
      "\r\n",
      "% Define all the gate rules\r\n",
      "signal(I,K,Device,Out,1-(1-V1)*(1-V2)) :-\r\n",
      "    op(I,Device),\r\n",
      "    device_gate(Device,or_gate,(In1,In2,Out)),\r\n",
      "    signal(I,K,Device,In1,V1); signal(I,K,Device,In2,V2).\r\n",
      "\r\n",
      "signal(I,K,Device,Out,V1*V2) :-\r\n",
      "    op(I,Device),\r\n",
      "    device_gate(Device,and_gate,(In1,In2,Out)),\r\n",
      "    signal(I,K,Device,In1,V1), signal(I,K,Device,In2,V2).\r\n",
      "\r\n",
      "signal(I,K,Device,Out,1-V1) :-\r\n",
      "    op(I,Device),\r\n",
      "    device_gate(Device,not_gate,(In,Out)),\r\n",
      "    signal(I,K,Device,In,V1).\r\n",
      "\r\n",
      "% get input signal\r\n",
      "signal(I,K,Device,Wire,Value) :-\r\n",
      "    op(I,Device),\r\n",
      "    input_signal(I,K,Port,Bit,Value),\r\n",
      "    device_port_bit_wire(Device,Port,Bit,Wire).\r\n",
      "\r\n",
      "% get output signal\r\n",
      "output_signal(I,K,Bit,Value) :-\r\n",
      "    signal(I,K,Device,Wire,Value),\r\n",
      "    output_port(Port),\r\n",
      "    device_port_bit_wire(Device,Port,Bit,Wire).\r\n",
      "\r\n",
      "output_signal(I,K,Bit,Value) :-\r\n",
      "    op(I,Device),\r\n",
      "    node(I),\r\n",
      "    key(K),\r\n",
      "    output_port(Port),\r\n",
      "    device_port_bit_literal(Device,Port,Bit,Value).   \r\n",
      "    "
     ]
    }
   ],
   "source": [
    "!cat circuits/circuit_int.lp"
   ]
  },
  {
   "cell_type": "code",
   "execution_count": 10,
   "metadata": {},
   "outputs": [
    {
     "name": "stdout",
     "output_type": "stream",
     "text": [
      "device(mul).\r\n",
      "device_port_direction(mul,mulin1,input,0).\r\n",
      "device_port_width(mul,mulin1,16).\r\n",
      "device_port_bit_wire(mul,mulin1,0,2).\r\n",
      "device_port_bit_wire(mul,mulin1,1,3).\r\n",
      "device_port_bit_wire(mul,mulin1,2,4).\r\n",
      "device_port_bit_wire(mul,mulin1,3,5).\r\n",
      "device_port_bit_wire(mul,mulin1,4,6).\r\n",
      "device_port_bit_wire(mul,mulin1,5,7).\r\n",
      "device_port_bit_wire(mul,mulin1,6,8).\r\n"
     ]
    }
   ],
   "source": [
    "!head circuits/circuit_lib.lp"
   ]
  },
  {
   "cell_type": "code",
   "execution_count": 11,
   "metadata": {
    "scrolled": false
   },
   "outputs": [
    {
     "name": "stdout",
     "output_type": "stream",
     "text": [
      "\r\n",
      "binary(I) :- node(I), 2{edge(I,C)}2.\r\n",
      "unary(I) :- node(I), 1{edge(I,C)}1.\r\n",
      "leaf(I) :- node(I), 0{edge(I,C)}0.\r\n",
      "      \r\n",
      "bin_op(xor;and;mod;mul).\r\n",
      "un_op(neg).\r\n",
      "null_op(const;key).\r\n",
      "\r\n",
      "type(T) :- bin_op(T).\r\n",
      "type(T) :- un_op(T).\r\n",
      "type(T) :- null_op(T).\r\n",
      "    \r\n",
      "%%%Evaluate the dag, (Key, Id, Bit, Value)\r\n",
      "%%% Basic operations (and,xor,neg,const,key)\r\n",
      "\r\n",
      "val_bit(K,I,B,V1&V2) :- \r\n",
      "    op(I,and),\r\n",
      "    edge(I,I1),\r\n",
      "    edge(I,I2),\r\n",
      "    I1 < I2, \r\n",
      "    val_bit(K,I1,B,V1), \r\n",
      "    val_bit(K,I2,B,V2).\r\n",
      "    \r\n",
      "val_bit(K,I,B,V1^V2) :- \r\n",
      "    op(I,xor),\r\n",
      "    edge(I,I1),\r\n",
      "    edge(I,I2),\r\n",
      "    I1 < I2, \r\n",
      "    val_bit(K,I1,B,V1), \r\n",
      "    val_bit(K,I2,B,V2).\r\n",
      "    \r\n",
      "val_bit(K,I,B,1-V1) :- \r\n",
      "    op(I,neg),\r\n",
      "    edge(I,I1),\r\n",
      "    val_bit(K,I1,B,V1).\r\n",
      "    \r\n",
      "val_bit(K,I,B,V) :- \r\n",
      "    key(K), \r\n",
      "    op(I,const), \r\n",
      "    const_bit(I,B,V).\r\n",
      "    \r\n",
      "val_bit(K,I,B,V) :- \r\n",
      "    key_bit(K,B,V), \r\n",
      "    op(I,key).\r\n",
      "    \r\n",
      "%%% Advanced operations (mul,shl,shr,mod,div,add,sub), need yosys circuits\r\n",
      "input_signal(I,K,P,B,V1) :- \r\n",
      "    op(I,D),\r\n",
      "    unary(D),\r\n",
      "    edge(I,I1),\r\n",
      "    val_bit(K,I1,B,V1),\r\n",
      "    device_port_direction(D,P,input,C).\r\n",
      "\r\n",
      "left_edge(I,I1) :- edge(I,I1), edge(I,I2), I1 < I2.\r\n",
      "    \r\n",
      "right_edge(I,I2) :- edge(I,I1), edge(I,I2), I1 < I2.\r\n",
      "    \r\n",
      "left_port(D,P1) :-\r\n",
      "    device_port_direction(D,P1,input,C1),\r\n",
      "    device_port_direction(D,P2,input,C2),\r\n",
      "    C1 < C2.\r\n",
      "\r\n",
      "right_port(D,P2) :-\r\n",
      "    device_port_direction(D,P1,input,C1),\r\n",
      "    device_port_direction(D,P2,input,C2),\r\n",
      "    C1 < C2.\r\n",
      "    \r\n",
      "input_signal(I,K,P,B,V) :-\r\n",
      "    op(I,D),\r\n",
      "    left_edge(I,I1),\r\n",
      "    left_port(D,P),\r\n",
      "    val_bit(K,I1,B,V).\r\n",
      "\r\n",
      "input_signal(I,K,P,B,V) :-\r\n",
      "    op(I,D),\r\n",
      "    right_edge(I,I2),\r\n",
      "    right_port(D,P),\r\n",
      "    val_bit(K,I2,B,V).\r\n",
      "    \r\n",
      "    \r\n",
      "val_bit(K,I,B,V) :- output_signal(I,K,B,V).\r\n",
      "    \r\n",
      "%%Cant mod 0\r\n",
      ":- right_edge(I,I1), op(I,mod), key(K), 0 #sum{V*2**B:val_bit(K,I1,B,V)} 0.\r\n",
      "\r\n",
      "% get hash bit from node 0\r\n",
      "hash_bit(K,B,V) :- val_bit(K,0,B,V).\r\n",
      "\r\n",
      "hash_bit_agree(K1,K2,B) :- K1 < K2, hash_bit(K1,B,V), hash_bit(K2,B,V).\r\n",
      "    \r\n",
      "%%% Maybe we can use a custom theory progagator to ignore quagratic cost here\r\n",
      "collision(K1,K2) :- \r\n",
      "    key(K1);\r\n",
      "    key(K2); \r\n",
      "    hash_bit_agree(K1,K2,B):B=0..bits-1.\r\n",
      "    %K1 < K2;\r\n",
      "    %0 = #sum {V*2**B,v1:hash_bit(K1,B,V); -V*2**B,v2:hash_bit(K2,B,V)}.\r\n",
      "    \r\n",
      ":- collision(K1,K2).\r\n",
      "    \r\n",
      "\r\n",
      "    \r\n",
      "%%%%%%%%%%%%%%%%%%%%%%%%%%%%%%%%%%%%%%%%%%%%%%%%%%%%\r\n",
      "    \r\n",
      "%%% Visualization rules\r\n",
      "#show edge/2.\r\n",
      "#show op/2.\r\n",
      "    \r\n",
      "1 { worst_key(K):key(K)} 1.\r\n",
      ":- worst_key(K1), key(K2), 1 #sum{ -V*2**B,k1:hash_bit(K1,B,V);  V*2**B,k2:hash_bit(K2,B,V)}.\r\n",
      "   \r\n",
      "    \r\n",
      "#minimize{ V*2**B@2,K:hash_bit(K,B,V),worst_key(K)}.\r\n",
      "#minimize{1@1,V:node(V)}.\r\n",
      "\r\n",
      "#script (python)\r\n",
      "def main(prg):\r\n",
      "    prg.ground([(\"base\",[])])\r\n",
      "    prg.solve(on_model=on_model)\r\n",
      "    \r\n",
      "import re\r\n",
      "from collections import defaultdict\r\n",
      "import networkx as nx \r\n",
      "import math\r\n",
      "\r\n",
      "def on_model(model):\r\n",
      "    hashes = defaultdict(int)\r\n",
      "    constants = defaultdict(int)\r\n",
      "    ops = {}\r\n",
      "    bits = 0\r\n",
      "    D = nx.DiGraph()\r\n",
      "\r\n",
      "    for s in model.symbols(atoms=True):\r\n",
      "        if s.name == \"hash_bit\":\r\n",
      "            hashes[s.arguments[0].number] += s.arguments[2].number*2**s.arguments[1].number\r\n",
      "        if s.name == \"const_bit\":\r\n",
      "            constants[s.arguments[0].number] += s.arguments[2].number*2**s.arguments[1].number\r\n",
      "        if s.name == \"edge\":\r\n",
      "            D.add_edge(s.arguments[0].number, s.arguments[1].number)\r\n",
      "        if s.name == \"op\":\r\n",
      "            ops[s.arguments[0].number] = s.arguments[1].name\r\n",
      "        if s.name == \"bits\":\r\n",
      "            bits = s.arguments[0].number\r\n",
      "\r\n",
      "    print(\"int phash(int key) {\")\r\n",
      "    for node in nx.topological_sort(D, reverse = True):\r\n",
      "        op = str(ops[node])\r\n",
      "        if op == \"key\":\r\n",
      "            print(\"    int i%s = key;\" % (node))\r\n",
      "        if op == \"const\":\r\n",
      "            print(\"    int i%s = %d;\" % (node, constants[node]))\r\n",
      "        if op == \"neg\":\r\n",
      "            innode = D.successors(node)[0]\r\n",
      "            mask = 2**bits-1\r\n",
      "            print(\"    int i%s = %d & ~i%s;\" % (node, mask, innode))\r\n",
      "        if op == \"and\":\r\n",
      "            succ = D.successors(node)\r\n",
      "            print(\"    int i%s = i%s & i%s;\" % (node, succ[0], succ[1]))\r\n",
      "        if op == \"xor\":\r\n",
      "            succ = D.successors(node)\r\n",
      "            print(\"    int i%s = i%s ^ i%s;\" % (node, succ[0], succ[1]))\r\n",
      "        if op == \"mod\":\r\n",
      "            succ = D.successors(node)\r\n",
      "            succ.sort()\r\n",
      "            print(\"    int i%s = i%s %s i%s;\" % (node, succ[0], \"%\", succ[1]))\r\n",
      "        if op == \"mul\":\r\n",
      "            succ = D.successors(node)\r\n",
      "            succ.sort()\r\n",
      "            mask = 2**bits-1\r\n",
      "            print(\"    int i%s = %s & (i%s * i%s);\" % (node, mask, succ[0], succ[1]))\r\n",
      "        if op == \"sub\":\r\n",
      "            succ = D.successors(node)\r\n",
      "            succ.sort()\r\n",
      "            mask = 2**bits-1\r\n",
      "            print(\"    int i%s = %s & (i%s - i%s);\" % (node, mask, succ[0], succ[1]))\r\n",
      "\r\n",
      "        if node == 0:\r\n",
      "            print(\"    return i0;\")\r\n",
      "\r\n",
      "\r\n",
      "\r\n",
      "    print(\"}\")\r\n",
      "    for pair in hashes.items():\r\n",
      "        print(\"hash(%d) = %d\" % pair)\r\n",
      "    #for pair in constants.items():\r\n",
      "    #    print(\"constant(%d) = %d\" % pair)\r\n",
      "\r\n",
      "#end."
     ]
    }
   ],
   "source": [
    "!cat circuits/verify.lp"
   ]
  },
  {
   "cell_type": "markdown",
   "metadata": {},
   "source": [
    "# Test instance: 50 states + 9 territories\n",
    "\n",
    "We found that some of the most difficult things for our program to hash were lists of numbers that were fairly clusterred together, but not clusterred together enough that they were anywhere near a perfect hash when just applying some offsets. We believe that this has to do with how many bits of the numbers need to be examined in order to disambiguate them when trying to fit them into a smaller range. \n",
    "\n",
    "This \"50 states\" instance is obtained by taking the two letter codes for each state (or territory) and concatenating their values together. For example CA = 43 41 (hex) = 17217 (dec) in the list below.\n",
    "\n",
    "This instance seems to have the clustering property described above, and is this difficult for our program to hash efficient. In the end, we obtain a range approximately 4 times the number of keys.\n"
   ]
  },
  {
   "cell_type": "code",
   "execution_count": 50,
   "metadata": {},
   "outputs": [
    {
     "name": "stdout",
     "output_type": "stream",
     "text": [
      "16715\r\n",
      "16716\r\n",
      "16722\r\n",
      "16723\r\n",
      "16730 \r\n",
      "17217 \r\n",
      "17231\r\n",
      "17236 \r\n",
      "17475\r\n",
      "17477 \r\n",
      "17996 \r\n",
      "17997 \r\n",
      "18241 \r\n",
      "18261 \r\n",
      "18505 \r\n",
      "18753\r\n",
      "18756 \r\n",
      "18764\r\n",
      "18766 \r\n",
      "19283 \r\n",
      "19289\r\n",
      "19521 \r\n",
      "19777\r\n",
      "19780 \r\n",
      "19781 \r\n",
      "19784 \r\n",
      "19785\r\n",
      "19790 \r\n",
      "19791 \r\n",
      "19792 \r\n",
      "19795\r\n",
      "19796\r\n",
      "20035 \r\n",
      "20036 \r\n",
      "20037 \r\n",
      "20040\r\n",
      "20042\r\n",
      "20045 \r\n",
      "20054 \r\n",
      "20057 \r\n",
      "20296\r\n",
      "20299 \r\n",
      "20306 \r\n",
      "20545 \r\n",
      "20562 \r\n",
      "20567\r\n",
      "21065\r\n",
      "21315 \r\n",
      "21316 \r\n",
      "21582\r\n",
      "21592\r\n",
      "21844\r\n",
      "22081 \r\n",
      "22089\r\n",
      "22100\r\n",
      "22337 \r\n",
      "22345\r\n",
      "22358 \r\n",
      "22361\r\n"
     ]
    }
   ],
   "source": [
    "!cat states"
   ]
  },
  {
   "cell_type": "markdown",
   "metadata": {},
   "source": [
    "# Results\n",
    "\n",
    "In order to save room in this notebook we copied the result of an earlier run into the states_run_log file and simply show the head and tail of that log below. \n",
    "\n",
    "To get similar results to these, simply run\n",
    "\n",
    "./asperf.py states --yosys --template template.lp\n",
    "\n",
    "Where states is the file shown above containing the 16-bit representation of each state and template.lp specifies a hash function of the form Ax mod B for some constants A and B (and an appropriate choice rule to choose those constants), as shown below."
   ]
  },
  {
   "cell_type": "code",
   "execution_count": 23,
   "metadata": {},
   "outputs": [
    {
     "name": "stdout",
     "output_type": "stream",
     "text": [
      "1 {const_bit(I,B,0..1)} 1 :- op(I,const),bit_index(B).\r\n",
      "  \r\n",
      "op(0, mod).\r\n",
      "\r\n",
      "edge(0,1).\r\n",
      "edge(0,2).\r\n",
      "\r\n",
      "op(2, const).\r\n",
      "op(1,mul).\r\n",
      "\r\n",
      "edge(1,3).\r\n",
      "edge(1,4).\r\n",
      "\r\n",
      "op(3, key).\r\n",
      "op(4, const).\r\n"
     ]
    }
   ],
   "source": [
    "!cat template.lp"
   ]
  },
  {
   "cell_type": "code",
   "execution_count": 12,
   "metadata": {
    "scrolled": true
   },
   "outputs": [
    {
     "name": "stdout",
     "output_type": "stream",
     "text": [
      "clingo version 5.2.0\r\n",
      "Reading from keys_states.lp ...\r\n",
      "circuit_int.lp:49:5-51: info: atom does not occur in any rule head:\r\n",
      "  device_port_bit_literal(Device,Port,Bit,Value)\r\n",
      "\r\n",
      "Solving...\r\n",
      "int hash(int key) {\r\n",
      "    int i2 = 32764;\r\n",
      "    int i4 = 7222;\r\n",
      "    int i3 = key;\r\n"
     ]
    }
   ],
   "source": [
    "!head states_run_log"
   ]
  },
  {
   "cell_type": "code",
   "execution_count": 22,
   "metadata": {
    "scrolled": false
   },
   "outputs": [
    {
     "name": "stdout",
     "output_type": "stream",
     "text": [
      "int hash(int key) {\r\n",
      "    int i2 = 215;\r\n",
      "    int i4 = 42351;\r\n",
      "    int i3 = key;\r\n",
      "    int i1 = 0xffff & (i3 * i4);\r\n",
      "    int i0 = i1 % i2;\r\n",
      "    return i0;\r\n",
      "}\r\n",
      "hash(16715) = 59\r\n",
      "hash(16716) = 94\r\n",
      "hash(16722) = 11\r\n",
      "hash(16723) = 7\r\n",
      "hash(16730) = 174\r\n",
      "hash(17217) = 191\r\n",
      "hash(17231) = 56\r\n",
      "hash(17236) = 153\r\n",
      "hash(17475) = 43\r\n",
      "hash(17477) = 113\r\n",
      "hash(17996) = 137\r\n",
      "hash(17997) = 172\r\n",
      "hash(18241) = 159\r\n",
      "hash(18261) = 156\r\n",
      "hash(18505) = 182\r\n",
      "hash(18753) = 55\r\n",
      "hash(18756) = 121\r\n",
      "hash(18764) = 69\r\n",
      "hash(18766) = 139\r\n",
      "hash(19283) = 132\r\n",
      "hash(19289) = 49\r\n",
      "hash(19521) = 202\r\n",
      "hash(19777) = 62\r\n",
      "hash(19780) = 128\r\n",
      "hash(19781) = 124\r\n",
      "hash(19784) = 190\r\n",
      "hash(19785) = 10\r\n",
      "hash(19790) = 107\r\n",
      "hash(19791) = 142\r\n",
      "hash(19792) = 177\r\n",
      "hash(19795) = 28\r\n",
      "hash(19796) = 24\r\n",
      "hash(20035) = 168\r\n",
      "hash(20036) = 164\r\n",
      "hash(20037) = 199\r\n",
      "hash(20040) = 50\r\n",
      "hash(20042) = 81\r\n",
      "hash(20045) = 147\r\n",
      "hash(20054) = 130\r\n",
      "hash(20057) = 196\r\n",
      "hash(20296) = 86\r\n",
      "hash(20299) = 152\r\n",
      "hash(20306) = 104\r\n",
      "hash(20545) = 209\r\n",
      "hash(20562) = 140\r\n",
      "hash(20567) = 22\r\n",
      "hash(21065) = 53\r\n",
      "hash(21315) = 211\r\n",
      "hash(21316) = 207\r\n",
      "hash(21582) = 46\r\n",
      "hash(21592) = 64\r\n",
      "hash(21844) = 38\r\n",
      "hash(22081) = 112\r\n",
      "hash(22089) = 60\r\n",
      "hash(22100) = 74\r\n",
      "hash(22337) = 148\r\n",
      "hash(22345) = 96\r\n",
      "hash(22358) = 180\r\n",
      "hash(22361) = 31\r\n",
      "Answer: 11\r\n",
      "edge(0,1) edge(0,2) edge(1,3) edge(1,4) op(0,mod) op(2,const) op(1,mul) op(3,key) op(4,const)\r\n",
      "Optimization: 211 5"
     ]
    }
   ],
   "source": [
    "!tail -n 70 states_run_log"
   ]
  },
  {
   "cell_type": "markdown",
   "metadata": {},
   "source": [
    "# Verification\n",
    "\n",
    "In order to verify our hash function was in fact valid we copied it into a small C++ program"
   ]
  },
  {
   "cell_type": "code",
   "execution_count": 27,
   "metadata": {
    "scrolled": true
   },
   "outputs": [
    {
     "name": "stdout",
     "output_type": "stream",
     "text": [
      "#include <iostream>\r\n",
      "using namespace std;\r\n",
      "\r\n",
      "int phash(int key) {\r\n",
      "  int i2 = 215;\r\n",
      "  int i4 = 42351;\r\n",
      "  int i3 = key;\r\n",
      "  int i1 = 0xFFFF & (i3 * i4);\r\n",
      "  int i0 = i1 % i2;\r\n",
      "  return i0;\r\n",
      "}\r\n",
      "\r\n",
      "\r\n",
      "int main() {\r\n",
      "\r\n",
      "  std::cout << \"phash(16715) = \" << phash(16715) << std::endl;\r\n",
      "  std::cout << \"phash(16716) = \" << phash(16716) << std::endl;\r\n",
      "  std::cout << \"phash(16722) = \" << phash(16722) << std::endl;\r\n",
      "  std::cout << \"phash(16723) = \" << phash(16723) << std::endl;\r\n",
      "  std::cout << \"phash(16730) = \" << phash(16730) << std::endl;\r\n",
      "  std::cout << \"phash(17217) = \" << phash(17217) << std::endl;\r\n",
      "  std::cout << \"phash(17231) = \" << phash(17231) << std::endl;\r\n",
      "  std::cout << \"phash(17236) = \" << phash(17236) << std::endl;\r\n",
      "  std::cout << \"phash(17475) = \" << phash(17475) << std::endl;\r\n",
      "  std::cout << \"phash(17477) = \" << phash(17477) << std::endl;\r\n",
      "  std::cout << \"phash(17996) = \" << phash(17996) << std::endl;\r\n",
      "  std::cout << \"phash(17997) = \" << phash(17997) << std::endl;\r\n",
      "  std::cout << \"phash(18241) = \" << phash(18241) << std::endl;\r\n",
      "  std::cout << \"phash(18261) = \" << phash(18261) << std::endl;\r\n",
      "  std::cout << \"phash(18505) = \" << phash(18505) << std::endl;\r\n",
      "  std::cout << \"phash(18753) = \" << phash(18753) << std::endl;\r\n",
      "  std::cout << \"phash(18756) = \" << phash(18756) << std::endl;\r\n",
      "  std::cout << \"phash(18764) = \" << phash(18764) << std::endl;\r\n",
      "  std::cout << \"phash(18766) = \" << phash(18766) << std::endl;\r\n",
      "  std::cout << \"phash(19283) = \" << phash(19283) << std::endl;\r\n",
      "  std::cout << \"phash(19289) = \" << phash(19289) << std::endl;\r\n",
      "  std::cout << \"phash(19521) = \" << phash(19521) << std::endl;\r\n",
      "  std::cout << \"phash(19777) = \" << phash(19777) << std::endl;\r\n",
      "  std::cout << \"phash(19780) = \" << phash(19780) << std::endl;\r\n",
      "  std::cout << \"phash(19781) = \" << phash(19781) << std::endl;\r\n",
      "  std::cout << \"phash(19784) = \" << phash(19784) << std::endl;\r\n",
      "  std::cout << \"phash(19785) = \" << phash(19785) << std::endl;\r\n",
      "  std::cout << \"phash(19790) = \" << phash(19790) << std::endl;\r\n",
      "  std::cout << \"phash(19791) = \" << phash(19791) << std::endl;\r\n",
      "  std::cout << \"phash(19792) = \" << phash(19792) << std::endl;\r\n",
      "  std::cout << \"phash(19795) = \" << phash(19795) << std::endl;\r\n",
      "  std::cout << \"phash(19796) = \" << phash(19796) << std::endl;\r\n",
      "  std::cout << \"phash(20035) = \" << phash(20035) << std::endl;\r\n",
      "  std::cout << \"phash(20036) = \" << phash(20036) << std::endl;\r\n",
      "  std::cout << \"phash(20037) = \" << phash(20037) << std::endl;\r\n",
      "  std::cout << \"phash(20040) = \" << phash(20040) << std::endl;\r\n",
      "  std::cout << \"phash(20042) = \" << phash(20042) << std::endl;\r\n",
      "  std::cout << \"phash(20045) = \" << phash(20045) << std::endl;\r\n",
      "  std::cout << \"phash(20054) = \" << phash(20054) << std::endl;\r\n",
      "  std::cout << \"phash(20057) = \" << phash(20057) << std::endl;\r\n",
      "  std::cout << \"phash(20296) = \" << phash(20296) << std::endl;\r\n",
      "  std::cout << \"phash(20299) = \" << phash(20299) << std::endl;\r\n",
      "  std::cout << \"phash(20306) = \" << phash(20306) << std::endl;\r\n",
      "  std::cout << \"phash(20545) = \" << phash(20545) << std::endl;\r\n",
      "  std::cout << \"phash(20562) = \" << phash(20562) << std::endl;\r\n",
      "  std::cout << \"phash(20567) = \" << phash(20567) << std::endl;\r\n",
      "  std::cout << \"phash(21065) = \" << phash(21065) << std::endl;\r\n",
      "  std::cout << \"phash(21315) = \" << phash(21315) << std::endl;\r\n",
      "  std::cout << \"phash(21316) = \" << phash(21316) << std::endl;\r\n",
      "  std::cout << \"phash(21582) = \" << phash(21582) << std::endl;\r\n",
      "  std::cout << \"phash(21592) = \" << phash(21592) << std::endl;\r\n",
      "  std::cout << \"phash(21844) = \" << phash(21844) << std::endl;\r\n",
      "  std::cout << \"phash(22081) = \" << phash(22081) << std::endl;\r\n",
      "  std::cout << \"phash(22089) = \" << phash(22089) << std::endl;\r\n",
      "  std::cout << \"phash(22100) = \" << phash(22100) << std::endl;\r\n",
      "  std::cout << \"phash(22337) = \" << phash(22337) << std::endl;\r\n",
      "  std::cout << \"phash(22345) = \" << phash(22345) << std::endl;\r\n",
      "  std::cout << \"phash(22358) = \" << phash(22358) << std::endl;\r\n",
      "  std::cout << \"phash(22361) = \" << phash(22361) << std::endl;\r\n",
      " \r\n",
      "\r\n",
      "  return 0;\r\n",
      "}\r\n"
     ]
    }
   ],
   "source": [
    "!cat states.cpp"
   ]
  },
  {
   "cell_type": "code",
   "execution_count": 28,
   "metadata": {
    "scrolled": true
   },
   "outputs": [
    {
     "name": "stdout",
     "output_type": "stream",
     "text": [
      "phash(16715) = 59\r\n",
      "phash(16716) = 94\r\n",
      "phash(16722) = 11\r\n",
      "phash(16723) = 7\r\n",
      "phash(16730) = 174\r\n",
      "phash(17217) = 191\r\n",
      "phash(17231) = 56\r\n",
      "phash(17236) = 153\r\n",
      "phash(17475) = 43\r\n",
      "phash(17477) = 113\r\n",
      "phash(17996) = 137\r\n",
      "phash(17997) = 172\r\n",
      "phash(18241) = 159\r\n",
      "phash(18261) = 156\r\n",
      "phash(18505) = 182\r\n",
      "phash(18753) = 55\r\n",
      "phash(18756) = 121\r\n",
      "phash(18764) = 69\r\n",
      "phash(18766) = 139\r\n",
      "phash(19283) = 132\r\n",
      "phash(19289) = 49\r\n",
      "phash(19521) = 202\r\n",
      "phash(19777) = 62\r\n",
      "phash(19780) = 128\r\n",
      "phash(19781) = 124\r\n",
      "phash(19784) = 190\r\n",
      "phash(19785) = 10\r\n",
      "phash(19790) = 107\r\n",
      "phash(19791) = 142\r\n",
      "phash(19792) = 177\r\n",
      "phash(19795) = 28\r\n",
      "phash(19796) = 24\r\n",
      "phash(20035) = 168\r\n",
      "phash(20036) = 164\r\n",
      "phash(20037) = 199\r\n",
      "phash(20040) = 50\r\n",
      "phash(20042) = 81\r\n",
      "phash(20045) = 147\r\n",
      "phash(20054) = 130\r\n",
      "phash(20057) = 196\r\n",
      "phash(20296) = 86\r\n",
      "phash(20299) = 152\r\n",
      "phash(20306) = 104\r\n",
      "phash(20545) = 209\r\n",
      "phash(20562) = 140\r\n",
      "phash(20567) = 22\r\n",
      "phash(21065) = 53\r\n",
      "phash(21315) = 211\r\n",
      "phash(21316) = 207\r\n",
      "phash(21582) = 46\r\n",
      "phash(21592) = 64\r\n",
      "phash(21844) = 38\r\n",
      "phash(22081) = 112\r\n",
      "phash(22089) = 60\r\n",
      "phash(22100) = 74\r\n",
      "phash(22337) = 148\r\n",
      "phash(22345) = 96\r\n",
      "phash(22358) = 180\r\n",
      "phash(22361) = 31\r\n"
     ]
    }
   ],
   "source": [
    "!g++ states.cpp -o states && ./states"
   ]
  },
  {
   "cell_type": "markdown",
   "metadata": {},
   "source": [
    "This is the same output as in our ASP implementation, so our function works!\n",
    "\n",
    "It should be noted that when we hash a collection of \"hard to hash numbers\" their result is also relatively hard to hash, as demonstrated below by trying to hash the hash values produced above. This further emphasizes out point that the hardness of hashing a collection of numbers is largely dependent on the number of bits that need to be examined to disambiguate two numbers."
   ]
  },
  {
   "cell_type": "code",
   "execution_count": 36,
   "metadata": {},
   "outputs": [
    {
     "name": "stdout",
     "output_type": "stream",
     "text": [
      "59\r\n",
      "94\r\n",
      "11\r\n",
      "7\r\n",
      "174\r\n",
      "191\r\n",
      "56\r\n",
      "153\r\n",
      "43\r\n",
      "113\r\n"
     ]
    }
   ],
   "source": [
    "!./statea | head"
   ]
  },
  {
   "cell_type": "code",
   "execution_count": 31,
   "metadata": {},
   "outputs": [],
   "source": [
    "!./statea > stateatest"
   ]
  },
  {
   "cell_type": "markdown",
   "metadata": {},
   "source": [
    "Running !python2 asperf.py stateatest --yosys -n 4 -p 4 we obtained"
   ]
  },
  {
   "cell_type": "code",
   "execution_count": 49,
   "metadata": {
    "scrolled": true
   },
   "outputs": [
    {
     "name": "stdout",
     "output_type": "stream",
     "text": [
      "int phash(int key) {\r\n",
      "    int i3 = 182;\r\n",
      "    int i2 = key;\r\n",
      "    int i0 = i2 % i3;\r\n",
      "    return i0;\r\n",
      "}\r\n",
      "hash(94) = 94\r\n",
      "hash(174) = 174\r\n",
      "hash(56) = 56\r\n",
      "hash(172) = 172\r\n",
      "hash(156) = 156\r\n",
      "hash(182) = 0\r\n",
      "hash(132) = 132\r\n",
      "hash(202) = 20\r\n",
      "hash(62) = 62\r\n",
      "hash(128) = 128\r\n",
      "hash(124) = 124\r\n",
      "hash(190) = 8\r\n",
      "hash(10) = 10\r\n",
      "hash(142) = 142\r\n",
      "hash(28) = 28\r\n",
      "hash(24) = 24\r\n",
      "hash(168) = 168\r\n",
      "hash(164) = 164\r\n",
      "hash(50) = 50\r\n",
      "hash(130) = 130\r\n",
      "hash(196) = 14\r\n",
      "hash(86) = 86\r\n",
      "hash(152) = 152\r\n",
      "hash(104) = 104\r\n",
      "hash(140) = 140\r\n",
      "hash(22) = 22\r\n",
      "hash(46) = 46\r\n",
      "hash(64) = 64\r\n",
      "hash(38) = 38\r\n",
      "hash(112) = 112\r\n",
      "hash(60) = 60\r\n",
      "hash(74) = 74\r\n",
      "hash(148) = 148\r\n",
      "hash(96) = 96\r\n",
      "hash(180) = 180\r\n",
      "hash(59) = 59\r\n",
      "hash(11) = 11\r\n",
      "hash(7) = 7\r\n",
      "hash(191) = 9\r\n",
      "hash(153) = 153\r\n",
      "hash(43) = 43\r\n",
      "hash(113) = 113\r\n",
      "hash(137) = 137\r\n",
      "hash(159) = 159\r\n",
      "hash(55) = 55\r\n",
      "hash(121) = 121\r\n",
      "hash(69) = 69\r\n",
      "hash(139) = 139\r\n",
      "hash(49) = 49\r\n",
      "hash(107) = 107\r\n",
      "hash(177) = 177\r\n",
      "hash(199) = 17\r\n",
      "hash(81) = 81\r\n",
      "hash(147) = 147\r\n",
      "hash(209) = 27\r\n",
      "hash(53) = 53\r\n",
      "hash(211) = 29\r\n",
      "hash(207) = 25\r\n",
      "hash(31) = 31\r\n",
      "Answer: 10\r\n",
      "edge(0,3) edge(0,2) op(3,const) op(2,key) op(0,mod)\r\n",
      "Optimization: 180 3"
     ]
    }
   ],
   "source": [
    "!tail -n 68 hash_again"
   ]
  },
  {
   "cell_type": "code",
   "execution_count": null,
   "metadata": {
    "collapsed": true
   },
   "outputs": [],
   "source": []
  }
 ],
 "metadata": {
  "kernelspec": {
   "display_name": "Python 2",
   "language": "python2",
   "name": "python2"
  },
  "language_info": {
   "codemirror_mode": {
    "name": "ipython",
    "version": 2
   },
   "file_extension": ".py",
   "mimetype": "text/x-python",
   "name": "python",
   "nbconvert_exporter": "python",
   "pygments_lexer": "ipython2",
   "version": "2.7.13"
  }
 },
 "nbformat": 4,
 "nbformat_minor": 2
}
